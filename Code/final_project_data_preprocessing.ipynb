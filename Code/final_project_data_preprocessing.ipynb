{
 "cells": [
  {
   "cell_type": "code",
   "execution_count": 90,
   "id": "e74e0916",
   "metadata": {},
   "outputs": [],
   "source": [
    "import pandas as pd\n",
    "import numpy as np\n",
    "import json\n",
    "import matplotlib.pyplot as plt\n",
    "import seaborn as sns"
   ]
  },
  {
   "cell_type": "code",
   "execution_count": 91,
   "id": "7b37a265",
   "metadata": {},
   "outputs": [],
   "source": [
    "df = pd.read_csv(\"data.csv\", low_memory = False)"
   ]
  },
  {
   "cell_type": "code",
   "execution_count": 92,
   "id": "fa864f3c",
   "metadata": {},
   "outputs": [
    {
     "data": {
      "text/html": [
       "<div>\n",
       "<style scoped>\n",
       "    .dataframe tbody tr th:only-of-type {\n",
       "        vertical-align: middle;\n",
       "    }\n",
       "\n",
       "    .dataframe tbody tr th {\n",
       "        vertical-align: top;\n",
       "    }\n",
       "\n",
       "    .dataframe thead th {\n",
       "        text-align: right;\n",
       "    }\n",
       "</style>\n",
       "<table border=\"1\" class=\"dataframe\">\n",
       "  <thead>\n",
       "    <tr style=\"text-align: right;\">\n",
       "      <th></th>\n",
       "      <th>zpid</th>\n",
       "      <th>id</th>\n",
       "      <th>providerListingId</th>\n",
       "      <th>imgSrc</th>\n",
       "      <th>hasImage</th>\n",
       "      <th>detailUrl</th>\n",
       "      <th>statusType</th>\n",
       "      <th>statusText</th>\n",
       "      <th>countryCurrency</th>\n",
       "      <th>price</th>\n",
       "      <th>...</th>\n",
       "      <th>datePriceChanged</th>\n",
       "      <th>rentZestimate</th>\n",
       "      <th>priceReduction</th>\n",
       "      <th>isPreforclosureAuction</th>\n",
       "      <th>taxAssessedValue</th>\n",
       "      <th>lotAreaValue</th>\n",
       "      <th>lotAreaUnit</th>\n",
       "      <th>priceReductionStr</th>\n",
       "      <th>lotAreaRaw</th>\n",
       "      <th>priceReductionRatio</th>\n",
       "    </tr>\n",
       "  </thead>\n",
       "  <tbody>\n",
       "    <tr>\n",
       "      <th>0</th>\n",
       "      <td>17319475</td>\n",
       "      <td>17319475</td>\n",
       "      <td>NaN</td>\n",
       "      <td>https://photos.zillowstatic.com/fp/0e49d7018ab...</td>\n",
       "      <td>True</td>\n",
       "      <td>https://www.zillow.com/homedetails/15807-Ceres...</td>\n",
       "      <td>FOR_SALE</td>\n",
       "      <td>House for sale</td>\n",
       "      <td>$</td>\n",
       "      <td>$449,000</td>\n",
       "      <td>...</td>\n",
       "      <td>NaN</td>\n",
       "      <td>2499.0</td>\n",
       "      <td>NaN</td>\n",
       "      <td>False</td>\n",
       "      <td>113023.0</td>\n",
       "      <td>0.2754820936639118</td>\n",
       "      <td>acres</td>\n",
       "      <td>0.0</td>\n",
       "      <td>12000.0</td>\n",
       "      <td>0.0</td>\n",
       "    </tr>\n",
       "    <tr>\n",
       "      <th>1</th>\n",
       "      <td>17315944</td>\n",
       "      <td>17315944</td>\n",
       "      <td>NaN</td>\n",
       "      <td>https://photos.zillowstatic.com/fp/0a54f45b1c5...</td>\n",
       "      <td>True</td>\n",
       "      <td>https://www.zillow.com/homedetails/6648-Logan-...</td>\n",
       "      <td>FOR_SALE</td>\n",
       "      <td>House for sale</td>\n",
       "      <td>$</td>\n",
       "      <td>$565,000</td>\n",
       "      <td>...</td>\n",
       "      <td>NaN</td>\n",
       "      <td>3200.0</td>\n",
       "      <td>NaN</td>\n",
       "      <td>False</td>\n",
       "      <td>259935.0</td>\n",
       "      <td>6620.0</td>\n",
       "      <td>sqft</td>\n",
       "      <td>0.0</td>\n",
       "      <td>6620.0</td>\n",
       "      <td>0.0</td>\n",
       "    </tr>\n",
       "    <tr>\n",
       "      <th>2</th>\n",
       "      <td>59194876</td>\n",
       "      <td>59194876</td>\n",
       "      <td>NaN</td>\n",
       "      <td>https://photos.zillowstatic.com/fp/9e05ed151ed...</td>\n",
       "      <td>True</td>\n",
       "      <td>https://www.zillow.com/homedetails/9508-Marcon...</td>\n",
       "      <td>FOR_SALE</td>\n",
       "      <td>House for sale</td>\n",
       "      <td>$</td>\n",
       "      <td>$520,000</td>\n",
       "      <td>...</td>\n",
       "      <td>NaN</td>\n",
       "      <td>2694.0</td>\n",
       "      <td>NaN</td>\n",
       "      <td>False</td>\n",
       "      <td>257453.0</td>\n",
       "      <td>8663.0</td>\n",
       "      <td>sqft</td>\n",
       "      <td>0.0</td>\n",
       "      <td>8663.0</td>\n",
       "      <td>0.0</td>\n",
       "    </tr>\n",
       "    <tr>\n",
       "      <th>3</th>\n",
       "      <td>94691896</td>\n",
       "      <td>94691896</td>\n",
       "      <td>NaN</td>\n",
       "      <td>https://photos.zillowstatic.com/fp/568ced22116...</td>\n",
       "      <td>True</td>\n",
       "      <td>https://www.zillow.com/homedetails/17625-Hawth...</td>\n",
       "      <td>FOR_SALE</td>\n",
       "      <td>House for sale</td>\n",
       "      <td>$</td>\n",
       "      <td>$799,900</td>\n",
       "      <td>...</td>\n",
       "      <td>1647500400000.0</td>\n",
       "      <td>2929.0</td>\n",
       "      <td>NaN</td>\n",
       "      <td>False</td>\n",
       "      <td>346983.0</td>\n",
       "      <td>0.3693985307621671</td>\n",
       "      <td>acres</td>\n",
       "      <td>0.0</td>\n",
       "      <td>16091.0</td>\n",
       "      <td>0.0</td>\n",
       "    </tr>\n",
       "    <tr>\n",
       "      <th>4</th>\n",
       "      <td>17338891</td>\n",
       "      <td>17338891</td>\n",
       "      <td>NaN</td>\n",
       "      <td>https://photos.zillowstatic.com/fp/2f5d9b9bed3...</td>\n",
       "      <td>True</td>\n",
       "      <td>https://www.zillow.com/homedetails/16562-Iris-...</td>\n",
       "      <td>FOR_SALE</td>\n",
       "      <td>House for sale</td>\n",
       "      <td>$</td>\n",
       "      <td>$519,999</td>\n",
       "      <td>...</td>\n",
       "      <td>NaN</td>\n",
       "      <td>2928.0</td>\n",
       "      <td>NaN</td>\n",
       "      <td>False</td>\n",
       "      <td>412227.0</td>\n",
       "      <td>8700.0</td>\n",
       "      <td>sqft</td>\n",
       "      <td>0.0</td>\n",
       "      <td>8700.0</td>\n",
       "      <td>0.0</td>\n",
       "    </tr>\n",
       "  </tbody>\n",
       "</table>\n",
       "<p>5 rows × 63 columns</p>\n",
       "</div>"
      ],
      "text/plain": [
       "       zpid        id providerListingId  \\\n",
       "0  17319475  17319475               NaN   \n",
       "1  17315944  17315944               NaN   \n",
       "2  59194876  59194876               NaN   \n",
       "3  94691896  94691896               NaN   \n",
       "4  17338891  17338891               NaN   \n",
       "\n",
       "                                              imgSrc hasImage  \\\n",
       "0  https://photos.zillowstatic.com/fp/0e49d7018ab...     True   \n",
       "1  https://photos.zillowstatic.com/fp/0a54f45b1c5...     True   \n",
       "2  https://photos.zillowstatic.com/fp/9e05ed151ed...     True   \n",
       "3  https://photos.zillowstatic.com/fp/568ced22116...     True   \n",
       "4  https://photos.zillowstatic.com/fp/2f5d9b9bed3...     True   \n",
       "\n",
       "                                           detailUrl statusType  \\\n",
       "0  https://www.zillow.com/homedetails/15807-Ceres...   FOR_SALE   \n",
       "1  https://www.zillow.com/homedetails/6648-Logan-...   FOR_SALE   \n",
       "2  https://www.zillow.com/homedetails/9508-Marcon...   FOR_SALE   \n",
       "3  https://www.zillow.com/homedetails/17625-Hawth...   FOR_SALE   \n",
       "4  https://www.zillow.com/homedetails/16562-Iris-...   FOR_SALE   \n",
       "\n",
       "       statusText countryCurrency     price  ... datePriceChanged  \\\n",
       "0  House for sale               $  $449,000  ...              NaN   \n",
       "1  House for sale               $  $565,000  ...              NaN   \n",
       "2  House for sale               $  $520,000  ...              NaN   \n",
       "3  House for sale               $  $799,900  ...  1647500400000.0   \n",
       "4  House for sale               $  $519,999  ...              NaN   \n",
       "\n",
       "  rentZestimate priceReduction isPreforclosureAuction taxAssessedValue  \\\n",
       "0        2499.0            NaN                  False         113023.0   \n",
       "1        3200.0            NaN                  False         259935.0   \n",
       "2        2694.0            NaN                  False         257453.0   \n",
       "3        2929.0            NaN                  False         346983.0   \n",
       "4        2928.0            NaN                  False         412227.0   \n",
       "\n",
       "         lotAreaValue lotAreaUnit priceReductionStr lotAreaRaw  \\\n",
       "0  0.2754820936639118       acres               0.0    12000.0   \n",
       "1              6620.0        sqft               0.0     6620.0   \n",
       "2              8663.0        sqft               0.0     8663.0   \n",
       "3  0.3693985307621671       acres               0.0    16091.0   \n",
       "4              8700.0        sqft               0.0     8700.0   \n",
       "\n",
       "  priceReductionRatio  \n",
       "0                 0.0  \n",
       "1                 0.0  \n",
       "2                 0.0  \n",
       "3                 0.0  \n",
       "4                 0.0  \n",
       "\n",
       "[5 rows x 63 columns]"
      ]
     },
     "execution_count": 92,
     "metadata": {},
     "output_type": "execute_result"
    }
   ],
   "source": [
    "df.head()"
   ]
  },
  {
   "cell_type": "code",
   "execution_count": 93,
   "id": "07ec331f",
   "metadata": {},
   "outputs": [
    {
     "data": {
      "text/plain": [
       "(127014, 63)"
      ]
     },
     "execution_count": 93,
     "metadata": {},
     "output_type": "execute_result"
    }
   ],
   "source": [
    "df.shape"
   ]
  },
  {
   "cell_type": "markdown",
   "id": "ac63fee2",
   "metadata": {},
   "source": [
    "## Data Cleaning"
   ]
  },
  {
   "cell_type": "code",
   "execution_count": 5,
   "id": "df093cd4",
   "metadata": {
    "scrolled": true
   },
   "outputs": [
    {
     "name": "stdout",
     "output_type": "stream",
     "text": [
      "<class 'pandas.core.frame.DataFrame'>\n",
      "RangeIndex: 127014 entries, 0 to 127013\n",
      "Data columns (total 63 columns):\n",
      " #   Column                      Non-Null Count   Dtype \n",
      "---  ------                      --------------   ----- \n",
      " 0   zpid                        127004 non-null  object\n",
      " 1   id                          127014 non-null  object\n",
      " 2   providerListingId           13182 non-null   object\n",
      " 3   imgSrc                      127004 non-null  object\n",
      " 4   hasImage                    125360 non-null  object\n",
      " 5   detailUrl                   127013 non-null  object\n",
      " 6   statusType                  127012 non-null  object\n",
      " 7   statusText                  127012 non-null  object\n",
      " 8   countryCurrency             127013 non-null  object\n",
      " 9   price                       126995 non-null  object\n",
      " 10  unformattedPrice            126995 non-null  object\n",
      " 11  address                     127012 non-null  object\n",
      " 12  addressStreet               127011 non-null  object\n",
      " 13  addressCity                 127012 non-null  object\n",
      " 14  addressState                127012 non-null  object\n",
      " 15  addressZipcode              127011 non-null  object\n",
      " 16  isUndisclosedAddress        127012 non-null  object\n",
      " 17  beds                        113397 non-null  object\n",
      " 18  baths                       116119 non-null  object\n",
      " 19  area                        109739 non-null  object\n",
      " 20  latLong                     127011 non-null  object\n",
      " 21  isZillowOwned               127012 non-null  object\n",
      " 22  variableData                113884 non-null  object\n",
      " 23  badgeInfo                   2 non-null       object\n",
      " 24  hdpData                     127012 non-null  object\n",
      " 25  isSaved                     127012 non-null  object\n",
      " 26  isUserClaimingOwner         127012 non-null  object\n",
      " 27  isUserConfirmedClaim        127011 non-null  object\n",
      " 28  pgapt                       127012 non-null  object\n",
      " 29  sgapt                       127012 non-null  object\n",
      " 30  zestimate                   65921 non-null   object\n",
      " 31  shouldShowZestimateAsPrice  127012 non-null  object\n",
      " 32  has3DModel                  127011 non-null  object\n",
      " 33  hasVideo                    127012 non-null  object\n",
      " 34  isHomeRec                   127012 non-null  object\n",
      " 35  info2String                 26610 non-null   object\n",
      " 36  brokerName                  95434 non-null   object\n",
      " 37  hasAdditionalAttributions   127012 non-null  object\n",
      " 38  isFeaturedListing           127012 non-null  object\n",
      " 39  availabilityDate            797 non-null     object\n",
      " 40  list                        127011 non-null  object\n",
      " 41  relaxed                     127011 non-null  object\n",
      " 42  info3String                 48439 non-null   object\n",
      " 43  hasOpenHouse                9686 non-null    object\n",
      " 44  openHouseStartDate          9687 non-null    object\n",
      " 45  openHouseEndDate            9687 non-null    object\n",
      " 46  openHouseDescription        9687 non-null    object\n",
      " 47  builderName                 12479 non-null   object\n",
      " 48  timeOfExtraction            127012 non-null  object\n",
      " 49  extractionDate              126772 non-null  object\n",
      " 50  homeType                    125596 non-null  object\n",
      " 51  daysOnZillow                125596 non-null  object\n",
      " 52  isFeatured                  125596 non-null  object\n",
      " 53  datePriceChanged            34142 non-null   object\n",
      " 54  rentZestimate               79750 non-null   object\n",
      " 55  priceReduction              17129 non-null   object\n",
      " 56  isPreforclosureAuction      125597 non-null  object\n",
      " 57  taxAssessedValue            90893 non-null   object\n",
      " 58  lotAreaValue                101678 non-null  object\n",
      " 59  lotAreaUnit                 101678 non-null  object\n",
      " 60  priceReductionStr           124181 non-null  object\n",
      " 61  lotAreaRaw                  124181 non-null  object\n",
      " 62  priceReductionRatio         124163 non-null  object\n",
      "dtypes: object(63)\n",
      "memory usage: 61.0+ MB\n"
     ]
    }
   ],
   "source": [
    "df.info()"
   ]
  },
  {
   "cell_type": "markdown",
   "id": "95067ee7",
   "metadata": {},
   "source": [
    "Check columns with missing values"
   ]
  },
  {
   "cell_type": "code",
   "execution_count": 6,
   "id": "99fb6343",
   "metadata": {},
   "outputs": [],
   "source": [
    "cutoff = 0.2\n",
    "col = []\n",
    "\n",
    "for name in list(df.columns):\n",
    "    \n",
    "    if df[name].isna().sum()/df.shape[0] > cutoff:\n",
    "        col.append(name)"
   ]
  },
  {
   "cell_type": "code",
   "execution_count": 7,
   "id": "682da002",
   "metadata": {
    "scrolled": true
   },
   "outputs": [
    {
     "name": "stdout",
     "output_type": "stream",
     "text": [
      "16 columns have over 20.0% missing values,\n"
     ]
    },
    {
     "data": {
      "text/plain": [
       "['providerListingId',\n",
       " 'badgeInfo',\n",
       " 'zestimate',\n",
       " 'info2String',\n",
       " 'brokerName',\n",
       " 'availabilityDate',\n",
       " 'info3String',\n",
       " 'hasOpenHouse',\n",
       " 'openHouseStartDate',\n",
       " 'openHouseEndDate',\n",
       " 'openHouseDescription',\n",
       " 'builderName',\n",
       " 'datePriceChanged',\n",
       " 'rentZestimate',\n",
       " 'priceReduction',\n",
       " 'taxAssessedValue']"
      ]
     },
     "execution_count": 7,
     "metadata": {},
     "output_type": "execute_result"
    }
   ],
   "source": [
    "print(len(col), 'columns have over {}% missing values,'.format(cutoff*100))\n",
    "col"
   ]
  },
  {
   "cell_type": "markdown",
   "id": "7efe134b",
   "metadata": {},
   "source": [
    "Because the above columns have too many missing values, it wouldn't make sense to impute missing values for these columns. Therefore, we will drop these columns."
   ]
  },
  {
   "cell_type": "code",
   "execution_count": 8,
   "id": "1e421ca1",
   "metadata": {},
   "outputs": [],
   "source": [
    "df.drop(columns = col, inplace = True)"
   ]
  },
  {
   "cell_type": "markdown",
   "id": "6dc6058a",
   "metadata": {},
   "source": [
    "It wouldn't make sense to include ids and urls in our models, so, we decided to drop zpid, id, imgSrc and detailUrl. "
   ]
  },
  {
   "cell_type": "code",
   "execution_count": 9,
   "id": "5b695182",
   "metadata": {},
   "outputs": [],
   "source": [
    "df.drop(columns = ['zpid', 'id', 'imgSrc', 'detailUrl'], inplace = True)"
   ]
  },
  {
   "cell_type": "code",
   "execution_count": 11,
   "id": "7e612adb",
   "metadata": {
    "scrolled": true
   },
   "outputs": [
    {
     "data": {
      "text/html": [
       "<div>\n",
       "<style scoped>\n",
       "    .dataframe tbody tr th:only-of-type {\n",
       "        vertical-align: middle;\n",
       "    }\n",
       "\n",
       "    .dataframe tbody tr th {\n",
       "        vertical-align: top;\n",
       "    }\n",
       "\n",
       "    .dataframe thead th {\n",
       "        text-align: right;\n",
       "    }\n",
       "</style>\n",
       "<table border=\"1\" class=\"dataframe\">\n",
       "  <thead>\n",
       "    <tr style=\"text-align: right;\">\n",
       "      <th></th>\n",
       "      <th>hasImage</th>\n",
       "      <th>statusType</th>\n",
       "      <th>statusText</th>\n",
       "      <th>price</th>\n",
       "      <th>unformattedPrice</th>\n",
       "      <th>address</th>\n",
       "      <th>addressStreet</th>\n",
       "      <th>addressCity</th>\n",
       "      <th>addressState</th>\n",
       "      <th>addressZipcode</th>\n",
       "      <th>...</th>\n",
       "      <th>extractionDate</th>\n",
       "      <th>homeType</th>\n",
       "      <th>daysOnZillow</th>\n",
       "      <th>isFeatured</th>\n",
       "      <th>isPreforclosureAuction</th>\n",
       "      <th>lotAreaValue</th>\n",
       "      <th>lotAreaUnit</th>\n",
       "      <th>priceReductionStr</th>\n",
       "      <th>lotAreaRaw</th>\n",
       "      <th>priceReductionRatio</th>\n",
       "    </tr>\n",
       "    <tr>\n",
       "      <th>countryCurrency</th>\n",
       "      <th></th>\n",
       "      <th></th>\n",
       "      <th></th>\n",
       "      <th></th>\n",
       "      <th></th>\n",
       "      <th></th>\n",
       "      <th></th>\n",
       "      <th></th>\n",
       "      <th></th>\n",
       "      <th></th>\n",
       "      <th></th>\n",
       "      <th></th>\n",
       "      <th></th>\n",
       "      <th></th>\n",
       "      <th></th>\n",
       "      <th></th>\n",
       "      <th></th>\n",
       "      <th></th>\n",
       "      <th></th>\n",
       "      <th></th>\n",
       "      <th></th>\n",
       "    </tr>\n",
       "  </thead>\n",
       "  <tbody>\n",
       "    <tr>\n",
       "      <th>$</th>\n",
       "      <td>123994</td>\n",
       "      <td>125544</td>\n",
       "      <td>125544</td>\n",
       "      <td>125526</td>\n",
       "      <td>125526</td>\n",
       "      <td>125544</td>\n",
       "      <td>125543</td>\n",
       "      <td>125544</td>\n",
       "      <td>125544</td>\n",
       "      <td>125543</td>\n",
       "      <td>...</td>\n",
       "      <td>125304</td>\n",
       "      <td>124129</td>\n",
       "      <td>124129</td>\n",
       "      <td>124129</td>\n",
       "      <td>124129</td>\n",
       "      <td>101110</td>\n",
       "      <td>101110</td>\n",
       "      <td>122714</td>\n",
       "      <td>122714</td>\n",
       "      <td>122696</td>\n",
       "    </tr>\n",
       "    <tr>\n",
       "      <th>0.0</th>\n",
       "      <td>1</td>\n",
       "      <td>0</td>\n",
       "      <td>0</td>\n",
       "      <td>1</td>\n",
       "      <td>1</td>\n",
       "      <td>0</td>\n",
       "      <td>0</td>\n",
       "      <td>0</td>\n",
       "      <td>0</td>\n",
       "      <td>0</td>\n",
       "      <td>...</td>\n",
       "      <td>0</td>\n",
       "      <td>0</td>\n",
       "      <td>0</td>\n",
       "      <td>0</td>\n",
       "      <td>0</td>\n",
       "      <td>0</td>\n",
       "      <td>0</td>\n",
       "      <td>0</td>\n",
       "      <td>0</td>\n",
       "      <td>0</td>\n",
       "    </tr>\n",
       "    <tr>\n",
       "      <th>2625 Paul Quinn Rd #A, Houston, TX 77091</th>\n",
       "      <td>1</td>\n",
       "      <td>1</td>\n",
       "      <td>1</td>\n",
       "      <td>1</td>\n",
       "      <td>1</td>\n",
       "      <td>1</td>\n",
       "      <td>1</td>\n",
       "      <td>1</td>\n",
       "      <td>1</td>\n",
       "      <td>1</td>\n",
       "      <td>...</td>\n",
       "      <td>1</td>\n",
       "      <td>0</td>\n",
       "      <td>0</td>\n",
       "      <td>0</td>\n",
       "      <td>1</td>\n",
       "      <td>1</td>\n",
       "      <td>1</td>\n",
       "      <td>0</td>\n",
       "      <td>0</td>\n",
       "      <td>0</td>\n",
       "    </tr>\n",
       "    <tr>\n",
       "      <th>C$</th>\n",
       "      <td>1362</td>\n",
       "      <td>1466</td>\n",
       "      <td>1466</td>\n",
       "      <td>1466</td>\n",
       "      <td>1466</td>\n",
       "      <td>1466</td>\n",
       "      <td>1466</td>\n",
       "      <td>1466</td>\n",
       "      <td>1466</td>\n",
       "      <td>1466</td>\n",
       "      <td>...</td>\n",
       "      <td>1466</td>\n",
       "      <td>1466</td>\n",
       "      <td>1466</td>\n",
       "      <td>1466</td>\n",
       "      <td>1466</td>\n",
       "      <td>566</td>\n",
       "      <td>566</td>\n",
       "      <td>1466</td>\n",
       "      <td>1466</td>\n",
       "      <td>1466</td>\n",
       "    </tr>\n",
       "    <tr>\n",
       "      <th>countryCurrency</th>\n",
       "      <td>1</td>\n",
       "      <td>1</td>\n",
       "      <td>1</td>\n",
       "      <td>1</td>\n",
       "      <td>1</td>\n",
       "      <td>1</td>\n",
       "      <td>1</td>\n",
       "      <td>1</td>\n",
       "      <td>1</td>\n",
       "      <td>1</td>\n",
       "      <td>...</td>\n",
       "      <td>1</td>\n",
       "      <td>1</td>\n",
       "      <td>1</td>\n",
       "      <td>1</td>\n",
       "      <td>1</td>\n",
       "      <td>1</td>\n",
       "      <td>1</td>\n",
       "      <td>1</td>\n",
       "      <td>1</td>\n",
       "      <td>1</td>\n",
       "    </tr>\n",
       "  </tbody>\n",
       "</table>\n",
       "<p>5 rows × 42 columns</p>\n",
       "</div>"
      ],
      "text/plain": [
       "                                          hasImage  statusType  statusText  \\\n",
       "countryCurrency                                                              \n",
       "$                                           123994      125544      125544   \n",
       "0.0                                              1           0           0   \n",
       "2625 Paul Quinn Rd #A, Houston, TX 77091         1           1           1   \n",
       "C$                                            1362        1466        1466   \n",
       "countryCurrency                                  1           1           1   \n",
       "\n",
       "                                           price  unformattedPrice  address  \\\n",
       "countryCurrency                                                               \n",
       "$                                         125526            125526   125544   \n",
       "0.0                                            1                 1        0   \n",
       "2625 Paul Quinn Rd #A, Houston, TX 77091       1                 1        1   \n",
       "C$                                          1466              1466     1466   \n",
       "countryCurrency                                1                 1        1   \n",
       "\n",
       "                                          addressStreet  addressCity  \\\n",
       "countryCurrency                                                        \n",
       "$                                                125543       125544   \n",
       "0.0                                                   0            0   \n",
       "2625 Paul Quinn Rd #A, Houston, TX 77091              1            1   \n",
       "C$                                                 1466         1466   \n",
       "countryCurrency                                       1            1   \n",
       "\n",
       "                                          addressState  addressZipcode  ...  \\\n",
       "countryCurrency                                                         ...   \n",
       "$                                               125544          125543  ...   \n",
       "0.0                                                  0               0  ...   \n",
       "2625 Paul Quinn Rd #A, Houston, TX 77091             1               1  ...   \n",
       "C$                                                1466            1466  ...   \n",
       "countryCurrency                                      1               1  ...   \n",
       "\n",
       "                                          extractionDate  homeType  \\\n",
       "countryCurrency                                                      \n",
       "$                                                 125304    124129   \n",
       "0.0                                                    0         0   \n",
       "2625 Paul Quinn Rd #A, Houston, TX 77091               1         0   \n",
       "C$                                                  1466      1466   \n",
       "countryCurrency                                        1         1   \n",
       "\n",
       "                                          daysOnZillow  isFeatured  \\\n",
       "countryCurrency                                                      \n",
       "$                                               124129      124129   \n",
       "0.0                                                  0           0   \n",
       "2625 Paul Quinn Rd #A, Houston, TX 77091             0           0   \n",
       "C$                                                1466        1466   \n",
       "countryCurrency                                      1           1   \n",
       "\n",
       "                                          isPreforclosureAuction  \\\n",
       "countryCurrency                                                    \n",
       "$                                                         124129   \n",
       "0.0                                                            0   \n",
       "2625 Paul Quinn Rd #A, Houston, TX 77091                       1   \n",
       "C$                                                          1466   \n",
       "countryCurrency                                                1   \n",
       "\n",
       "                                          lotAreaValue  lotAreaUnit  \\\n",
       "countryCurrency                                                       \n",
       "$                                               101110       101110   \n",
       "0.0                                                  0            0   \n",
       "2625 Paul Quinn Rd #A, Houston, TX 77091             1            1   \n",
       "C$                                                 566          566   \n",
       "countryCurrency                                      1            1   \n",
       "\n",
       "                                          priceReductionStr  lotAreaRaw  \\\n",
       "countryCurrency                                                           \n",
       "$                                                    122714      122714   \n",
       "0.0                                                       0           0   \n",
       "2625 Paul Quinn Rd #A, Houston, TX 77091                  0           0   \n",
       "C$                                                     1466        1466   \n",
       "countryCurrency                                           1           1   \n",
       "\n",
       "                                          priceReductionRatio  \n",
       "countryCurrency                                                \n",
       "$                                                      122696  \n",
       "0.0                                                         0  \n",
       "2625 Paul Quinn Rd #A, Houston, TX 77091                    0  \n",
       "C$                                                       1466  \n",
       "countryCurrency                                             1  \n",
       "\n",
       "[5 rows x 42 columns]"
      ]
     },
     "execution_count": 11,
     "metadata": {},
     "output_type": "execute_result"
    }
   ],
   "source": [
    "df.groupby('countryCurrency').count()"
   ]
  },
  {
   "cell_type": "markdown",
   "id": "7bb45dde",
   "metadata": {},
   "source": [
    "Because the majority of house prices are denoted in dollars, we will only keep rows that are in $. Moreover, columns such as 'countryCurrency', 'price' and 'unformattedPrice' contain duplicate information. We will drop 'countryCurrency' and 'price'."
   ]
  },
  {
   "cell_type": "code",
   "execution_count": 12,
   "id": "0703aa8b",
   "metadata": {},
   "outputs": [],
   "source": [
    "df = df[df['countryCurrency'] == '$']"
   ]
  },
  {
   "cell_type": "code",
   "execution_count": 13,
   "id": "07708051",
   "metadata": {},
   "outputs": [],
   "source": [
    "df.drop(columns = ['countryCurrency', 'price'], inplace = True)"
   ]
  },
  {
   "cell_type": "markdown",
   "id": "142aa66f",
   "metadata": {},
   "source": [
    "The variable \"variableData\" and \"hdpData\" contain information in a dictionary, so we will take a closer look at these two columns and extract information we need. "
   ]
  },
  {
   "cell_type": "code",
   "execution_count": 14,
   "id": "9e87bb91",
   "metadata": {
    "scrolled": true
   },
   "outputs": [
    {
     "data": {
      "text/plain": [
       "0           {'type': 'DAYS_ON', 'text': '7 days on Zillow'}\n",
       "1          {'type': 'DAYS_ON', 'text': '10 days on Zillow'}\n",
       "2         {'type': 'OPEN_HOUSE', 'text': 'Open: Fri. 1-5...\n",
       "3         {'type': 'DAYS_ON', 'text': '127 days on Zillow'}\n",
       "4           {'type': 'DAYS_ON', 'text': '8 days on Zillow'}\n",
       "                                ...                        \n",
       "127009    {'type': 'DAYS_ON', 'text': '219 days on Zillow'}\n",
       "127010    {'type': 'DAYS_ON', 'text': '219 days on Zillow'}\n",
       "127011     {'type': 'DAYS_ON', 'text': '33 days on Zillow'}\n",
       "127012     {'type': 'DAYS_ON', 'text': '20 days on Zillow'}\n",
       "127013    {'type': 'DAYS_ON', 'text': '194 days on Zillow'}\n",
       "Name: variableData, Length: 125544, dtype: object"
      ]
     },
     "execution_count": 14,
     "metadata": {},
     "output_type": "execute_result"
    }
   ],
   "source": [
    "df['variableData']"
   ]
  },
  {
   "cell_type": "code",
   "execution_count": 15,
   "id": "684ad8e6",
   "metadata": {
    "scrolled": false
   },
   "outputs": [
    {
     "data": {
      "text/plain": [
       "-1      119111\n",
       "-1.0      5018\n",
       "Name: daysOnZillow, dtype: int64"
      ]
     },
     "execution_count": 15,
     "metadata": {},
     "output_type": "execute_result"
    }
   ],
   "source": [
    "df['daysOnZillow'].value_counts()"
   ]
  },
  {
   "cell_type": "code",
   "execution_count": 16,
   "id": "ea34dc85",
   "metadata": {},
   "outputs": [],
   "source": [
    "df.reset_index(inplace = True)"
   ]
  },
  {
   "cell_type": "markdown",
   "id": "f30c5bd8",
   "metadata": {},
   "source": [
    "The 'variableData' column contains information about how long this property has been listed on Zillow, which is similar to another column 'daysOnZillow'. However, the 'daysOnZillow' column in the original dataset contains only 1, which is meaningless to our analysis. We decided to drop the 'daysOnZillow' column. \n",
    "\n",
    "The 'variableData' column also contains the open house information. We want to look at the distribution of each category, then decide whether to keep this column."
   ]
  },
  {
   "cell_type": "code",
   "execution_count": 17,
   "id": "78b0e218",
   "metadata": {},
   "outputs": [],
   "source": [
    "df['variableData'].fillna('{\"type\": \\'None\\'}', inplace = True)"
   ]
  },
  {
   "cell_type": "code",
   "execution_count": 18,
   "id": "4edceec6",
   "metadata": {
    "scrolled": false
   },
   "outputs": [
    {
     "data": {
      "text/plain": [
       "DAYS_ON              68476\n",
       "OPEN_HOUSE           16808\n",
       "PRICE_REDUCTION      14357\n",
       "None                 12310\n",
       "3D_HOME               7103\n",
       "TIME_ON_INFO          4109\n",
       "VIDEO_WALKTHROUGH     1953\n",
       "MARKET_UPDATE          359\n",
       "PRICE_CHANGE            69\n",
       "Name: variableData, dtype: int64"
      ]
     },
     "execution_count": 18,
     "metadata": {},
     "output_type": "execute_result"
    }
   ],
   "source": [
    "df['variableData'].apply(lambda x: json.loads(x.replace(\"'\", '\"').replace('False', 'false')\n",
    "                                              .replace('\"s', \"'s\").replace('\"co', \"'co\"))['type']).value_counts()"
   ]
  },
  {
   "cell_type": "markdown",
   "id": "9aaffc83",
   "metadata": {},
   "source": [
    "Only 68476 rows contain information relating to 'daysOnZillow', therefore we could just this column."
   ]
  },
  {
   "cell_type": "code",
   "execution_count": 19,
   "id": "4bc0c9db",
   "metadata": {
    "scrolled": false
   },
   "outputs": [
    {
     "data": {
      "text/plain": [
       "'{\\'homeInfo\\': {\\'zpid\\': \\'17319475\\', \\'streetAddress\\': \\'15807 Ceres Ave\\', \\'zipcode\\': \\'92335\\', \\'city\\': \\'Fontana\\', \\'state\\': \\'CA\\', \\'latitude\\': \\'34.09275\\', \\'longitude\\': \\'-117.46006\\', \\'price\\': \\'449000\\', \\'bathrooms\\': \\'1\\', \\'bedrooms\\': \\'3\\', \\'livingArea\\': \\'1298\\', \\'homeType\\': \\'SINGLE_FAMILY\\', \\'homeStatus\\': \\'FOR_SALE\\', \\'daysOnZillow\\': \\'-1\\', \\'isFeatured\\': \\'False\\', \\'shouldHighlight\\': \\'False\\', \\'zestimate\\': \\'457100\\', \\'rentZestimate\\': \\'2499\\', \\'listing_sub_type\\': \"{\\'is_FSBA\\': True}\", \\'isUnmappable\\': \\'False\\', \\'isPreforeclosureAuction\\': \\'False\\', \\'homeStatusForHDP\\': \\'FOR_SALE\\', \\'priceForHDP\\': \\'449000\\', \\'isNonOwnerOccupied\\': \\'True\\', \\'isPremierBuilder\\': \\'False\\', \\'isZillowOwned\\': \\'False\\', \\'currency\\': \\'USD\\', \\'country\\': \\'USA\\', \\'taxAssessedValue\\': \\'113023\\', \\'lotAreaValue\\': \\'0.27548209366391185\\', \\'lotAreaUnit\\': \\'acres\\'}}'"
      ]
     },
     "execution_count": 19,
     "metadata": {},
     "output_type": "execute_result"
    }
   ],
   "source": [
    "df['hdpData'][0]"
   ]
  },
  {
   "cell_type": "markdown",
   "id": "b82ccbdc",
   "metadata": {},
   "source": [
    "Column 'hdpData' contains information already exist, therefore, we decided to drop this column."
   ]
  },
  {
   "cell_type": "code",
   "execution_count": 20,
   "id": "7a788645",
   "metadata": {},
   "outputs": [],
   "source": [
    "df.drop(columns = ['daysOnZillow', 'variableData', 'hdpData'], inplace = True)"
   ]
  },
  {
   "cell_type": "markdown",
   "id": "8bc844e3",
   "metadata": {},
   "source": [
    "Moreover, a variable with only one unique value will be meaningless to our analysis. Therefore, we will drop these columns. "
   ]
  },
  {
   "cell_type": "code",
   "execution_count": 21,
   "id": "c1569472",
   "metadata": {},
   "outputs": [],
   "source": [
    "col = []\n",
    "for i in list(df.columns):\n",
    "    \n",
    "    if len(df[i].unique()) == 1:\n",
    "        col.append(i)"
   ]
  },
  {
   "cell_type": "code",
   "execution_count": 22,
   "id": "8ccf3b7c",
   "metadata": {},
   "outputs": [
    {
     "name": "stdout",
     "output_type": "stream",
     "text": [
      "9 columns have only one unique value.\n"
     ]
    },
    {
     "data": {
      "text/plain": [
       "['statusType',\n",
       " 'isSaved',\n",
       " 'isUserClaimingOwner',\n",
       " 'isUserConfirmedClaim',\n",
       " 'shouldShowZestimateAsPrice',\n",
       " 'isHomeRec',\n",
       " 'isFeaturedListing',\n",
       " 'list',\n",
       " 'relaxed']"
      ]
     },
     "execution_count": 22,
     "metadata": {},
     "output_type": "execute_result"
    }
   ],
   "source": [
    "print(len(col), 'columns have only one unique value.')\n",
    "col"
   ]
  },
  {
   "cell_type": "code",
   "execution_count": 23,
   "id": "5b5d8887",
   "metadata": {},
   "outputs": [],
   "source": [
    "df.drop(columns = col, inplace = True)"
   ]
  },
  {
   "cell_type": "markdown",
   "id": "04a7ae48",
   "metadata": {},
   "source": [
    "Some columns contain 'nan', which also counts as a unique value, thus columns with only one ’non-nan‘ value are not filtered out by the above step. We will take a closer look at these columns, then decide whether to drop these columns. "
   ]
  },
  {
   "cell_type": "code",
   "execution_count": 24,
   "id": "38206a09",
   "metadata": {},
   "outputs": [
    {
     "name": "stdout",
     "output_type": "stream",
     "text": [
      "hasImage\n",
      "isFeatured\n",
      "isPreforclosureAuction\n"
     ]
    }
   ],
   "source": [
    "for i in list(df.columns):\n",
    "    \n",
    "    if len(df[i].value_counts()) == 1:\n",
    "        print(i)"
   ]
  },
  {
   "cell_type": "code",
   "execution_count": 25,
   "id": "13d373e7",
   "metadata": {},
   "outputs": [
    {
     "data": {
      "text/plain": [
       "array(['True', nan], dtype=object)"
      ]
     },
     "execution_count": 25,
     "metadata": {},
     "output_type": "execute_result"
    }
   ],
   "source": [
    "df['hasImage'].unique()"
   ]
  },
  {
   "cell_type": "code",
   "execution_count": 26,
   "id": "f4c405f4",
   "metadata": {},
   "outputs": [
    {
     "data": {
      "text/plain": [
       "True    123994\n",
       "Name: hasImage, dtype: int64"
      ]
     },
     "execution_count": 26,
     "metadata": {},
     "output_type": "execute_result"
    }
   ],
   "source": [
    "df['hasImage'].value_counts()"
   ]
  },
  {
   "cell_type": "code",
   "execution_count": 27,
   "id": "b7c16a4d",
   "metadata": {},
   "outputs": [
    {
     "data": {
      "text/plain": [
       "array(['False', nan], dtype=object)"
      ]
     },
     "execution_count": 27,
     "metadata": {},
     "output_type": "execute_result"
    }
   ],
   "source": [
    "df['isFeatured'].unique()"
   ]
  },
  {
   "cell_type": "code",
   "execution_count": 28,
   "id": "6d781e9b",
   "metadata": {},
   "outputs": [
    {
     "data": {
      "text/plain": [
       "False    124129\n",
       "Name: isFeatured, dtype: int64"
      ]
     },
     "execution_count": 28,
     "metadata": {},
     "output_type": "execute_result"
    }
   ],
   "source": [
    "df['isFeatured'].value_counts()"
   ]
  },
  {
   "cell_type": "code",
   "execution_count": 29,
   "id": "2e91a521",
   "metadata": {},
   "outputs": [
    {
     "data": {
      "text/plain": [
       "array(['False', nan], dtype=object)"
      ]
     },
     "execution_count": 29,
     "metadata": {},
     "output_type": "execute_result"
    }
   ],
   "source": [
    "df['isPreforclosureAuction'].unique()"
   ]
  },
  {
   "cell_type": "code",
   "execution_count": 30,
   "id": "28bf4803",
   "metadata": {},
   "outputs": [
    {
     "data": {
      "text/plain": [
       "False    124129\n",
       "Name: isPreforclosureAuction, dtype: int64"
      ]
     },
     "execution_count": 30,
     "metadata": {},
     "output_type": "execute_result"
    }
   ],
   "source": [
    "df['isPreforclosureAuction'].value_counts()"
   ]
  },
  {
   "cell_type": "markdown",
   "id": "9fb8c759",
   "metadata": {},
   "source": [
    "'nan' only occupies a very small percentage of values in these three columns, therefore, we would drop these three columns."
   ]
  },
  {
   "cell_type": "code",
   "execution_count": 31,
   "id": "40f3b8ea",
   "metadata": {},
   "outputs": [],
   "source": [
    "df.drop(columns = ['hasImage', 'isFeatured', 'isPreforclosureAuction'], inplace = True)"
   ]
  },
  {
   "cell_type": "markdown",
   "id": "2c62c679",
   "metadata": {},
   "source": [
    "'timeOfExtraaction', 'extractionDate' are meaningless, drop them"
   ]
  },
  {
   "cell_type": "code",
   "execution_count": 32,
   "id": "f3b55947",
   "metadata": {},
   "outputs": [],
   "source": [
    "df.drop(columns = ['timeOfExtraction', 'extractionDate'], inplace = True)"
   ]
  },
  {
   "cell_type": "markdown",
   "id": "3e0754c2",
   "metadata": {},
   "source": [
    "'lotAreaValue', 'lotAreaUnit' and 'lotAreaRaw' contain duplicate information, and we will only keep 'lotAreaRaw' (unit in sqft)."
   ]
  },
  {
   "cell_type": "code",
   "execution_count": 33,
   "id": "c40e3706",
   "metadata": {},
   "outputs": [
    {
     "data": {
      "text/plain": [
       "sqft     69409\n",
       "acres    31701\n",
       "Name: lotAreaUnit, dtype: int64"
      ]
     },
     "execution_count": 33,
     "metadata": {},
     "output_type": "execute_result"
    }
   ],
   "source": [
    "df['lotAreaUnit'].value_counts()"
   ]
  },
  {
   "cell_type": "code",
   "execution_count": 34,
   "id": "18d11edf",
   "metadata": {},
   "outputs": [
    {
     "data": {
      "text/html": [
       "<div>\n",
       "<style scoped>\n",
       "    .dataframe tbody tr th:only-of-type {\n",
       "        vertical-align: middle;\n",
       "    }\n",
       "\n",
       "    .dataframe tbody tr th {\n",
       "        vertical-align: top;\n",
       "    }\n",
       "\n",
       "    .dataframe thead th {\n",
       "        text-align: right;\n",
       "    }\n",
       "</style>\n",
       "<table border=\"1\" class=\"dataframe\">\n",
       "  <thead>\n",
       "    <tr style=\"text-align: right;\">\n",
       "      <th></th>\n",
       "      <th>lotAreaValue</th>\n",
       "      <th>lotAreaUnit</th>\n",
       "      <th>lotAreaRaw</th>\n",
       "    </tr>\n",
       "  </thead>\n",
       "  <tbody>\n",
       "    <tr>\n",
       "      <th>0</th>\n",
       "      <td>0.2754820936639118</td>\n",
       "      <td>acres</td>\n",
       "      <td>12000.0</td>\n",
       "    </tr>\n",
       "    <tr>\n",
       "      <th>1</th>\n",
       "      <td>6620.0</td>\n",
       "      <td>sqft</td>\n",
       "      <td>6620.0</td>\n",
       "    </tr>\n",
       "    <tr>\n",
       "      <th>2</th>\n",
       "      <td>8663.0</td>\n",
       "      <td>sqft</td>\n",
       "      <td>8663.0</td>\n",
       "    </tr>\n",
       "    <tr>\n",
       "      <th>3</th>\n",
       "      <td>0.3693985307621671</td>\n",
       "      <td>acres</td>\n",
       "      <td>16091.0</td>\n",
       "    </tr>\n",
       "    <tr>\n",
       "      <th>4</th>\n",
       "      <td>8700.0</td>\n",
       "      <td>sqft</td>\n",
       "      <td>8700.0</td>\n",
       "    </tr>\n",
       "  </tbody>\n",
       "</table>\n",
       "</div>"
      ],
      "text/plain": [
       "         lotAreaValue lotAreaUnit lotAreaRaw\n",
       "0  0.2754820936639118       acres    12000.0\n",
       "1              6620.0        sqft     6620.0\n",
       "2              8663.0        sqft     8663.0\n",
       "3  0.3693985307621671       acres    16091.0\n",
       "4              8700.0        sqft     8700.0"
      ]
     },
     "execution_count": 34,
     "metadata": {},
     "output_type": "execute_result"
    }
   ],
   "source": [
    "df[['lotAreaValue', 'lotAreaUnit', 'lotAreaRaw']].head()"
   ]
  },
  {
   "cell_type": "code",
   "execution_count": 35,
   "id": "820b8b97",
   "metadata": {},
   "outputs": [],
   "source": [
    "df.drop(columns = ['lotAreaValue', 'lotAreaUnit'], inplace = True)"
   ]
  },
  {
   "cell_type": "markdown",
   "id": "da47f01e",
   "metadata": {},
   "source": [
    "'pgapt' and 'sgapt' contain duplicate information, we would drop 'pgapt'"
   ]
  },
  {
   "cell_type": "code",
   "execution_count": 36,
   "id": "943faba2",
   "metadata": {},
   "outputs": [
    {
     "data": {
      "text/plain": [
       "ForSale       124253\n",
       "ComingSoon      1291\n",
       "Name: pgapt, dtype: int64"
      ]
     },
     "execution_count": 36,
     "metadata": {},
     "output_type": "execute_result"
    }
   ],
   "source": [
    "df['pgapt'].value_counts()"
   ]
  },
  {
   "cell_type": "code",
   "execution_count": 37,
   "id": "fdf61aae",
   "metadata": {},
   "outputs": [
    {
     "data": {
      "text/plain": [
       "For Sale (Broker)    106632\n",
       "New Construction      16621\n",
       "Coming Soon            1291\n",
       "Foreclosure             803\n",
       "Unknown Listed By        89\n",
       "For Sale By Owner        59\n",
       "RecentChange             43\n",
       "For Sale by Agent         6\n",
       "Name: sgapt, dtype: int64"
      ]
     },
     "execution_count": 37,
     "metadata": {},
     "output_type": "execute_result"
    }
   ],
   "source": [
    "df['sgapt'].value_counts()"
   ]
  },
  {
   "cell_type": "code",
   "execution_count": 38,
   "id": "52ffa410",
   "metadata": {},
   "outputs": [],
   "source": [
    "df.drop(columns = ['pgapt'], inplace = True)"
   ]
  },
  {
   "cell_type": "markdown",
   "id": "8d56c96a",
   "metadata": {},
   "source": [
    "This dataset has been reduced from 63 to 17 columns."
   ]
  },
  {
   "cell_type": "code",
   "execution_count": 39,
   "id": "95dd2973",
   "metadata": {},
   "outputs": [],
   "source": [
    "df = df.iloc[:, 1:]"
   ]
  },
  {
   "cell_type": "code",
   "execution_count": 40,
   "id": "a79418bb",
   "metadata": {
    "scrolled": false
   },
   "outputs": [
    {
     "name": "stdout",
     "output_type": "stream",
     "text": [
      "<class 'pandas.core.frame.DataFrame'>\n",
      "RangeIndex: 125544 entries, 0 to 125543\n",
      "Data columns (total 21 columns):\n",
      " #   Column                     Non-Null Count   Dtype \n",
      "---  ------                     --------------   ----- \n",
      " 0   statusText                 125544 non-null  object\n",
      " 1   unformattedPrice           125526 non-null  object\n",
      " 2   address                    125544 non-null  object\n",
      " 3   addressStreet              125543 non-null  object\n",
      " 4   addressCity                125544 non-null  object\n",
      " 5   addressState               125544 non-null  object\n",
      " 6   addressZipcode             125543 non-null  object\n",
      " 7   isUndisclosedAddress       125544 non-null  object\n",
      " 8   beds                       111934 non-null  object\n",
      " 9   baths                      114651 non-null  object\n",
      " 10  area                       109299 non-null  object\n",
      " 11  latLong                    125544 non-null  object\n",
      " 12  isZillowOwned              125544 non-null  object\n",
      " 13  sgapt                      125544 non-null  object\n",
      " 14  has3DModel                 125544 non-null  object\n",
      " 15  hasVideo                   125544 non-null  object\n",
      " 16  hasAdditionalAttributions  125544 non-null  object\n",
      " 17  homeType                   124129 non-null  object\n",
      " 18  priceReductionStr          122714 non-null  object\n",
      " 19  lotAreaRaw                 122714 non-null  object\n",
      " 20  priceReductionRatio        122696 non-null  object\n",
      "dtypes: object(21)\n",
      "memory usage: 20.1+ MB\n"
     ]
    }
   ],
   "source": [
    "df.info()"
   ]
  },
  {
   "cell_type": "code",
   "execution_count": 41,
   "id": "77c9dc18",
   "metadata": {},
   "outputs": [
    {
     "data": {
      "text/html": [
       "<div>\n",
       "<style scoped>\n",
       "    .dataframe tbody tr th:only-of-type {\n",
       "        vertical-align: middle;\n",
       "    }\n",
       "\n",
       "    .dataframe tbody tr th {\n",
       "        vertical-align: top;\n",
       "    }\n",
       "\n",
       "    .dataframe thead th {\n",
       "        text-align: right;\n",
       "    }\n",
       "</style>\n",
       "<table border=\"1\" class=\"dataframe\">\n",
       "  <thead>\n",
       "    <tr style=\"text-align: right;\">\n",
       "      <th></th>\n",
       "      <th>statusText</th>\n",
       "      <th>unformattedPrice</th>\n",
       "      <th>address</th>\n",
       "      <th>addressStreet</th>\n",
       "      <th>addressCity</th>\n",
       "      <th>addressState</th>\n",
       "      <th>addressZipcode</th>\n",
       "      <th>isUndisclosedAddress</th>\n",
       "      <th>beds</th>\n",
       "      <th>baths</th>\n",
       "      <th>...</th>\n",
       "      <th>latLong</th>\n",
       "      <th>isZillowOwned</th>\n",
       "      <th>sgapt</th>\n",
       "      <th>has3DModel</th>\n",
       "      <th>hasVideo</th>\n",
       "      <th>hasAdditionalAttributions</th>\n",
       "      <th>homeType</th>\n",
       "      <th>priceReductionStr</th>\n",
       "      <th>lotAreaRaw</th>\n",
       "      <th>priceReductionRatio</th>\n",
       "    </tr>\n",
       "  </thead>\n",
       "  <tbody>\n",
       "    <tr>\n",
       "      <th>0</th>\n",
       "      <td>House for sale</td>\n",
       "      <td>449000</td>\n",
       "      <td>15807 Ceres Ave, Fontana, CA 92335</td>\n",
       "      <td>15807 Ceres Ave</td>\n",
       "      <td>Fontana</td>\n",
       "      <td>CA</td>\n",
       "      <td>92335</td>\n",
       "      <td>False</td>\n",
       "      <td>3.0</td>\n",
       "      <td>1.0</td>\n",
       "      <td>...</td>\n",
       "      <td>{'latitude': 34.09275, 'longitude': -117.46006}</td>\n",
       "      <td>False</td>\n",
       "      <td>For Sale (Broker)</td>\n",
       "      <td>False</td>\n",
       "      <td>False</td>\n",
       "      <td>True</td>\n",
       "      <td>SINGLE_FAMILY</td>\n",
       "      <td>0.0</td>\n",
       "      <td>12000.0</td>\n",
       "      <td>0.0</td>\n",
       "    </tr>\n",
       "    <tr>\n",
       "      <th>1</th>\n",
       "      <td>House for sale</td>\n",
       "      <td>565000</td>\n",
       "      <td>6648 Logan Ave, Fontana, CA 92336</td>\n",
       "      <td>6648 Logan Ave</td>\n",
       "      <td>Fontana</td>\n",
       "      <td>CA</td>\n",
       "      <td>92336</td>\n",
       "      <td>False</td>\n",
       "      <td>4.0</td>\n",
       "      <td>3.0</td>\n",
       "      <td>...</td>\n",
       "      <td>{'latitude': 34.133167, 'longitude': -117.469734}</td>\n",
       "      <td>False</td>\n",
       "      <td>For Sale (Broker)</td>\n",
       "      <td>False</td>\n",
       "      <td>False</td>\n",
       "      <td>True</td>\n",
       "      <td>SINGLE_FAMILY</td>\n",
       "      <td>0.0</td>\n",
       "      <td>6620.0</td>\n",
       "      <td>0.0</td>\n",
       "    </tr>\n",
       "    <tr>\n",
       "      <th>2</th>\n",
       "      <td>House for sale</td>\n",
       "      <td>520000</td>\n",
       "      <td>9508 Marcona Ave, Fontana, CA 92335</td>\n",
       "      <td>9508 Marcona Ave</td>\n",
       "      <td>Fontana</td>\n",
       "      <td>CA</td>\n",
       "      <td>92335</td>\n",
       "      <td>False</td>\n",
       "      <td>4.0</td>\n",
       "      <td>2.0</td>\n",
       "      <td>...</td>\n",
       "      <td>{'latitude': 34.08103, 'longitude': -117.468796}</td>\n",
       "      <td>False</td>\n",
       "      <td>For Sale (Broker)</td>\n",
       "      <td>False</td>\n",
       "      <td>False</td>\n",
       "      <td>True</td>\n",
       "      <td>SINGLE_FAMILY</td>\n",
       "      <td>0.0</td>\n",
       "      <td>8663.0</td>\n",
       "      <td>0.0</td>\n",
       "    </tr>\n",
       "    <tr>\n",
       "      <th>3</th>\n",
       "      <td>House for sale</td>\n",
       "      <td>799900</td>\n",
       "      <td>17625 Hawthorne Ave, Fontana, CA 92335</td>\n",
       "      <td>17625 Hawthorne Ave</td>\n",
       "      <td>Fontana</td>\n",
       "      <td>CA</td>\n",
       "      <td>92335</td>\n",
       "      <td>False</td>\n",
       "      <td>5.0</td>\n",
       "      <td>3.0</td>\n",
       "      <td>...</td>\n",
       "      <td>{'latitude': 34.081074, 'longitude': -117.41974}</td>\n",
       "      <td>False</td>\n",
       "      <td>For Sale (Broker)</td>\n",
       "      <td>False</td>\n",
       "      <td>False</td>\n",
       "      <td>True</td>\n",
       "      <td>SINGLE_FAMILY</td>\n",
       "      <td>0.0</td>\n",
       "      <td>16091.0</td>\n",
       "      <td>0.0</td>\n",
       "    </tr>\n",
       "    <tr>\n",
       "      <th>4</th>\n",
       "      <td>House for sale</td>\n",
       "      <td>519999</td>\n",
       "      <td>16562 Iris Dr, Fontana, CA 92335</td>\n",
       "      <td>16562 Iris Dr</td>\n",
       "      <td>Fontana</td>\n",
       "      <td>CA</td>\n",
       "      <td>92335</td>\n",
       "      <td>False</td>\n",
       "      <td>3.0</td>\n",
       "      <td>2.0</td>\n",
       "      <td>...</td>\n",
       "      <td>{'latitude': 34.072838, 'longitude': -117.44258}</td>\n",
       "      <td>False</td>\n",
       "      <td>For Sale (Broker)</td>\n",
       "      <td>False</td>\n",
       "      <td>False</td>\n",
       "      <td>True</td>\n",
       "      <td>SINGLE_FAMILY</td>\n",
       "      <td>0.0</td>\n",
       "      <td>8700.0</td>\n",
       "      <td>0.0</td>\n",
       "    </tr>\n",
       "  </tbody>\n",
       "</table>\n",
       "<p>5 rows × 21 columns</p>\n",
       "</div>"
      ],
      "text/plain": [
       "       statusText unformattedPrice                                 address  \\\n",
       "0  House for sale           449000      15807 Ceres Ave, Fontana, CA 92335   \n",
       "1  House for sale           565000       6648 Logan Ave, Fontana, CA 92336   \n",
       "2  House for sale           520000     9508 Marcona Ave, Fontana, CA 92335   \n",
       "3  House for sale           799900  17625 Hawthorne Ave, Fontana, CA 92335   \n",
       "4  House for sale           519999        16562 Iris Dr, Fontana, CA 92335   \n",
       "\n",
       "         addressStreet addressCity addressState addressZipcode  \\\n",
       "0      15807 Ceres Ave     Fontana           CA          92335   \n",
       "1       6648 Logan Ave     Fontana           CA          92336   \n",
       "2     9508 Marcona Ave     Fontana           CA          92335   \n",
       "3  17625 Hawthorne Ave     Fontana           CA          92335   \n",
       "4        16562 Iris Dr     Fontana           CA          92335   \n",
       "\n",
       "  isUndisclosedAddress beds baths  ...  \\\n",
       "0                False  3.0   1.0  ...   \n",
       "1                False  4.0   3.0  ...   \n",
       "2                False  4.0   2.0  ...   \n",
       "3                False  5.0   3.0  ...   \n",
       "4                False  3.0   2.0  ...   \n",
       "\n",
       "                                             latLong isZillowOwned  \\\n",
       "0    {'latitude': 34.09275, 'longitude': -117.46006}         False   \n",
       "1  {'latitude': 34.133167, 'longitude': -117.469734}         False   \n",
       "2   {'latitude': 34.08103, 'longitude': -117.468796}         False   \n",
       "3   {'latitude': 34.081074, 'longitude': -117.41974}         False   \n",
       "4   {'latitude': 34.072838, 'longitude': -117.44258}         False   \n",
       "\n",
       "               sgapt has3DModel hasVideo hasAdditionalAttributions  \\\n",
       "0  For Sale (Broker)      False    False                      True   \n",
       "1  For Sale (Broker)      False    False                      True   \n",
       "2  For Sale (Broker)      False    False                      True   \n",
       "3  For Sale (Broker)      False    False                      True   \n",
       "4  For Sale (Broker)      False    False                      True   \n",
       "\n",
       "        homeType priceReductionStr lotAreaRaw priceReductionRatio  \n",
       "0  SINGLE_FAMILY               0.0    12000.0                 0.0  \n",
       "1  SINGLE_FAMILY               0.0     6620.0                 0.0  \n",
       "2  SINGLE_FAMILY               0.0     8663.0                 0.0  \n",
       "3  SINGLE_FAMILY               0.0    16091.0                 0.0  \n",
       "4  SINGLE_FAMILY               0.0     8700.0                 0.0  \n",
       "\n",
       "[5 rows x 21 columns]"
      ]
     },
     "execution_count": 41,
     "metadata": {},
     "output_type": "execute_result"
    }
   ],
   "source": [
    "df.head()"
   ]
  },
  {
   "cell_type": "markdown",
   "id": "b374b857",
   "metadata": {},
   "source": [
    "### Change the data type\n",
    "\n",
    "numerical columns: \n",
    "unformattedPrice, area, priceReductionStr, lotAreaRaw, priceReductionRatio\n",
    "\n",
    "categorical columns:\n",
    "statusText, addressZipcode, beds, baths, isUndisclosedAddress, isZillowOwned, sgapt, has3DModel, hasVideo, hasAdditionalAttributions, homeType"
   ]
  },
  {
   "cell_type": "code",
   "execution_count": 42,
   "id": "d55cfedc",
   "metadata": {},
   "outputs": [],
   "source": [
    "numerical = ['unformattedPrice', 'area', 'priceReductionStr', 'lotAreaRaw', 'priceReductionRatio']\n",
    "df[numerical] = df[numerical].astype(float)"
   ]
  },
  {
   "cell_type": "code",
   "execution_count": 43,
   "id": "b871cb24",
   "metadata": {
    "scrolled": true
   },
   "outputs": [
    {
     "name": "stdout",
     "output_type": "stream",
     "text": [
      "<class 'pandas.core.frame.DataFrame'>\n",
      "RangeIndex: 125544 entries, 0 to 125543\n",
      "Data columns (total 21 columns):\n",
      " #   Column                     Non-Null Count   Dtype  \n",
      "---  ------                     --------------   -----  \n",
      " 0   statusText                 125544 non-null  object \n",
      " 1   unformattedPrice           125526 non-null  float64\n",
      " 2   address                    125544 non-null  object \n",
      " 3   addressStreet              125543 non-null  object \n",
      " 4   addressCity                125544 non-null  object \n",
      " 5   addressState               125544 non-null  object \n",
      " 6   addressZipcode             125543 non-null  object \n",
      " 7   isUndisclosedAddress       125544 non-null  object \n",
      " 8   beds                       111934 non-null  object \n",
      " 9   baths                      114651 non-null  object \n",
      " 10  area                       109299 non-null  float64\n",
      " 11  latLong                    125544 non-null  object \n",
      " 12  isZillowOwned              125544 non-null  object \n",
      " 13  sgapt                      125544 non-null  object \n",
      " 14  has3DModel                 125544 non-null  object \n",
      " 15  hasVideo                   125544 non-null  object \n",
      " 16  hasAdditionalAttributions  125544 non-null  object \n",
      " 17  homeType                   124129 non-null  object \n",
      " 18  priceReductionStr          122714 non-null  float64\n",
      " 19  lotAreaRaw                 122714 non-null  float64\n",
      " 20  priceReductionRatio        122696 non-null  float64\n",
      "dtypes: float64(5), object(16)\n",
      "memory usage: 20.1+ MB\n"
     ]
    }
   ],
   "source": [
    "df.info()"
   ]
  },
  {
   "cell_type": "markdown",
   "id": "2ef8974d",
   "metadata": {},
   "source": [
    "### Missing value imputation "
   ]
  },
  {
   "cell_type": "code",
   "execution_count": 44,
   "id": "3e6bb8a4",
   "metadata": {},
   "outputs": [
    {
     "name": "stdout",
     "output_type": "stream",
     "text": [
      "unformattedPrice : 18 values are missing (0.0001)\n",
      "addressStreet : 1 values are missing (0.0000)\n",
      "addressZipcode : 1 values are missing (0.0000)\n",
      "beds : 13610 values are missing (0.1084)\n",
      "baths : 10893 values are missing (0.0868)\n",
      "area : 16245 values are missing (0.1294)\n",
      "homeType : 1415 values are missing (0.0113)\n",
      "priceReductionStr : 2830 values are missing (0.0225)\n",
      "lotAreaRaw : 2830 values are missing (0.0225)\n",
      "priceReductionRatio : 2848 values are missing (0.0227)\n"
     ]
    }
   ],
   "source": [
    "rows = df.shape[0]\n",
    "\n",
    "for i in list(df.columns):\n",
    "    \n",
    "    value_cnt = df[i].count()\n",
    "    if value_cnt != rows:\n",
    "        print(i, ': {}'.format(rows - value_cnt), 'values are missing ({:.4f})'.format((rows - value_cnt)/rows))"
   ]
  },
  {
   "cell_type": "markdown",
   "id": "8545ab06",
   "metadata": {},
   "source": [
    "##### 'unformattedPrice'"
   ]
  },
  {
   "cell_type": "code",
   "execution_count": 45,
   "id": "ffeb480d",
   "metadata": {},
   "outputs": [
    {
     "data": {
      "image/png": "[encoded data removed]",
      "text/plain": [
       "<Figure size 640x480 with 1 Axes>"
      ]
     },
     "metadata": {},
     "output_type": "display_data"
    }
   ],
   "source": [
    "plt.hist(df['unformattedPrice'], bins = range(1, 5000000, 50000))\n",
    "plt.show()"
   ]
  },
  {
   "cell_type": "markdown",
   "id": "910304be",
   "metadata": {},
   "source": [
    "Because the distribution of this column is rightly skewed, we would use the median value to fill na."
   ]
  },
  {
   "cell_type": "code",
   "execution_count": 46,
   "id": "18389dd2",
   "metadata": {},
   "outputs": [],
   "source": [
    "df['unformattedPrice'].fillna(df['unformattedPrice'].median(), inplace = True)"
   ]
  },
  {
   "cell_type": "markdown",
   "id": "b61e7abf",
   "metadata": {},
   "source": [
    "##### 'addressZipcode'"
   ]
  },
  {
   "cell_type": "markdown",
   "id": "4d3a3177",
   "metadata": {},
   "source": [
    "Because there is only one missing value in this column, we can drop it."
   ]
  },
  {
   "cell_type": "code",
   "execution_count": 47,
   "id": "be8d97bb",
   "metadata": {},
   "outputs": [],
   "source": [
    "df = df[df['addressZipcode'].notnull()]"
   ]
  },
  {
   "cell_type": "markdown",
   "id": "a6326e96",
   "metadata": {},
   "source": [
    "##### 'beds'"
   ]
  },
  {
   "cell_type": "code",
   "execution_count": 48,
   "id": "65209970",
   "metadata": {},
   "outputs": [
    {
     "data": {
      "text/plain": [
       "0         3.0\n",
       "1         4.0\n",
       "2         4.0\n",
       "3         5.0\n",
       "4         3.0\n",
       "         ... \n",
       "125539    NaN\n",
       "125540    NaN\n",
       "125541    NaN\n",
       "125542    NaN\n",
       "125543    NaN\n",
       "Name: beds, Length: 125543, dtype: object"
      ]
     },
     "execution_count": 48,
     "metadata": {},
     "output_type": "execute_result"
    }
   ],
   "source": [
    "df['beds']"
   ]
  },
  {
   "cell_type": "code",
   "execution_count": 49,
   "id": "d835a45f",
   "metadata": {},
   "outputs": [
    {
     "data": {
      "text/plain": [
       "20632     7800.0\n",
       "24186     4299.0\n",
       "23889     2226.0\n",
       "75919      999.0\n",
       "111263     190.0\n",
       "           ...  \n",
       "125539       NaN\n",
       "125540       NaN\n",
       "125541       NaN\n",
       "125542       NaN\n",
       "125543       NaN\n",
       "Name: beds, Length: 125543, dtype: float64"
      ]
     },
     "execution_count": 49,
     "metadata": {},
     "output_type": "execute_result"
    }
   ],
   "source": [
    "df['beds'].astype(float).sort_values(ascending = False)"
   ]
  },
  {
   "cell_type": "code",
   "execution_count": 50,
   "id": "3b086af3",
   "metadata": {},
   "outputs": [
    {
     "data": {
      "text/plain": [
       "statusText                                         Multi-family home for sale\n",
       "unformattedPrice                                                     460000.0\n",
       "address                                    1942 E Adams St, Phoenix, AZ 85034\n",
       "addressStreet                                                 1942 E Adams St\n",
       "addressCity                                                           Phoenix\n",
       "addressState                                                               AZ\n",
       "addressZipcode                                                          85034\n",
       "isUndisclosedAddress                                                    False\n",
       "beds                                                                   7800.0\n",
       "baths                                                                     0.0\n",
       "area                                                                3120000.0\n",
       "latLong                      {'latitude': 33.449726, 'longitude': -112.03939}\n",
       "isZillowOwned                                                           False\n",
       "sgapt                                                       For Sale (Broker)\n",
       "has3DModel                                                              False\n",
       "hasVideo                                                                False\n",
       "hasAdditionalAttributions                                                True\n",
       "homeType                                                         MULTI_FAMILY\n",
       "priceReductionStr                                                     15000.0\n",
       "lotAreaRaw                                                             7000.0\n",
       "priceReductionRatio                                                  0.031579\n",
       "Name: 20632, dtype: object"
      ]
     },
     "execution_count": 50,
     "metadata": {},
     "output_type": "execute_result"
    }
   ],
   "source": [
    "df.iloc[20632]"
   ]
  },
  {
   "cell_type": "code",
   "execution_count": 51,
   "id": "1c59f518",
   "metadata": {
    "scrolled": true
   },
   "outputs": [
    {
     "data": {
      "text/html": [
       "<div>\n",
       "<style scoped>\n",
       "    .dataframe tbody tr th:only-of-type {\n",
       "        vertical-align: middle;\n",
       "    }\n",
       "\n",
       "    .dataframe tbody tr th {\n",
       "        vertical-align: top;\n",
       "    }\n",
       "\n",
       "    .dataframe thead th {\n",
       "        text-align: right;\n",
       "    }\n",
       "</style>\n",
       "<table border=\"1\" class=\"dataframe\">\n",
       "  <thead>\n",
       "    <tr style=\"text-align: right;\">\n",
       "      <th></th>\n",
       "      <th>statusText</th>\n",
       "      <th>unformattedPrice</th>\n",
       "      <th>address</th>\n",
       "      <th>addressStreet</th>\n",
       "      <th>addressCity</th>\n",
       "      <th>addressState</th>\n",
       "      <th>addressZipcode</th>\n",
       "      <th>isUndisclosedAddress</th>\n",
       "      <th>beds</th>\n",
       "      <th>baths</th>\n",
       "      <th>...</th>\n",
       "      <th>latLong</th>\n",
       "      <th>isZillowOwned</th>\n",
       "      <th>sgapt</th>\n",
       "      <th>has3DModel</th>\n",
       "      <th>hasVideo</th>\n",
       "      <th>hasAdditionalAttributions</th>\n",
       "      <th>homeType</th>\n",
       "      <th>priceReductionStr</th>\n",
       "      <th>lotAreaRaw</th>\n",
       "      <th>priceReductionRatio</th>\n",
       "    </tr>\n",
       "  </thead>\n",
       "  <tbody>\n",
       "    <tr>\n",
       "      <th>105</th>\n",
       "      <td>Multi-family home for sale</td>\n",
       "      <td>4248000.0</td>\n",
       "      <td>8505 Mulberry Ave, Fontana, CA 92335</td>\n",
       "      <td>8505 Mulberry Ave</td>\n",
       "      <td>Fontana</td>\n",
       "      <td>CA</td>\n",
       "      <td>92335</td>\n",
       "      <td>False</td>\n",
       "      <td>32.0</td>\n",
       "      <td>28.0</td>\n",
       "      <td>...</td>\n",
       "      <td>{'latitude': 34.098747, 'longitude': -117.50564}</td>\n",
       "      <td>False</td>\n",
       "      <td>For Sale (Broker)</td>\n",
       "      <td>False</td>\n",
       "      <td>False</td>\n",
       "      <td>True</td>\n",
       "      <td>MULTI_FAMILY</td>\n",
       "      <td>0.0</td>\n",
       "      <td>65775.6</td>\n",
       "      <td>0.0</td>\n",
       "    </tr>\n",
       "    <tr>\n",
       "      <th>287</th>\n",
       "      <td>Multi-family home for sale</td>\n",
       "      <td>600000.0</td>\n",
       "      <td>139 School St, Yonkers, NY 10701</td>\n",
       "      <td>139 School St</td>\n",
       "      <td>Yonkers</td>\n",
       "      <td>NY</td>\n",
       "      <td>10701</td>\n",
       "      <td>False</td>\n",
       "      <td>12.0</td>\n",
       "      <td>6.0</td>\n",
       "      <td>...</td>\n",
       "      <td>{'latitude': 40.927048, 'longitude': -73.89499}</td>\n",
       "      <td>False</td>\n",
       "      <td>For Sale (Broker)</td>\n",
       "      <td>False</td>\n",
       "      <td>False</td>\n",
       "      <td>True</td>\n",
       "      <td>MULTI_FAMILY</td>\n",
       "      <td>0.0</td>\n",
       "      <td>0.0</td>\n",
       "      <td>0.0</td>\n",
       "    </tr>\n",
       "    <tr>\n",
       "      <th>474</th>\n",
       "      <td>House for sale</td>\n",
       "      <td>689000.0</td>\n",
       "      <td>107 Oliver Ave, Yonkers, NY 10701</td>\n",
       "      <td>107 Oliver Ave</td>\n",
       "      <td>Yonkers</td>\n",
       "      <td>NY</td>\n",
       "      <td>10701</td>\n",
       "      <td>False</td>\n",
       "      <td>11.0</td>\n",
       "      <td>3.0</td>\n",
       "      <td>...</td>\n",
       "      <td>{'latitude': 40.93372, 'longitude': -73.88753}</td>\n",
       "      <td>False</td>\n",
       "      <td>For Sale (Broker)</td>\n",
       "      <td>False</td>\n",
       "      <td>False</td>\n",
       "      <td>True</td>\n",
       "      <td>SINGLE_FAMILY</td>\n",
       "      <td>0.0</td>\n",
       "      <td>2487.0</td>\n",
       "      <td>0.0</td>\n",
       "    </tr>\n",
       "    <tr>\n",
       "      <th>1383</th>\n",
       "      <td>Multi-family home for sale</td>\n",
       "      <td>169900.0</td>\n",
       "      <td>562 E 140th St, Cleveland, OH 44110</td>\n",
       "      <td>562 E 140th St</td>\n",
       "      <td>Cleveland</td>\n",
       "      <td>OH</td>\n",
       "      <td>44110</td>\n",
       "      <td>False</td>\n",
       "      <td>12.0</td>\n",
       "      <td>6.0</td>\n",
       "      <td>...</td>\n",
       "      <td>{'latitude': 41.566185, 'longitude': -81.58558}</td>\n",
       "      <td>False</td>\n",
       "      <td>For Sale (Broker)</td>\n",
       "      <td>False</td>\n",
       "      <td>False</td>\n",
       "      <td>True</td>\n",
       "      <td>MULTI_FAMILY</td>\n",
       "      <td>0.0</td>\n",
       "      <td>4791.6</td>\n",
       "      <td>0.0</td>\n",
       "    </tr>\n",
       "    <tr>\n",
       "      <th>1639</th>\n",
       "      <td>Multi-family home for sale</td>\n",
       "      <td>470000.0</td>\n",
       "      <td>3328 E 139th St, Cleveland, OH 44120</td>\n",
       "      <td>3328 E 139th St</td>\n",
       "      <td>Cleveland</td>\n",
       "      <td>OH</td>\n",
       "      <td>44120</td>\n",
       "      <td>False</td>\n",
       "      <td>14.0</td>\n",
       "      <td>6.0</td>\n",
       "      <td>...</td>\n",
       "      <td>{'latitude': 41.46846, 'longitude': -81.58647}</td>\n",
       "      <td>False</td>\n",
       "      <td>For Sale (Broker)</td>\n",
       "      <td>False</td>\n",
       "      <td>False</td>\n",
       "      <td>True</td>\n",
       "      <td>MULTI_FAMILY</td>\n",
       "      <td>0.0</td>\n",
       "      <td>0.0</td>\n",
       "      <td>0.0</td>\n",
       "    </tr>\n",
       "  </tbody>\n",
       "</table>\n",
       "<p>5 rows × 21 columns</p>\n",
       "</div>"
      ],
      "text/plain": [
       "                      statusText  unformattedPrice  \\\n",
       "105   Multi-family home for sale         4248000.0   \n",
       "287   Multi-family home for sale          600000.0   \n",
       "474               House for sale          689000.0   \n",
       "1383  Multi-family home for sale          169900.0   \n",
       "1639  Multi-family home for sale          470000.0   \n",
       "\n",
       "                                   address      addressStreet addressCity  \\\n",
       "105   8505 Mulberry Ave, Fontana, CA 92335  8505 Mulberry Ave     Fontana   \n",
       "287       139 School St, Yonkers, NY 10701      139 School St     Yonkers   \n",
       "474      107 Oliver Ave, Yonkers, NY 10701     107 Oliver Ave     Yonkers   \n",
       "1383   562 E 140th St, Cleveland, OH 44110     562 E 140th St   Cleveland   \n",
       "1639  3328 E 139th St, Cleveland, OH 44120    3328 E 139th St   Cleveland   \n",
       "\n",
       "     addressState addressZipcode isUndisclosedAddress  beds baths  ...  \\\n",
       "105            CA          92335                False  32.0  28.0  ...   \n",
       "287            NY          10701                False  12.0   6.0  ...   \n",
       "474            NY          10701                False  11.0   3.0  ...   \n",
       "1383           OH          44110                False  12.0   6.0  ...   \n",
       "1639           OH          44120                False  14.0   6.0  ...   \n",
       "\n",
       "                                               latLong isZillowOwned  \\\n",
       "105   {'latitude': 34.098747, 'longitude': -117.50564}         False   \n",
       "287    {'latitude': 40.927048, 'longitude': -73.89499}         False   \n",
       "474     {'latitude': 40.93372, 'longitude': -73.88753}         False   \n",
       "1383   {'latitude': 41.566185, 'longitude': -81.58558}         False   \n",
       "1639    {'latitude': 41.46846, 'longitude': -81.58647}         False   \n",
       "\n",
       "                  sgapt has3DModel hasVideo hasAdditionalAttributions  \\\n",
       "105   For Sale (Broker)      False    False                      True   \n",
       "287   For Sale (Broker)      False    False                      True   \n",
       "474   For Sale (Broker)      False    False                      True   \n",
       "1383  For Sale (Broker)      False    False                      True   \n",
       "1639  For Sale (Broker)      False    False                      True   \n",
       "\n",
       "           homeType priceReductionStr  lotAreaRaw  priceReductionRatio  \n",
       "105    MULTI_FAMILY               0.0     65775.6                  0.0  \n",
       "287    MULTI_FAMILY               0.0         0.0                  0.0  \n",
       "474   SINGLE_FAMILY               0.0      2487.0                  0.0  \n",
       "1383   MULTI_FAMILY               0.0      4791.6                  0.0  \n",
       "1639   MULTI_FAMILY               0.0         0.0                  0.0  \n",
       "\n",
       "[5 rows x 21 columns]"
      ]
     },
     "execution_count": 51,
     "metadata": {},
     "output_type": "execute_result"
    }
   ],
   "source": [
    "df[df['beds'].astype(float) > 10].head()"
   ]
  },
  {
   "cell_type": "code",
   "execution_count": 52,
   "id": "118a8c31",
   "metadata": {},
   "outputs": [
    {
     "data": {
      "text/plain": [
       "(295, 21)"
      ]
     },
     "execution_count": 52,
     "metadata": {},
     "output_type": "execute_result"
    }
   ],
   "source": [
    "df[df['beds'].astype(float) > 10].shape"
   ]
  },
  {
   "cell_type": "markdown",
   "id": "2aefc613",
   "metadata": {},
   "source": [
    "295 properties have more than 10 bedrooms, we will drop these rows because they could be viewed as outliers in our dataset. We will only keep properties with <= 10 bedrooms and fill missing values with the mode."
   ]
  },
  {
   "cell_type": "code",
   "execution_count": 53,
   "id": "e3f5866d",
   "metadata": {},
   "outputs": [
    {
     "data": {
      "text/plain": [
       "3.0       41278\n",
       "4.0       27435\n",
       "2.0       20336\n",
       "5.0        8421\n",
       "1.0        6315\n",
       "          ...  \n",
       "2226.0        1\n",
       "51.0          1\n",
       "7800.0        1\n",
       "72.0          1\n",
       "190.0         1\n",
       "Name: beds, Length: 62, dtype: int64"
      ]
     },
     "execution_count": 53,
     "metadata": {},
     "output_type": "execute_result"
    }
   ],
   "source": [
    "df['beds'].value_counts()"
   ]
  },
  {
   "cell_type": "code",
   "execution_count": 54,
   "id": "26563c55",
   "metadata": {},
   "outputs": [],
   "source": [
    "df['beds'].fillna('3.0', inplace = True)"
   ]
  },
  {
   "cell_type": "code",
   "execution_count": 55,
   "id": "459fd727",
   "metadata": {},
   "outputs": [],
   "source": [
    "df = df[df['beds'].astype(float) <= 10]"
   ]
  },
  {
   "cell_type": "code",
   "execution_count": 56,
   "id": "afa05743",
   "metadata": {},
   "outputs": [
    {
     "name": "stderr",
     "output_type": "stream",
     "text": [
      "/var/folders/4s/slgnngk162n5t_ts7hcfx3080000gn/T/ipykernel_36490/2421672986.py:1: FutureWarning: The default value of regex will change from True to False in a future version.\n",
      "  df['beds'] = df['beds'].str.replace('.0', '')\n"
     ]
    }
   ],
   "source": [
    "df['beds'] = df['beds'].str.replace('.0', '')"
   ]
  },
  {
   "cell_type": "code",
   "execution_count": 57,
   "id": "ccd96be1",
   "metadata": {
    "scrolled": true
   },
   "outputs": [
    {
     "data": {
      "text/plain": [
       "3    55898\n",
       "4    28025\n",
       "2    20699\n",
       "5     8581\n",
       "1     6385\n",
       "6     2688\n",
       "0     1332\n",
       "7      740\n",
       "8      545\n",
       "9      237\n",
       "       118\n",
       "Name: beds, dtype: int64"
      ]
     },
     "execution_count": 57,
     "metadata": {},
     "output_type": "execute_result"
    }
   ],
   "source": [
    "df['beds'].value_counts()"
   ]
  },
  {
   "cell_type": "code",
   "execution_count": 58,
   "id": "11098021",
   "metadata": {},
   "outputs": [],
   "source": [
    "df = df[df['beds'] != '']"
   ]
  },
  {
   "cell_type": "markdown",
   "id": "6c5b7d10",
   "metadata": {},
   "source": [
    "##### 'baths'"
   ]
  },
  {
   "cell_type": "code",
   "execution_count": 59,
   "id": "e1efca26",
   "metadata": {},
   "outputs": [
    {
     "data": {
      "text/plain": [
       "8698      175.0\n",
       "91827      51.0\n",
       "35688      35.0\n",
       "15765      35.0\n",
       "120382     30.0\n",
       "          ...  \n",
       "125539      NaN\n",
       "125540      NaN\n",
       "125541      NaN\n",
       "125542      NaN\n",
       "125543      NaN\n",
       "Name: baths, Length: 125130, dtype: float64"
      ]
     },
     "execution_count": 59,
     "metadata": {},
     "output_type": "execute_result"
    }
   ],
   "source": [
    "df['baths'].astype(float).sort_values(ascending = False)"
   ]
  },
  {
   "cell_type": "code",
   "execution_count": 60,
   "id": "00314f52",
   "metadata": {},
   "outputs": [
    {
     "data": {
      "image/png": "[encoded data removed]",
      "text/plain": [
       "<Figure size 640x480 with 1 Axes>"
      ]
     },
     "metadata": {},
     "output_type": "display_data"
    }
   ],
   "source": [
    "plt.hist(df['baths'].astype(float), bins = range(1, 50, 1))\n",
    "plt.show()"
   ]
  },
  {
   "cell_type": "code",
   "execution_count": 61,
   "id": "01ef1020",
   "metadata": {},
   "outputs": [
    {
     "data": {
      "text/plain": [
       "2.0    39559\n",
       "3.0    26058\n",
       "1.0    16091\n",
       "4.0     9186\n",
       "2       5329\n",
       "Name: baths, dtype: int64"
      ]
     },
     "execution_count": 61,
     "metadata": {},
     "output_type": "execute_result"
    }
   ],
   "source": [
    "df['baths'].value_counts().head()"
   ]
  },
  {
   "cell_type": "markdown",
   "id": "84e5c37a",
   "metadata": {},
   "source": [
    "Because the majority of properties have less than 10 bathrooms, we will first fill in missing values with the mode and then drop rows with more than 10 bathrooms."
   ]
  },
  {
   "cell_type": "code",
   "execution_count": 62,
   "id": "e6c9f8ae",
   "metadata": {},
   "outputs": [],
   "source": [
    "df['baths'].fillna('2.0', inplace = True)"
   ]
  },
  {
   "cell_type": "code",
   "execution_count": 63,
   "id": "abeb8a90",
   "metadata": {},
   "outputs": [],
   "source": [
    "df = df[df['baths'].astype(float) <= 10]"
   ]
  },
  {
   "cell_type": "code",
   "execution_count": 64,
   "id": "0e09cc53",
   "metadata": {
    "scrolled": true
   },
   "outputs": [
    {
     "name": "stderr",
     "output_type": "stream",
     "text": [
      "/var/folders/4s/slgnngk162n5t_ts7hcfx3080000gn/T/ipykernel_36490/1839513713.py:1: FutureWarning: The default value of regex will change from True to False in a future version.\n",
      "  df['baths'] = df['baths'].str.replace('.0', '')\n"
     ]
    }
   ],
   "source": [
    "df['baths'] = df['baths'].str.replace('.0', '')"
   ]
  },
  {
   "cell_type": "code",
   "execution_count": 65,
   "id": "05080bae",
   "metadata": {},
   "outputs": [
    {
     "data": {
      "text/plain": [
       "2       55768\n",
       "3       30263\n",
       "1       17833\n",
       "4       10897\n",
       "5        3631\n",
       "0        3332\n",
       "6        1628\n",
       "7         795\n",
       "8         409\n",
       "9         258\n",
       "          111\n",
       "2.5        12\n",
       "4.1        10\n",
       "2.1         7\n",
       "3.1         3\n",
       "1.5         3\n",
       "2.2         2\n",
       "3.5         1\n",
       "3.3         1\n",
       "1.75        1\n",
       "4.5         1\n",
       "5.2         1\n",
       "Name: baths, dtype: int64"
      ]
     },
     "execution_count": 65,
     "metadata": {},
     "output_type": "execute_result"
    }
   ],
   "source": [
    "df['baths'].value_counts()"
   ]
  },
  {
   "cell_type": "markdown",
   "id": "443e7c42",
   "metadata": {},
   "source": [
    "We will keep only properties with full bathrooms."
   ]
  },
  {
   "cell_type": "code",
   "execution_count": 66,
   "id": "374a54df",
   "metadata": {},
   "outputs": [],
   "source": [
    "df = df[df['baths'].apply(lambda x: len(x) == 1)]"
   ]
  },
  {
   "cell_type": "code",
   "execution_count": 67,
   "id": "ac67a721",
   "metadata": {},
   "outputs": [
    {
     "data": {
      "text/plain": [
       "2    55768\n",
       "3    30263\n",
       "1    17833\n",
       "4    10897\n",
       "5     3631\n",
       "0     3332\n",
       "6     1628\n",
       "7      795\n",
       "8      409\n",
       "9      258\n",
       "Name: baths, dtype: int64"
      ]
     },
     "execution_count": 67,
     "metadata": {},
     "output_type": "execute_result"
    }
   ],
   "source": [
    "df['baths'].value_counts()"
   ]
  },
  {
   "cell_type": "markdown",
   "id": "7739aad4",
   "metadata": {},
   "source": [
    "##### 'area'"
   ]
  },
  {
   "cell_type": "code",
   "execution_count": 68,
   "id": "7e9382de",
   "metadata": {},
   "outputs": [
    {
     "data": {
      "image/png": "[encoded data removed]",
      "text/plain": [
       "<Figure size 640x480 with 1 Axes>"
      ]
     },
     "metadata": {},
     "output_type": "display_data"
    }
   ],
   "source": [
    "plt.hist(df['area'], bins = range(1, 20000, 1000))\n",
    "plt.show()"
   ]
  },
  {
   "cell_type": "markdown",
   "id": "c8b0a159",
   "metadata": {},
   "source": [
    "Because the distribution is rightly skewed, we will fill in the missing values with the median."
   ]
  },
  {
   "cell_type": "code",
   "execution_count": 69,
   "id": "63938232",
   "metadata": {},
   "outputs": [],
   "source": [
    "df['area'].fillna(df['area'].median(), inplace = True)"
   ]
  },
  {
   "cell_type": "markdown",
   "id": "40e2de3e",
   "metadata": {},
   "source": [
    "##### 'homeType'"
   ]
  },
  {
   "cell_type": "code",
   "execution_count": 70,
   "id": "b73eb0e4",
   "metadata": {},
   "outputs": [
    {
     "data": {
      "text/plain": [
       "SINGLE_FAMILY    76141\n",
       "CONDO            19583\n",
       "LOT              12383\n",
       "TOWNHOUSE         7145\n",
       "MULTI_FAMILY      6155\n",
       "MANUFACTURED      1693\n",
       "APARTMENT          303\n",
       "Name: homeType, dtype: int64"
      ]
     },
     "execution_count": 70,
     "metadata": {},
     "output_type": "execute_result"
    }
   ],
   "source": [
    "df['homeType'].value_counts()"
   ]
  },
  {
   "cell_type": "code",
   "execution_count": 71,
   "id": "57b0e9a2",
   "metadata": {},
   "outputs": [],
   "source": [
    "df['homeType'].fillna('SINGLE_FAMILY', inplace = True)"
   ]
  },
  {
   "cell_type": "markdown",
   "id": "89115eee",
   "metadata": {},
   "source": [
    "##### 'lotAreaRaw'"
   ]
  },
  {
   "cell_type": "code",
   "execution_count": 72,
   "id": "9605e7bf",
   "metadata": {},
   "outputs": [
    {
     "data": {
      "image/png": "[encoded data removed]",
      "text/plain": [
       "<Figure size 640x480 with 1 Axes>"
      ]
     },
     "metadata": {},
     "output_type": "display_data"
    }
   ],
   "source": [
    "plt.hist(df['lotAreaRaw'], bins = range(1, 50000, 1000))\n",
    "plt.show()"
   ]
  },
  {
   "cell_type": "code",
   "execution_count": 73,
   "id": "d595536d",
   "metadata": {},
   "outputs": [],
   "source": [
    "df['lotAreaRaw'].fillna(df['lotAreaRaw'].median(), inplace = True)"
   ]
  },
  {
   "cell_type": "code",
   "execution_count": 74,
   "id": "5d1a7751",
   "metadata": {},
   "outputs": [],
   "source": [
    "df.dropna(inplace = True)\n",
    "df.reset_index(inplace = True)\n",
    "df = df.iloc[1:, ]"
   ]
  },
  {
   "cell_type": "code",
   "execution_count": 75,
   "id": "d677ac21",
   "metadata": {},
   "outputs": [
    {
     "name": "stdout",
     "output_type": "stream",
     "text": [
      "<class 'pandas.core.frame.DataFrame'>\n",
      "RangeIndex: 121976 entries, 1 to 121976\n",
      "Data columns (total 22 columns):\n",
      " #   Column                     Non-Null Count   Dtype  \n",
      "---  ------                     --------------   -----  \n",
      " 0   index                      121976 non-null  int64  \n",
      " 1   statusText                 121976 non-null  object \n",
      " 2   unformattedPrice           121976 non-null  float64\n",
      " 3   address                    121976 non-null  object \n",
      " 4   addressStreet              121976 non-null  object \n",
      " 5   addressCity                121976 non-null  object \n",
      " 6   addressState               121976 non-null  object \n",
      " 7   addressZipcode             121976 non-null  object \n",
      " 8   isUndisclosedAddress       121976 non-null  object \n",
      " 9   beds                       121976 non-null  object \n",
      " 10  baths                      121976 non-null  object \n",
      " 11  area                       121976 non-null  float64\n",
      " 12  latLong                    121976 non-null  object \n",
      " 13  isZillowOwned              121976 non-null  object \n",
      " 14  sgapt                      121976 non-null  object \n",
      " 15  has3DModel                 121976 non-null  object \n",
      " 16  hasVideo                   121976 non-null  object \n",
      " 17  hasAdditionalAttributions  121976 non-null  object \n",
      " 18  homeType                   121976 non-null  object \n",
      " 19  priceReductionStr          121976 non-null  float64\n",
      " 20  lotAreaRaw                 121976 non-null  float64\n",
      " 21  priceReductionRatio        121976 non-null  float64\n",
      "dtypes: float64(5), int64(1), object(16)\n",
      "memory usage: 20.5+ MB\n"
     ]
    }
   ],
   "source": [
    "df.info()"
   ]
  },
  {
   "cell_type": "markdown",
   "id": "b1f954e4",
   "metadata": {},
   "source": [
    "## Feature Engineering "
   ]
  },
  {
   "cell_type": "markdown",
   "id": "9bcf8bed",
   "metadata": {},
   "source": [
    "We can extract latitude and longitude from the 'latLong' column."
   ]
  },
  {
   "cell_type": "code",
   "execution_count": 76,
   "id": "07f27ef8",
   "metadata": {
    "scrolled": true
   },
   "outputs": [
    {
     "data": {
      "text/html": [
       "<div>\n",
       "<style scoped>\n",
       "    .dataframe tbody tr th:only-of-type {\n",
       "        vertical-align: middle;\n",
       "    }\n",
       "\n",
       "    .dataframe tbody tr th {\n",
       "        vertical-align: top;\n",
       "    }\n",
       "\n",
       "    .dataframe thead th {\n",
       "        text-align: right;\n",
       "    }\n",
       "</style>\n",
       "<table border=\"1\" class=\"dataframe\">\n",
       "  <thead>\n",
       "    <tr style=\"text-align: right;\">\n",
       "      <th></th>\n",
       "      <th>index</th>\n",
       "      <th>statusText</th>\n",
       "      <th>unformattedPrice</th>\n",
       "      <th>address</th>\n",
       "      <th>addressStreet</th>\n",
       "      <th>addressCity</th>\n",
       "      <th>addressState</th>\n",
       "      <th>addressZipcode</th>\n",
       "      <th>isUndisclosedAddress</th>\n",
       "      <th>beds</th>\n",
       "      <th>...</th>\n",
       "      <th>latLong</th>\n",
       "      <th>isZillowOwned</th>\n",
       "      <th>sgapt</th>\n",
       "      <th>has3DModel</th>\n",
       "      <th>hasVideo</th>\n",
       "      <th>hasAdditionalAttributions</th>\n",
       "      <th>homeType</th>\n",
       "      <th>priceReductionStr</th>\n",
       "      <th>lotAreaRaw</th>\n",
       "      <th>priceReductionRatio</th>\n",
       "    </tr>\n",
       "  </thead>\n",
       "  <tbody>\n",
       "    <tr>\n",
       "      <th>24</th>\n",
       "      <td>24</td>\n",
       "      <td>Home for sale</td>\n",
       "      <td>100000.0</td>\n",
       "      <td>7908 Toyak Ave SPACE 10, Fontana, CA 92336</td>\n",
       "      <td>7908 Toyak Ave SPACE 10</td>\n",
       "      <td>Fontana</td>\n",
       "      <td>CA</td>\n",
       "      <td>92336</td>\n",
       "      <td>False</td>\n",
       "      <td>2</td>\n",
       "      <td>...</td>\n",
       "      <td>{}</td>\n",
       "      <td>False</td>\n",
       "      <td>For Sale (Broker)</td>\n",
       "      <td>False</td>\n",
       "      <td>False</td>\n",
       "      <td>True</td>\n",
       "      <td>MANUFACTURED</td>\n",
       "      <td>0.0</td>\n",
       "      <td>0.0</td>\n",
       "      <td>0.0</td>\n",
       "    </tr>\n",
       "    <tr>\n",
       "      <th>83</th>\n",
       "      <td>83</td>\n",
       "      <td>New construction</td>\n",
       "      <td>670490.0</td>\n",
       "      <td>7255 Rhapsody Ln, Fontana, CA 92336</td>\n",
       "      <td>7255 Rhapsody Ln</td>\n",
       "      <td>Fontana</td>\n",
       "      <td>CA</td>\n",
       "      <td>92336</td>\n",
       "      <td>False</td>\n",
       "      <td>4</td>\n",
       "      <td>...</td>\n",
       "      <td>{}</td>\n",
       "      <td>False</td>\n",
       "      <td>New Construction</td>\n",
       "      <td>False</td>\n",
       "      <td>False</td>\n",
       "      <td>True</td>\n",
       "      <td>SINGLE_FAMILY</td>\n",
       "      <td>0.0</td>\n",
       "      <td>2686.0</td>\n",
       "      <td>0.0</td>\n",
       "    </tr>\n",
       "    <tr>\n",
       "      <th>101</th>\n",
       "      <td>101</td>\n",
       "      <td>Lot / Land for sale</td>\n",
       "      <td>220000.0</td>\n",
       "      <td>0 Mountain View Ave, Fontana, CA 92336</td>\n",
       "      <td>0 Mountain View Ave</td>\n",
       "      <td>Fontana</td>\n",
       "      <td>CA</td>\n",
       "      <td>92336</td>\n",
       "      <td>False</td>\n",
       "      <td>3</td>\n",
       "      <td>...</td>\n",
       "      <td>{}</td>\n",
       "      <td>False</td>\n",
       "      <td>For Sale (Broker)</td>\n",
       "      <td>False</td>\n",
       "      <td>False</td>\n",
       "      <td>True</td>\n",
       "      <td>LOT</td>\n",
       "      <td>0.0</td>\n",
       "      <td>19800.0</td>\n",
       "      <td>0.0</td>\n",
       "    </tr>\n",
       "    <tr>\n",
       "      <th>114</th>\n",
       "      <td>115</td>\n",
       "      <td>New construction</td>\n",
       "      <td>794920.0</td>\n",
       "      <td>15727 Parry Peak Dr, Fontana, CA 92336</td>\n",
       "      <td>15727 Parry Peak Dr</td>\n",
       "      <td>Fontana</td>\n",
       "      <td>CA</td>\n",
       "      <td>92336</td>\n",
       "      <td>False</td>\n",
       "      <td>5</td>\n",
       "      <td>...</td>\n",
       "      <td>{}</td>\n",
       "      <td>False</td>\n",
       "      <td>New Construction</td>\n",
       "      <td>False</td>\n",
       "      <td>False</td>\n",
       "      <td>True</td>\n",
       "      <td>SINGLE_FAMILY</td>\n",
       "      <td>0.0</td>\n",
       "      <td>5250.0</td>\n",
       "      <td>0.0</td>\n",
       "    </tr>\n",
       "    <tr>\n",
       "      <th>138</th>\n",
       "      <td>139</td>\n",
       "      <td>New construction</td>\n",
       "      <td>688432.0</td>\n",
       "      <td>6951 Stonecrop Ln, Fontana, CA 92336</td>\n",
       "      <td>6951 Stonecrop Ln</td>\n",
       "      <td>Fontana</td>\n",
       "      <td>CA</td>\n",
       "      <td>92336</td>\n",
       "      <td>False</td>\n",
       "      <td>3</td>\n",
       "      <td>...</td>\n",
       "      <td>{}</td>\n",
       "      <td>False</td>\n",
       "      <td>New Construction</td>\n",
       "      <td>False</td>\n",
       "      <td>False</td>\n",
       "      <td>True</td>\n",
       "      <td>CONDO</td>\n",
       "      <td>0.0</td>\n",
       "      <td>0.0</td>\n",
       "      <td>0.0</td>\n",
       "    </tr>\n",
       "    <tr>\n",
       "      <th>...</th>\n",
       "      <td>...</td>\n",
       "      <td>...</td>\n",
       "      <td>...</td>\n",
       "      <td>...</td>\n",
       "      <td>...</td>\n",
       "      <td>...</td>\n",
       "      <td>...</td>\n",
       "      <td>...</td>\n",
       "      <td>...</td>\n",
       "      <td>...</td>\n",
       "      <td>...</td>\n",
       "      <td>...</td>\n",
       "      <td>...</td>\n",
       "      <td>...</td>\n",
       "      <td>...</td>\n",
       "      <td>...</td>\n",
       "      <td>...</td>\n",
       "      <td>...</td>\n",
       "      <td>...</td>\n",
       "      <td>...</td>\n",
       "      <td>...</td>\n",
       "    </tr>\n",
       "    <tr>\n",
       "      <th>121840</th>\n",
       "      <td>125395</td>\n",
       "      <td>House for sale</td>\n",
       "      <td>489000.0</td>\n",
       "      <td>178-182 Weequahic Ave, Newark, NJ 07112</td>\n",
       "      <td>178-182 Weequahic Ave</td>\n",
       "      <td>Newark</td>\n",
       "      <td>NJ</td>\n",
       "      <td>7112</td>\n",
       "      <td>False</td>\n",
       "      <td>5</td>\n",
       "      <td>...</td>\n",
       "      <td>{}</td>\n",
       "      <td>False</td>\n",
       "      <td>For Sale (Broker)</td>\n",
       "      <td>False</td>\n",
       "      <td>False</td>\n",
       "      <td>True</td>\n",
       "      <td>SINGLE_FAMILY</td>\n",
       "      <td>0.0</td>\n",
       "      <td>0.0</td>\n",
       "      <td>0.0</td>\n",
       "    </tr>\n",
       "    <tr>\n",
       "      <th>121848</th>\n",
       "      <td>125404</td>\n",
       "      <td>New construction</td>\n",
       "      <td>610000.0</td>\n",
       "      <td>10 Shaw Ave, Newark, NJ 07112</td>\n",
       "      <td>10 Shaw Ave</td>\n",
       "      <td>Newark</td>\n",
       "      <td>NJ</td>\n",
       "      <td>7112</td>\n",
       "      <td>False</td>\n",
       "      <td>6</td>\n",
       "      <td>...</td>\n",
       "      <td>{}</td>\n",
       "      <td>False</td>\n",
       "      <td>New Construction</td>\n",
       "      <td>False</td>\n",
       "      <td>False</td>\n",
       "      <td>True</td>\n",
       "      <td>MULTI_FAMILY</td>\n",
       "      <td>0.0</td>\n",
       "      <td>3300.0</td>\n",
       "      <td>0.0</td>\n",
       "    </tr>\n",
       "    <tr>\n",
       "      <th>121906</th>\n",
       "      <td>125468</td>\n",
       "      <td>Multi-family home for sale</td>\n",
       "      <td>330000.0</td>\n",
       "      <td>542 S 18th St FLOOR 2, Newark, NJ 07103</td>\n",
       "      <td>542 S 18th St FLOOR 2</td>\n",
       "      <td>Newark</td>\n",
       "      <td>NJ</td>\n",
       "      <td>7103</td>\n",
       "      <td>False</td>\n",
       "      <td>6</td>\n",
       "      <td>...</td>\n",
       "      <td>{}</td>\n",
       "      <td>False</td>\n",
       "      <td>For Sale (Broker)</td>\n",
       "      <td>False</td>\n",
       "      <td>False</td>\n",
       "      <td>True</td>\n",
       "      <td>MULTI_FAMILY</td>\n",
       "      <td>0.0</td>\n",
       "      <td>2613.6</td>\n",
       "      <td>0.0</td>\n",
       "    </tr>\n",
       "    <tr>\n",
       "      <th>121934</th>\n",
       "      <td>125497</td>\n",
       "      <td>Multi-family home for sale</td>\n",
       "      <td>605000.0</td>\n",
       "      <td>302 Clinton Pl #306, Newark, NJ 07112</td>\n",
       "      <td>302 Clinton Pl #306</td>\n",
       "      <td>Newark</td>\n",
       "      <td>NJ</td>\n",
       "      <td>7112</td>\n",
       "      <td>False</td>\n",
       "      <td>9</td>\n",
       "      <td>...</td>\n",
       "      <td>{}</td>\n",
       "      <td>False</td>\n",
       "      <td>For Sale (Broker)</td>\n",
       "      <td>False</td>\n",
       "      <td>False</td>\n",
       "      <td>True</td>\n",
       "      <td>MULTI_FAMILY</td>\n",
       "      <td>0.0</td>\n",
       "      <td>6969.6</td>\n",
       "      <td>0.0</td>\n",
       "    </tr>\n",
       "    <tr>\n",
       "      <th>121968</th>\n",
       "      <td>125535</td>\n",
       "      <td>Lot / Land for sale</td>\n",
       "      <td>135000.0</td>\n",
       "      <td>609 Hunterdon St, Newark, NJ 07108</td>\n",
       "      <td>609 Hunterdon St</td>\n",
       "      <td>Newark</td>\n",
       "      <td>NJ</td>\n",
       "      <td>7108</td>\n",
       "      <td>False</td>\n",
       "      <td>3</td>\n",
       "      <td>...</td>\n",
       "      <td>{}</td>\n",
       "      <td>False</td>\n",
       "      <td>For Sale (Broker)</td>\n",
       "      <td>False</td>\n",
       "      <td>False</td>\n",
       "      <td>True</td>\n",
       "      <td>LOT</td>\n",
       "      <td>0.0</td>\n",
       "      <td>2613.6</td>\n",
       "      <td>0.0</td>\n",
       "    </tr>\n",
       "  </tbody>\n",
       "</table>\n",
       "<p>5207 rows × 22 columns</p>\n",
       "</div>"
      ],
      "text/plain": [
       "         index                  statusText  unformattedPrice  \\\n",
       "24          24               Home for sale          100000.0   \n",
       "83          83            New construction          670490.0   \n",
       "101        101         Lot / Land for sale          220000.0   \n",
       "114        115            New construction          794920.0   \n",
       "138        139            New construction          688432.0   \n",
       "...        ...                         ...               ...   \n",
       "121840  125395              House for sale          489000.0   \n",
       "121848  125404            New construction          610000.0   \n",
       "121906  125468  Multi-family home for sale          330000.0   \n",
       "121934  125497  Multi-family home for sale          605000.0   \n",
       "121968  125535         Lot / Land for sale          135000.0   \n",
       "\n",
       "                                           address            addressStreet  \\\n",
       "24      7908 Toyak Ave SPACE 10, Fontana, CA 92336  7908 Toyak Ave SPACE 10   \n",
       "83             7255 Rhapsody Ln, Fontana, CA 92336         7255 Rhapsody Ln   \n",
       "101         0 Mountain View Ave, Fontana, CA 92336      0 Mountain View Ave   \n",
       "114         15727 Parry Peak Dr, Fontana, CA 92336      15727 Parry Peak Dr   \n",
       "138           6951 Stonecrop Ln, Fontana, CA 92336        6951 Stonecrop Ln   \n",
       "...                                            ...                      ...   \n",
       "121840     178-182 Weequahic Ave, Newark, NJ 07112    178-182 Weequahic Ave   \n",
       "121848               10 Shaw Ave, Newark, NJ 07112              10 Shaw Ave   \n",
       "121906     542 S 18th St FLOOR 2, Newark, NJ 07103    542 S 18th St FLOOR 2   \n",
       "121934       302 Clinton Pl #306, Newark, NJ 07112      302 Clinton Pl #306   \n",
       "121968          609 Hunterdon St, Newark, NJ 07108         609 Hunterdon St   \n",
       "\n",
       "       addressCity addressState addressZipcode isUndisclosedAddress beds  ...  \\\n",
       "24         Fontana           CA          92336                False    2  ...   \n",
       "83         Fontana           CA          92336                False    4  ...   \n",
       "101        Fontana           CA          92336                False    3  ...   \n",
       "114        Fontana           CA          92336                False    5  ...   \n",
       "138        Fontana           CA          92336                False    3  ...   \n",
       "...            ...          ...            ...                  ...  ...  ...   \n",
       "121840      Newark           NJ           7112                False    5  ...   \n",
       "121848      Newark           NJ           7112                False    6  ...   \n",
       "121906      Newark           NJ           7103                False    6  ...   \n",
       "121934      Newark           NJ           7112                False    9  ...   \n",
       "121968      Newark           NJ           7108                False    3  ...   \n",
       "\n",
       "       latLong  isZillowOwned              sgapt has3DModel hasVideo  \\\n",
       "24          {}          False  For Sale (Broker)      False    False   \n",
       "83          {}          False   New Construction      False    False   \n",
       "101         {}          False  For Sale (Broker)      False    False   \n",
       "114         {}          False   New Construction      False    False   \n",
       "138         {}          False   New Construction      False    False   \n",
       "...        ...            ...                ...        ...      ...   \n",
       "121840      {}          False  For Sale (Broker)      False    False   \n",
       "121848      {}          False   New Construction      False    False   \n",
       "121906      {}          False  For Sale (Broker)      False    False   \n",
       "121934      {}          False  For Sale (Broker)      False    False   \n",
       "121968      {}          False  For Sale (Broker)      False    False   \n",
       "\n",
       "       hasAdditionalAttributions       homeType priceReductionStr lotAreaRaw  \\\n",
       "24                          True   MANUFACTURED               0.0        0.0   \n",
       "83                          True  SINGLE_FAMILY               0.0     2686.0   \n",
       "101                         True            LOT               0.0    19800.0   \n",
       "114                         True  SINGLE_FAMILY               0.0     5250.0   \n",
       "138                         True          CONDO               0.0        0.0   \n",
       "...                          ...            ...               ...        ...   \n",
       "121840                      True  SINGLE_FAMILY               0.0        0.0   \n",
       "121848                      True   MULTI_FAMILY               0.0     3300.0   \n",
       "121906                      True   MULTI_FAMILY               0.0     2613.6   \n",
       "121934                      True   MULTI_FAMILY               0.0     6969.6   \n",
       "121968                      True            LOT               0.0     2613.6   \n",
       "\n",
       "        priceReductionRatio  \n",
       "24                      0.0  \n",
       "83                      0.0  \n",
       "101                     0.0  \n",
       "114                     0.0  \n",
       "138                     0.0  \n",
       "...                     ...  \n",
       "121840                  0.0  \n",
       "121848                  0.0  \n",
       "121906                  0.0  \n",
       "121934                  0.0  \n",
       "121968                  0.0  \n",
       "\n",
       "[5207 rows x 22 columns]"
      ]
     },
     "execution_count": 76,
     "metadata": {},
     "output_type": "execute_result"
    }
   ],
   "source": [
    "df[df['latLong'] == '{}']"
   ]
  },
  {
   "cell_type": "markdown",
   "id": "0249ebb2",
   "metadata": {},
   "source": [
    "5225 properties in this dataset do not have latitude and longitude information, we can drop these rows."
   ]
  },
  {
   "cell_type": "code",
   "execution_count": 77,
   "id": "8088d582",
   "metadata": {},
   "outputs": [],
   "source": [
    "df = df[df['latLong'] != '{}']"
   ]
  },
  {
   "cell_type": "code",
   "execution_count": 78,
   "id": "1daa5a2b",
   "metadata": {},
   "outputs": [],
   "source": [
    "df['lat'] = df['latLong'].apply(lambda x: json.loads(x.replace(\"'\", '\"'))['latitude'])\n",
    "df['long'] = df['latLong'].apply(lambda x: json.loads(x.replace(\"'\", '\"'))['longitude'])\n",
    "df.drop(columns = 'latLong', inplace = True)"
   ]
  },
  {
   "cell_type": "code",
   "execution_count": 79,
   "id": "b19a0e97",
   "metadata": {},
   "outputs": [
    {
     "data": {
      "text/html": [
       "<div>\n",
       "<style scoped>\n",
       "    .dataframe tbody tr th:only-of-type {\n",
       "        vertical-align: middle;\n",
       "    }\n",
       "\n",
       "    .dataframe tbody tr th {\n",
       "        vertical-align: top;\n",
       "    }\n",
       "\n",
       "    .dataframe thead th {\n",
       "        text-align: right;\n",
       "    }\n",
       "</style>\n",
       "<table border=\"1\" class=\"dataframe\">\n",
       "  <thead>\n",
       "    <tr style=\"text-align: right;\">\n",
       "      <th></th>\n",
       "      <th>index</th>\n",
       "      <th>statusText</th>\n",
       "      <th>unformattedPrice</th>\n",
       "      <th>address</th>\n",
       "      <th>addressStreet</th>\n",
       "      <th>addressCity</th>\n",
       "      <th>addressState</th>\n",
       "      <th>addressZipcode</th>\n",
       "      <th>isUndisclosedAddress</th>\n",
       "      <th>beds</th>\n",
       "      <th>...</th>\n",
       "      <th>sgapt</th>\n",
       "      <th>has3DModel</th>\n",
       "      <th>hasVideo</th>\n",
       "      <th>hasAdditionalAttributions</th>\n",
       "      <th>homeType</th>\n",
       "      <th>priceReductionStr</th>\n",
       "      <th>lotAreaRaw</th>\n",
       "      <th>priceReductionRatio</th>\n",
       "      <th>lat</th>\n",
       "      <th>long</th>\n",
       "    </tr>\n",
       "  </thead>\n",
       "  <tbody>\n",
       "    <tr>\n",
       "      <th>1</th>\n",
       "      <td>1</td>\n",
       "      <td>House for sale</td>\n",
       "      <td>565000.0</td>\n",
       "      <td>6648 Logan Ave, Fontana, CA 92336</td>\n",
       "      <td>6648 Logan Ave</td>\n",
       "      <td>Fontana</td>\n",
       "      <td>CA</td>\n",
       "      <td>92336</td>\n",
       "      <td>False</td>\n",
       "      <td>4</td>\n",
       "      <td>...</td>\n",
       "      <td>For Sale (Broker)</td>\n",
       "      <td>False</td>\n",
       "      <td>False</td>\n",
       "      <td>True</td>\n",
       "      <td>SINGLE_FAMILY</td>\n",
       "      <td>0.0</td>\n",
       "      <td>6620.0</td>\n",
       "      <td>0.0</td>\n",
       "      <td>34.133167</td>\n",
       "      <td>-117.469734</td>\n",
       "    </tr>\n",
       "    <tr>\n",
       "      <th>2</th>\n",
       "      <td>2</td>\n",
       "      <td>House for sale</td>\n",
       "      <td>520000.0</td>\n",
       "      <td>9508 Marcona Ave, Fontana, CA 92335</td>\n",
       "      <td>9508 Marcona Ave</td>\n",
       "      <td>Fontana</td>\n",
       "      <td>CA</td>\n",
       "      <td>92335</td>\n",
       "      <td>False</td>\n",
       "      <td>4</td>\n",
       "      <td>...</td>\n",
       "      <td>For Sale (Broker)</td>\n",
       "      <td>False</td>\n",
       "      <td>False</td>\n",
       "      <td>True</td>\n",
       "      <td>SINGLE_FAMILY</td>\n",
       "      <td>0.0</td>\n",
       "      <td>8663.0</td>\n",
       "      <td>0.0</td>\n",
       "      <td>34.081030</td>\n",
       "      <td>-117.468796</td>\n",
       "    </tr>\n",
       "    <tr>\n",
       "      <th>3</th>\n",
       "      <td>3</td>\n",
       "      <td>House for sale</td>\n",
       "      <td>799900.0</td>\n",
       "      <td>17625 Hawthorne Ave, Fontana, CA 92335</td>\n",
       "      <td>17625 Hawthorne Ave</td>\n",
       "      <td>Fontana</td>\n",
       "      <td>CA</td>\n",
       "      <td>92335</td>\n",
       "      <td>False</td>\n",
       "      <td>5</td>\n",
       "      <td>...</td>\n",
       "      <td>For Sale (Broker)</td>\n",
       "      <td>False</td>\n",
       "      <td>False</td>\n",
       "      <td>True</td>\n",
       "      <td>SINGLE_FAMILY</td>\n",
       "      <td>0.0</td>\n",
       "      <td>16091.0</td>\n",
       "      <td>0.0</td>\n",
       "      <td>34.081074</td>\n",
       "      <td>-117.419740</td>\n",
       "    </tr>\n",
       "    <tr>\n",
       "      <th>4</th>\n",
       "      <td>4</td>\n",
       "      <td>House for sale</td>\n",
       "      <td>519999.0</td>\n",
       "      <td>16562 Iris Dr, Fontana, CA 92335</td>\n",
       "      <td>16562 Iris Dr</td>\n",
       "      <td>Fontana</td>\n",
       "      <td>CA</td>\n",
       "      <td>92335</td>\n",
       "      <td>False</td>\n",
       "      <td>3</td>\n",
       "      <td>...</td>\n",
       "      <td>For Sale (Broker)</td>\n",
       "      <td>False</td>\n",
       "      <td>False</td>\n",
       "      <td>True</td>\n",
       "      <td>SINGLE_FAMILY</td>\n",
       "      <td>0.0</td>\n",
       "      <td>8700.0</td>\n",
       "      <td>0.0</td>\n",
       "      <td>34.072838</td>\n",
       "      <td>-117.442580</td>\n",
       "    </tr>\n",
       "    <tr>\n",
       "      <th>5</th>\n",
       "      <td>5</td>\n",
       "      <td>House for sale</td>\n",
       "      <td>580000.0</td>\n",
       "      <td>9577 Sultana Ave, Fontana, CA 92335</td>\n",
       "      <td>9577 Sultana Ave</td>\n",
       "      <td>Fontana</td>\n",
       "      <td>CA</td>\n",
       "      <td>92335</td>\n",
       "      <td>False</td>\n",
       "      <td>4</td>\n",
       "      <td>...</td>\n",
       "      <td>For Sale (Broker)</td>\n",
       "      <td>False</td>\n",
       "      <td>False</td>\n",
       "      <td>True</td>\n",
       "      <td>SINGLE_FAMILY</td>\n",
       "      <td>0.0</td>\n",
       "      <td>7300.0</td>\n",
       "      <td>0.0</td>\n",
       "      <td>34.079777</td>\n",
       "      <td>-117.469215</td>\n",
       "    </tr>\n",
       "  </tbody>\n",
       "</table>\n",
       "<p>5 rows × 23 columns</p>\n",
       "</div>"
      ],
      "text/plain": [
       "   index      statusText  unformattedPrice  \\\n",
       "1      1  House for sale          565000.0   \n",
       "2      2  House for sale          520000.0   \n",
       "3      3  House for sale          799900.0   \n",
       "4      4  House for sale          519999.0   \n",
       "5      5  House for sale          580000.0   \n",
       "\n",
       "                                  address        addressStreet addressCity  \\\n",
       "1       6648 Logan Ave, Fontana, CA 92336       6648 Logan Ave     Fontana   \n",
       "2     9508 Marcona Ave, Fontana, CA 92335     9508 Marcona Ave     Fontana   \n",
       "3  17625 Hawthorne Ave, Fontana, CA 92335  17625 Hawthorne Ave     Fontana   \n",
       "4        16562 Iris Dr, Fontana, CA 92335        16562 Iris Dr     Fontana   \n",
       "5     9577 Sultana Ave, Fontana, CA 92335     9577 Sultana Ave     Fontana   \n",
       "\n",
       "  addressState addressZipcode isUndisclosedAddress beds  ...  \\\n",
       "1           CA          92336                False    4  ...   \n",
       "2           CA          92335                False    4  ...   \n",
       "3           CA          92335                False    5  ...   \n",
       "4           CA          92335                False    3  ...   \n",
       "5           CA          92335                False    4  ...   \n",
       "\n",
       "               sgapt  has3DModel hasVideo hasAdditionalAttributions  \\\n",
       "1  For Sale (Broker)       False    False                      True   \n",
       "2  For Sale (Broker)       False    False                      True   \n",
       "3  For Sale (Broker)       False    False                      True   \n",
       "4  For Sale (Broker)       False    False                      True   \n",
       "5  For Sale (Broker)       False    False                      True   \n",
       "\n",
       "        homeType priceReductionStr lotAreaRaw priceReductionRatio        lat  \\\n",
       "1  SINGLE_FAMILY               0.0     6620.0                 0.0  34.133167   \n",
       "2  SINGLE_FAMILY               0.0     8663.0                 0.0  34.081030   \n",
       "3  SINGLE_FAMILY               0.0    16091.0                 0.0  34.081074   \n",
       "4  SINGLE_FAMILY               0.0     8700.0                 0.0  34.072838   \n",
       "5  SINGLE_FAMILY               0.0     7300.0                 0.0  34.079777   \n",
       "\n",
       "         long  \n",
       "1 -117.469734  \n",
       "2 -117.468796  \n",
       "3 -117.419740  \n",
       "4 -117.442580  \n",
       "5 -117.469215  \n",
       "\n",
       "[5 rows x 23 columns]"
      ]
     },
     "execution_count": 79,
     "metadata": {},
     "output_type": "execute_result"
    }
   ],
   "source": [
    "df.head()"
   ]
  },
  {
   "cell_type": "code",
   "execution_count": 80,
   "id": "c1fc813a",
   "metadata": {},
   "outputs": [],
   "source": [
    "df = df.iloc[:, 1:]"
   ]
  },
  {
   "cell_type": "markdown",
   "id": "c7462b6b",
   "metadata": {},
   "source": [
    "As many of the variables here are not normally distributed, there are might be some extremely small/large houses that were underrepresented in the dataset. We can find and remove those outliers for better model performance."
   ]
  },
  {
   "cell_type": "code",
   "execution_count": 81,
   "id": "d3553a06",
   "metadata": {},
   "outputs": [],
   "source": [
    "df = df[df['unformattedPrice'] > 0]\n",
    "df = df[df['area'] > 0]"
   ]
  },
  {
   "cell_type": "code",
   "execution_count": 82,
   "id": "aa97967e",
   "metadata": {},
   "outputs": [],
   "source": [
    "# Function to find outlier bounds in the dataset\n",
    "def find_outliers(column):\n",
    "    Q1, Q3 = np.percentile(column, [25, 75])\n",
    "    iqr = Q3 - Q1\n",
    "    lower_range = Q1 - 1.5 * iqr\n",
    "    upper_range = Q3 + 1.5 * iqr\n",
    "    return lower_range, upper_range"
   ]
  },
  {
   "cell_type": "code",
   "execution_count": 83,
   "id": "3cda4a15",
   "metadata": {},
   "outputs": [],
   "source": [
    "# determine bounds for price and area\n",
    "pricelower, priceupper = find_outliers(df.unformattedPrice)\n",
    "arealower, areaupper = find_outliers(df.area)"
   ]
  },
  {
   "cell_type": "code",
   "execution_count": 84,
   "id": "445e9756",
   "metadata": {},
   "outputs": [],
   "source": [
    "# drop data outside of lower and upper range\n",
    "df.drop(df[(df.unformattedPrice > priceupper) | (df.unformattedPrice <= 1000)].index, inplace=True)\n",
    "df.drop(df[(df.area > areaupper) | (df.area <= 100)].index, inplace=True)"
   ]
  },
  {
   "cell_type": "code",
   "execution_count": 85,
   "id": "bec2db5a",
   "metadata": {
    "scrolled": true
   },
   "outputs": [
    {
     "data": {
      "text/html": [
       "<div>\n",
       "<style scoped>\n",
       "    .dataframe tbody tr th:only-of-type {\n",
       "        vertical-align: middle;\n",
       "    }\n",
       "\n",
       "    .dataframe tbody tr th {\n",
       "        vertical-align: top;\n",
       "    }\n",
       "\n",
       "    .dataframe thead th {\n",
       "        text-align: right;\n",
       "    }\n",
       "</style>\n",
       "<table border=\"1\" class=\"dataframe\">\n",
       "  <thead>\n",
       "    <tr style=\"text-align: right;\">\n",
       "      <th></th>\n",
       "      <th>statusText</th>\n",
       "      <th>unformattedPrice</th>\n",
       "      <th>address</th>\n",
       "      <th>addressStreet</th>\n",
       "      <th>addressCity</th>\n",
       "      <th>addressState</th>\n",
       "      <th>addressZipcode</th>\n",
       "      <th>isUndisclosedAddress</th>\n",
       "      <th>beds</th>\n",
       "      <th>baths</th>\n",
       "      <th>...</th>\n",
       "      <th>sgapt</th>\n",
       "      <th>has3DModel</th>\n",
       "      <th>hasVideo</th>\n",
       "      <th>hasAdditionalAttributions</th>\n",
       "      <th>homeType</th>\n",
       "      <th>priceReductionStr</th>\n",
       "      <th>lotAreaRaw</th>\n",
       "      <th>priceReductionRatio</th>\n",
       "      <th>lat</th>\n",
       "      <th>long</th>\n",
       "    </tr>\n",
       "  </thead>\n",
       "  <tbody>\n",
       "    <tr>\n",
       "      <th>1</th>\n",
       "      <td>House for sale</td>\n",
       "      <td>565000.0</td>\n",
       "      <td>6648 Logan Ave, Fontana, CA 92336</td>\n",
       "      <td>6648 Logan Ave</td>\n",
       "      <td>Fontana</td>\n",
       "      <td>CA</td>\n",
       "      <td>92336</td>\n",
       "      <td>False</td>\n",
       "      <td>4</td>\n",
       "      <td>3</td>\n",
       "      <td>...</td>\n",
       "      <td>For Sale (Broker)</td>\n",
       "      <td>False</td>\n",
       "      <td>False</td>\n",
       "      <td>True</td>\n",
       "      <td>SINGLE_FAMILY</td>\n",
       "      <td>0.0</td>\n",
       "      <td>6620.0</td>\n",
       "      <td>0.0</td>\n",
       "      <td>34.133167</td>\n",
       "      <td>-117.469734</td>\n",
       "    </tr>\n",
       "    <tr>\n",
       "      <th>2</th>\n",
       "      <td>House for sale</td>\n",
       "      <td>520000.0</td>\n",
       "      <td>9508 Marcona Ave, Fontana, CA 92335</td>\n",
       "      <td>9508 Marcona Ave</td>\n",
       "      <td>Fontana</td>\n",
       "      <td>CA</td>\n",
       "      <td>92335</td>\n",
       "      <td>False</td>\n",
       "      <td>4</td>\n",
       "      <td>2</td>\n",
       "      <td>...</td>\n",
       "      <td>For Sale (Broker)</td>\n",
       "      <td>False</td>\n",
       "      <td>False</td>\n",
       "      <td>True</td>\n",
       "      <td>SINGLE_FAMILY</td>\n",
       "      <td>0.0</td>\n",
       "      <td>8663.0</td>\n",
       "      <td>0.0</td>\n",
       "      <td>34.081030</td>\n",
       "      <td>-117.468796</td>\n",
       "    </tr>\n",
       "    <tr>\n",
       "      <th>3</th>\n",
       "      <td>House for sale</td>\n",
       "      <td>799900.0</td>\n",
       "      <td>17625 Hawthorne Ave, Fontana, CA 92335</td>\n",
       "      <td>17625 Hawthorne Ave</td>\n",
       "      <td>Fontana</td>\n",
       "      <td>CA</td>\n",
       "      <td>92335</td>\n",
       "      <td>False</td>\n",
       "      <td>5</td>\n",
       "      <td>3</td>\n",
       "      <td>...</td>\n",
       "      <td>For Sale (Broker)</td>\n",
       "      <td>False</td>\n",
       "      <td>False</td>\n",
       "      <td>True</td>\n",
       "      <td>SINGLE_FAMILY</td>\n",
       "      <td>0.0</td>\n",
       "      <td>16091.0</td>\n",
       "      <td>0.0</td>\n",
       "      <td>34.081074</td>\n",
       "      <td>-117.419740</td>\n",
       "    </tr>\n",
       "    <tr>\n",
       "      <th>4</th>\n",
       "      <td>House for sale</td>\n",
       "      <td>519999.0</td>\n",
       "      <td>16562 Iris Dr, Fontana, CA 92335</td>\n",
       "      <td>16562 Iris Dr</td>\n",
       "      <td>Fontana</td>\n",
       "      <td>CA</td>\n",
       "      <td>92335</td>\n",
       "      <td>False</td>\n",
       "      <td>3</td>\n",
       "      <td>2</td>\n",
       "      <td>...</td>\n",
       "      <td>For Sale (Broker)</td>\n",
       "      <td>False</td>\n",
       "      <td>False</td>\n",
       "      <td>True</td>\n",
       "      <td>SINGLE_FAMILY</td>\n",
       "      <td>0.0</td>\n",
       "      <td>8700.0</td>\n",
       "      <td>0.0</td>\n",
       "      <td>34.072838</td>\n",
       "      <td>-117.442580</td>\n",
       "    </tr>\n",
       "    <tr>\n",
       "      <th>5</th>\n",
       "      <td>House for sale</td>\n",
       "      <td>580000.0</td>\n",
       "      <td>9577 Sultana Ave, Fontana, CA 92335</td>\n",
       "      <td>9577 Sultana Ave</td>\n",
       "      <td>Fontana</td>\n",
       "      <td>CA</td>\n",
       "      <td>92335</td>\n",
       "      <td>False</td>\n",
       "      <td>4</td>\n",
       "      <td>2</td>\n",
       "      <td>...</td>\n",
       "      <td>For Sale (Broker)</td>\n",
       "      <td>False</td>\n",
       "      <td>False</td>\n",
       "      <td>True</td>\n",
       "      <td>SINGLE_FAMILY</td>\n",
       "      <td>0.0</td>\n",
       "      <td>7300.0</td>\n",
       "      <td>0.0</td>\n",
       "      <td>34.079777</td>\n",
       "      <td>-117.469215</td>\n",
       "    </tr>\n",
       "  </tbody>\n",
       "</table>\n",
       "<p>5 rows × 22 columns</p>\n",
       "</div>"
      ],
      "text/plain": [
       "       statusText  unformattedPrice                                 address  \\\n",
       "1  House for sale          565000.0       6648 Logan Ave, Fontana, CA 92336   \n",
       "2  House for sale          520000.0     9508 Marcona Ave, Fontana, CA 92335   \n",
       "3  House for sale          799900.0  17625 Hawthorne Ave, Fontana, CA 92335   \n",
       "4  House for sale          519999.0        16562 Iris Dr, Fontana, CA 92335   \n",
       "5  House for sale          580000.0     9577 Sultana Ave, Fontana, CA 92335   \n",
       "\n",
       "         addressStreet addressCity addressState addressZipcode  \\\n",
       "1       6648 Logan Ave     Fontana           CA          92336   \n",
       "2     9508 Marcona Ave     Fontana           CA          92335   \n",
       "3  17625 Hawthorne Ave     Fontana           CA          92335   \n",
       "4        16562 Iris Dr     Fontana           CA          92335   \n",
       "5     9577 Sultana Ave     Fontana           CA          92335   \n",
       "\n",
       "  isUndisclosedAddress beds baths  ...              sgapt has3DModel hasVideo  \\\n",
       "1                False    4     3  ...  For Sale (Broker)      False    False   \n",
       "2                False    4     2  ...  For Sale (Broker)      False    False   \n",
       "3                False    5     3  ...  For Sale (Broker)      False    False   \n",
       "4                False    3     2  ...  For Sale (Broker)      False    False   \n",
       "5                False    4     2  ...  For Sale (Broker)      False    False   \n",
       "\n",
       "  hasAdditionalAttributions       homeType priceReductionStr lotAreaRaw  \\\n",
       "1                      True  SINGLE_FAMILY               0.0     6620.0   \n",
       "2                      True  SINGLE_FAMILY               0.0     8663.0   \n",
       "3                      True  SINGLE_FAMILY               0.0    16091.0   \n",
       "4                      True  SINGLE_FAMILY               0.0     8700.0   \n",
       "5                      True  SINGLE_FAMILY               0.0     7300.0   \n",
       "\n",
       "   priceReductionRatio        lat        long  \n",
       "1                  0.0  34.133167 -117.469734  \n",
       "2                  0.0  34.081030 -117.468796  \n",
       "3                  0.0  34.081074 -117.419740  \n",
       "4                  0.0  34.072838 -117.442580  \n",
       "5                  0.0  34.079777 -117.469215  \n",
       "\n",
       "[5 rows x 22 columns]"
      ]
     },
     "execution_count": 85,
     "metadata": {},
     "output_type": "execute_result"
    }
   ],
   "source": [
    "df.head()"
   ]
  },
  {
   "cell_type": "code",
   "execution_count": 86,
   "id": "f9e6cd32",
   "metadata": {},
   "outputs": [],
   "source": [
    "col = []\n",
    "for i in list(df.columns):\n",
    "    \n",
    "    if len(df[i].unique()) == 1:\n",
    "        col.append(i)"
   ]
  },
  {
   "cell_type": "code",
   "execution_count": 87,
   "id": "bb4ec181",
   "metadata": {
    "scrolled": true
   },
   "outputs": [
    {
     "name": "stdout",
     "output_type": "stream",
     "text": [
      "['isUndisclosedAddress']\n"
     ]
    }
   ],
   "source": [
    "print(col)"
   ]
  },
  {
   "cell_type": "code",
   "execution_count": 88,
   "id": "59d9692c",
   "metadata": {},
   "outputs": [],
   "source": [
    "df.drop(columns = col, inplace = True)"
   ]
  },
  {
   "cell_type": "code",
   "execution_count": 89,
   "id": "369abe36",
   "metadata": {},
   "outputs": [],
   "source": [
    "df.to_csv('cleaned_data.csv', index = False)"
   ]
  },
  {
   "cell_type": "code",
   "execution_count": null,
   "id": "7cf770b9",
   "metadata": {},
   "outputs": [],
   "source": []
  }
 ],
 "metadata": {
  "kernelspec": {
   "display_name": "Python 3 (ipykernel)",
   "language": "python",
   "name": "python3"
  },
  "language_info": {
   "codemirror_mode": {
    "name": "ipython",
    "version": 3
   },
   "file_extension": ".py",
   "mimetype": "text/x-python",
   "name": "python",
   "nbconvert_exporter": "python",
   "pygments_lexer": "ipython3",
   "version": "3.8.16"
  }
 },
 "nbformat": 4,
 "nbformat_minor": 5
}
