{
 "cells": [
  {
   "cell_type": "code",
   "execution_count": 1,
   "id": "ea2d3616",
   "metadata": {},
   "outputs": [],
   "source": [
    "import pandas as pd\n",
    "import numpy as np\n",
    "import matplotlib.pyplot as plt\n",
    "import seaborn as sns"
   ]
  },
  {
   "cell_type": "code",
   "execution_count": 2,
   "id": "b01ca87d",
   "metadata": {},
   "outputs": [],
   "source": [
    "df = pd.read_csv('cleaned_data.csv')"
   ]
  },
  {
   "cell_type": "code",
   "execution_count": 3,
   "id": "10323082",
   "metadata": {},
   "outputs": [
    {
     "data": {
      "text/plain": [
       "(100770, 21)"
      ]
     },
     "execution_count": 3,
     "metadata": {},
     "output_type": "execute_result"
    }
   ],
   "source": [
    "df.shape"
   ]
  },
  {
   "cell_type": "code",
   "execution_count": 4,
   "id": "9c8055a2",
   "metadata": {
    "scrolled": true
   },
   "outputs": [
    {
     "data": {
      "text/html": [
       "<div>\n",
       "<style scoped>\n",
       "    .dataframe tbody tr th:only-of-type {\n",
       "        vertical-align: middle;\n",
       "    }\n",
       "\n",
       "    .dataframe tbody tr th {\n",
       "        vertical-align: top;\n",
       "    }\n",
       "\n",
       "    .dataframe thead th {\n",
       "        text-align: right;\n",
       "    }\n",
       "</style>\n",
       "<table border=\"1\" class=\"dataframe\">\n",
       "  <thead>\n",
       "    <tr style=\"text-align: right;\">\n",
       "      <th></th>\n",
       "      <th>statusText</th>\n",
       "      <th>unformattedPrice</th>\n",
       "      <th>address</th>\n",
       "      <th>addressStreet</th>\n",
       "      <th>addressCity</th>\n",
       "      <th>addressState</th>\n",
       "      <th>addressZipcode</th>\n",
       "      <th>beds</th>\n",
       "      <th>baths</th>\n",
       "      <th>area</th>\n",
       "      <th>...</th>\n",
       "      <th>sgapt</th>\n",
       "      <th>has3DModel</th>\n",
       "      <th>hasVideo</th>\n",
       "      <th>hasAdditionalAttributions</th>\n",
       "      <th>homeType</th>\n",
       "      <th>priceReductionStr</th>\n",
       "      <th>lotAreaRaw</th>\n",
       "      <th>priceReductionRatio</th>\n",
       "      <th>lat</th>\n",
       "      <th>long</th>\n",
       "    </tr>\n",
       "  </thead>\n",
       "  <tbody>\n",
       "    <tr>\n",
       "      <th>0</th>\n",
       "      <td>House for sale</td>\n",
       "      <td>565000.0</td>\n",
       "      <td>6648 Logan Ave, Fontana, CA 92336</td>\n",
       "      <td>6648 Logan Ave</td>\n",
       "      <td>Fontana</td>\n",
       "      <td>CA</td>\n",
       "      <td>92336.0</td>\n",
       "      <td>4</td>\n",
       "      <td>3</td>\n",
       "      <td>2362.0</td>\n",
       "      <td>...</td>\n",
       "      <td>For Sale (Broker)</td>\n",
       "      <td>False</td>\n",
       "      <td>False</td>\n",
       "      <td>True</td>\n",
       "      <td>SINGLE_FAMILY</td>\n",
       "      <td>0.0</td>\n",
       "      <td>6620.0</td>\n",
       "      <td>0.0</td>\n",
       "      <td>34.133167</td>\n",
       "      <td>-117.469734</td>\n",
       "    </tr>\n",
       "    <tr>\n",
       "      <th>1</th>\n",
       "      <td>House for sale</td>\n",
       "      <td>520000.0</td>\n",
       "      <td>9508 Marcona Ave, Fontana, CA 92335</td>\n",
       "      <td>9508 Marcona Ave</td>\n",
       "      <td>Fontana</td>\n",
       "      <td>CA</td>\n",
       "      <td>92335.0</td>\n",
       "      <td>4</td>\n",
       "      <td>2</td>\n",
       "      <td>1362.0</td>\n",
       "      <td>...</td>\n",
       "      <td>For Sale (Broker)</td>\n",
       "      <td>False</td>\n",
       "      <td>False</td>\n",
       "      <td>True</td>\n",
       "      <td>SINGLE_FAMILY</td>\n",
       "      <td>0.0</td>\n",
       "      <td>8663.0</td>\n",
       "      <td>0.0</td>\n",
       "      <td>34.081030</td>\n",
       "      <td>-117.468796</td>\n",
       "    </tr>\n",
       "    <tr>\n",
       "      <th>2</th>\n",
       "      <td>House for sale</td>\n",
       "      <td>799900.0</td>\n",
       "      <td>17625 Hawthorne Ave, Fontana, CA 92335</td>\n",
       "      <td>17625 Hawthorne Ave</td>\n",
       "      <td>Fontana</td>\n",
       "      <td>CA</td>\n",
       "      <td>92335.0</td>\n",
       "      <td>5</td>\n",
       "      <td>3</td>\n",
       "      <td>2683.0</td>\n",
       "      <td>...</td>\n",
       "      <td>For Sale (Broker)</td>\n",
       "      <td>False</td>\n",
       "      <td>False</td>\n",
       "      <td>True</td>\n",
       "      <td>SINGLE_FAMILY</td>\n",
       "      <td>0.0</td>\n",
       "      <td>16091.0</td>\n",
       "      <td>0.0</td>\n",
       "      <td>34.081074</td>\n",
       "      <td>-117.419740</td>\n",
       "    </tr>\n",
       "    <tr>\n",
       "      <th>3</th>\n",
       "      <td>House for sale</td>\n",
       "      <td>519999.0</td>\n",
       "      <td>16562 Iris Dr, Fontana, CA 92335</td>\n",
       "      <td>16562 Iris Dr</td>\n",
       "      <td>Fontana</td>\n",
       "      <td>CA</td>\n",
       "      <td>92335.0</td>\n",
       "      <td>3</td>\n",
       "      <td>2</td>\n",
       "      <td>1712.0</td>\n",
       "      <td>...</td>\n",
       "      <td>For Sale (Broker)</td>\n",
       "      <td>False</td>\n",
       "      <td>False</td>\n",
       "      <td>True</td>\n",
       "      <td>SINGLE_FAMILY</td>\n",
       "      <td>0.0</td>\n",
       "      <td>8700.0</td>\n",
       "      <td>0.0</td>\n",
       "      <td>34.072838</td>\n",
       "      <td>-117.442580</td>\n",
       "    </tr>\n",
       "    <tr>\n",
       "      <th>4</th>\n",
       "      <td>House for sale</td>\n",
       "      <td>580000.0</td>\n",
       "      <td>9577 Sultana Ave, Fontana, CA 92335</td>\n",
       "      <td>9577 Sultana Ave</td>\n",
       "      <td>Fontana</td>\n",
       "      <td>CA</td>\n",
       "      <td>92335.0</td>\n",
       "      <td>4</td>\n",
       "      <td>2</td>\n",
       "      <td>1564.0</td>\n",
       "      <td>...</td>\n",
       "      <td>For Sale (Broker)</td>\n",
       "      <td>False</td>\n",
       "      <td>False</td>\n",
       "      <td>True</td>\n",
       "      <td>SINGLE_FAMILY</td>\n",
       "      <td>0.0</td>\n",
       "      <td>7300.0</td>\n",
       "      <td>0.0</td>\n",
       "      <td>34.079777</td>\n",
       "      <td>-117.469215</td>\n",
       "    </tr>\n",
       "  </tbody>\n",
       "</table>\n",
       "<p>5 rows × 21 columns</p>\n",
       "</div>"
      ],
      "text/plain": [
       "       statusText  unformattedPrice                                 address  \\\n",
       "0  House for sale          565000.0       6648 Logan Ave, Fontana, CA 92336   \n",
       "1  House for sale          520000.0     9508 Marcona Ave, Fontana, CA 92335   \n",
       "2  House for sale          799900.0  17625 Hawthorne Ave, Fontana, CA 92335   \n",
       "3  House for sale          519999.0        16562 Iris Dr, Fontana, CA 92335   \n",
       "4  House for sale          580000.0     9577 Sultana Ave, Fontana, CA 92335   \n",
       "\n",
       "         addressStreet addressCity addressState  addressZipcode  beds  baths  \\\n",
       "0       6648 Logan Ave     Fontana           CA         92336.0     4      3   \n",
       "1     9508 Marcona Ave     Fontana           CA         92335.0     4      2   \n",
       "2  17625 Hawthorne Ave     Fontana           CA         92335.0     5      3   \n",
       "3        16562 Iris Dr     Fontana           CA         92335.0     3      2   \n",
       "4     9577 Sultana Ave     Fontana           CA         92335.0     4      2   \n",
       "\n",
       "     area  ...              sgapt has3DModel  hasVideo  \\\n",
       "0  2362.0  ...  For Sale (Broker)      False     False   \n",
       "1  1362.0  ...  For Sale (Broker)      False     False   \n",
       "2  2683.0  ...  For Sale (Broker)      False     False   \n",
       "3  1712.0  ...  For Sale (Broker)      False     False   \n",
       "4  1564.0  ...  For Sale (Broker)      False     False   \n",
       "\n",
       "   hasAdditionalAttributions       homeType priceReductionStr  lotAreaRaw  \\\n",
       "0                       True  SINGLE_FAMILY               0.0      6620.0   \n",
       "1                       True  SINGLE_FAMILY               0.0      8663.0   \n",
       "2                       True  SINGLE_FAMILY               0.0     16091.0   \n",
       "3                       True  SINGLE_FAMILY               0.0      8700.0   \n",
       "4                       True  SINGLE_FAMILY               0.0      7300.0   \n",
       "\n",
       "   priceReductionRatio        lat        long  \n",
       "0                  0.0  34.133167 -117.469734  \n",
       "1                  0.0  34.081030 -117.468796  \n",
       "2                  0.0  34.081074 -117.419740  \n",
       "3                  0.0  34.072838 -117.442580  \n",
       "4                  0.0  34.079777 -117.469215  \n",
       "\n",
       "[5 rows x 21 columns]"
      ]
     },
     "execution_count": 4,
     "metadata": {},
     "output_type": "execute_result"
    }
   ],
   "source": [
    "df.head()"
   ]
  },
  {
   "cell_type": "code",
   "execution_count": 5,
   "id": "02e4ff6a",
   "metadata": {
    "scrolled": false
   },
   "outputs": [
    {
     "name": "stdout",
     "output_type": "stream",
     "text": [
      "<class 'pandas.core.frame.DataFrame'>\n",
      "RangeIndex: 100770 entries, 0 to 100769\n",
      "Data columns (total 21 columns):\n",
      " #   Column                     Non-Null Count   Dtype  \n",
      "---  ------                     --------------   -----  \n",
      " 0   statusText                 100770 non-null  object \n",
      " 1   unformattedPrice           100770 non-null  float64\n",
      " 2   address                    100770 non-null  object \n",
      " 3   addressStreet              100770 non-null  object \n",
      " 4   addressCity                100770 non-null  object \n",
      " 5   addressState               100770 non-null  object \n",
      " 6   addressZipcode             100770 non-null  float64\n",
      " 7   beds                       100770 non-null  int64  \n",
      " 8   baths                      100770 non-null  int64  \n",
      " 9   area                       100770 non-null  float64\n",
      " 10  isZillowOwned              100770 non-null  bool   \n",
      " 11  sgapt                      100770 non-null  object \n",
      " 12  has3DModel                 100770 non-null  bool   \n",
      " 13  hasVideo                   100770 non-null  bool   \n",
      " 14  hasAdditionalAttributions  100770 non-null  bool   \n",
      " 15  homeType                   100770 non-null  object \n",
      " 16  priceReductionStr          100770 non-null  float64\n",
      " 17  lotAreaRaw                 100770 non-null  float64\n",
      " 18  priceReductionRatio        100770 non-null  float64\n",
      " 19  lat                        100770 non-null  float64\n",
      " 20  long                       100770 non-null  float64\n",
      "dtypes: bool(4), float64(8), int64(2), object(7)\n",
      "memory usage: 13.5+ MB\n"
     ]
    }
   ],
   "source": [
    "df.info()"
   ]
  },
  {
   "cell_type": "code",
   "execution_count": 6,
   "id": "692fd230",
   "metadata": {},
   "outputs": [],
   "source": [
    "df['addressZipcode'] = df['addressZipcode'].astype('str').apply(lambda x: x.replace('.0', ''))\n",
    "df['beds'] = df['beds'].astype('str')\n",
    "df['baths'] = df['baths'].astype('str')\n",
    "df['lat'] = df['beds'].astype('str')\n",
    "df['long'] = df['baths'].astype('str')"
   ]
  },
  {
   "cell_type": "code",
   "execution_count": 7,
   "id": "d7eb2dca",
   "metadata": {},
   "outputs": [
    {
     "name": "stdout",
     "output_type": "stream",
     "text": [
      "There are:\n",
      "5 numerical variables: \n",
      "['unformattedPrice', 'area', 'priceReductionStr', 'lotAreaRaw', 'priceReductionRatio']\n",
      "\n",
      "12 categorical variables: \n",
      "['statusText', 'address', 'addressStreet', 'addressCity', 'addressState', 'addressZipcode', 'beds', 'baths', 'sgapt', 'homeType', 'lat', 'long']\n",
      "\n",
      "4 boolean variables: \n",
      "['isZillowOwned', 'has3DModel', 'hasVideo', 'hasAdditionalAttributions']\n"
     ]
    }
   ],
   "source": [
    "numerical = 0\n",
    "categorical = 0\n",
    "boolean = 0\n",
    "\n",
    "n_ls = []\n",
    "c_ls = []\n",
    "b_ls = []\n",
    "\n",
    "for i in list(df.columns):\n",
    "    \n",
    "    if df[i].dtype == 'float64': \n",
    "        numerical += 1\n",
    "        n_ls.append(i)\n",
    "    elif df[i].dtype == 'bool': \n",
    "        boolean += 1\n",
    "        b_ls.append(i)\n",
    "    else: \n",
    "        categorical += 1\n",
    "        c_ls.append(i)\n",
    "        \n",
    "print('''There are:\n",
    "{} numerical variables: \n",
    "{}\n",
    "\n",
    "{} categorical variables: \n",
    "{}\n",
    "\n",
    "{} boolean variables: \n",
    "{}'''.format(numerical, n_ls, categorical, c_ls, boolean, b_ls))"
   ]
  },
  {
   "cell_type": "markdown",
   "id": "04dcf091",
   "metadata": {},
   "source": [
    "### Analysis of Numerical Variables"
   ]
  },
  {
   "cell_type": "code",
   "execution_count": 8,
   "id": "1afe0b60",
   "metadata": {},
   "outputs": [
    {
     "name": "stdout",
     "output_type": "stream",
     "text": [
      "['unformattedPrice', 'area', 'priceReductionStr', 'lotAreaRaw', 'priceReductionRatio']\n"
     ]
    }
   ],
   "source": [
    "print(n_ls)"
   ]
  },
  {
   "cell_type": "code",
   "execution_count": 9,
   "id": "eea8edbf",
   "metadata": {
    "scrolled": false
   },
   "outputs": [
    {
     "data": {
      "text/html": [
       "<div>\n",
       "<style scoped>\n",
       "    .dataframe tbody tr th:only-of-type {\n",
       "        vertical-align: middle;\n",
       "    }\n",
       "\n",
       "    .dataframe tbody tr th {\n",
       "        vertical-align: top;\n",
       "    }\n",
       "\n",
       "    .dataframe thead th {\n",
       "        text-align: right;\n",
       "    }\n",
       "</style>\n",
       "<table border=\"1\" class=\"dataframe\">\n",
       "  <thead>\n",
       "    <tr style=\"text-align: right;\">\n",
       "      <th></th>\n",
       "      <th>unformattedPrice</th>\n",
       "      <th>area</th>\n",
       "      <th>priceReductionStr</th>\n",
       "      <th>lotAreaRaw</th>\n",
       "      <th>priceReductionRatio</th>\n",
       "    </tr>\n",
       "  </thead>\n",
       "  <tbody>\n",
       "    <tr>\n",
       "      <th>count</th>\n",
       "      <td>1.007700e+05</td>\n",
       "      <td>100770.0000</td>\n",
       "      <td>1.007700e+05</td>\n",
       "      <td>1.007700e+05</td>\n",
       "      <td>100770.0000</td>\n",
       "    </tr>\n",
       "    <tr>\n",
       "      <th>mean</th>\n",
       "      <td>4.164648e+05</td>\n",
       "      <td>1759.4697</td>\n",
       "      <td>5.092874e+04</td>\n",
       "      <td>6.629167e+05</td>\n",
       "      <td>0.0081</td>\n",
       "    </tr>\n",
       "    <tr>\n",
       "      <th>std</th>\n",
       "      <td>2.790050e+05</td>\n",
       "      <td>682.7452</td>\n",
       "      <td>5.725900e+06</td>\n",
       "      <td>5.708274e+07</td>\n",
       "      <td>0.0366</td>\n",
       "    </tr>\n",
       "    <tr>\n",
       "      <th>min</th>\n",
       "      <td>1.100000e+03</td>\n",
       "      <td>105.0000</td>\n",
       "      <td>0.000000e+00</td>\n",
       "      <td>-1.089000e+04</td>\n",
       "      <td>0.0000</td>\n",
       "    </tr>\n",
       "    <tr>\n",
       "      <th>25%</th>\n",
       "      <td>2.150000e+05</td>\n",
       "      <td>1271.0000</td>\n",
       "      <td>0.000000e+00</td>\n",
       "      <td>8.710000e+02</td>\n",
       "      <td>0.0000</td>\n",
       "    </tr>\n",
       "    <tr>\n",
       "      <th>50%</th>\n",
       "      <td>3.595000e+05</td>\n",
       "      <td>1737.0000</td>\n",
       "      <td>0.000000e+00</td>\n",
       "      <td>5.711358e+03</td>\n",
       "      <td>0.0000</td>\n",
       "    </tr>\n",
       "    <tr>\n",
       "      <th>75%</th>\n",
       "      <td>5.590000e+05</td>\n",
       "      <td>2116.0000</td>\n",
       "      <td>0.000000e+00</td>\n",
       "      <td>9.801000e+03</td>\n",
       "      <td>0.0000</td>\n",
       "    </tr>\n",
       "    <tr>\n",
       "      <th>max</th>\n",
       "      <td>1.370000e+06</td>\n",
       "      <td>3877.0000</td>\n",
       "      <td>9.580410e+08</td>\n",
       "      <td>1.181565e+10</td>\n",
       "      <td>0.9990</td>\n",
       "    </tr>\n",
       "  </tbody>\n",
       "</table>\n",
       "</div>"
      ],
      "text/plain": [
       "       unformattedPrice         area  priceReductionStr    lotAreaRaw  \\\n",
       "count      1.007700e+05  100770.0000       1.007700e+05  1.007700e+05   \n",
       "mean       4.164648e+05    1759.4697       5.092874e+04  6.629167e+05   \n",
       "std        2.790050e+05     682.7452       5.725900e+06  5.708274e+07   \n",
       "min        1.100000e+03     105.0000       0.000000e+00 -1.089000e+04   \n",
       "25%        2.150000e+05    1271.0000       0.000000e+00  8.710000e+02   \n",
       "50%        3.595000e+05    1737.0000       0.000000e+00  5.711358e+03   \n",
       "75%        5.590000e+05    2116.0000       0.000000e+00  9.801000e+03   \n",
       "max        1.370000e+06    3877.0000       9.580410e+08  1.181565e+10   \n",
       "\n",
       "       priceReductionRatio  \n",
       "count          100770.0000  \n",
       "mean                0.0081  \n",
       "std                 0.0366  \n",
       "min                 0.0000  \n",
       "25%                 0.0000  \n",
       "50%                 0.0000  \n",
       "75%                 0.0000  \n",
       "max                 0.9990  "
      ]
     },
     "execution_count": 9,
     "metadata": {},
     "output_type": "execute_result"
    }
   ],
   "source": [
    "round(df[n_ls].describe(), 4)"
   ]
  },
  {
   "cell_type": "code",
   "execution_count": 10,
   "id": "e9a53f8c",
   "metadata": {
    "scrolled": true
   },
   "outputs": [
    {
     "data": {
      "image/png": "[encoded data removed]",
      "text/plain": [
       "<Figure size 1600x600 with 2 Axes>"
      ]
     },
     "metadata": {},
     "output_type": "display_data"
    }
   ],
   "source": [
    "fig, axs = plt.subplots(1, 2, figsize = (16, 6))\n",
    "\n",
    "axs[0].hist(df['unformattedPrice'], bins =100)\n",
    "axs[0].set_ylabel(\"Number of Properties\")\n",
    "axs[0].set_xlabel(\"Property Price\")\n",
    "axs[0].set_title(\"Distribution of Property Prices\")\n",
    "\n",
    "axs[1].hist(df['area'], bins =100)\n",
    "axs[1].set_ylabel(\"Number of Properties\")\n",
    "axs[1].set_xlabel(\"Area\")\n",
    "axs[1].set_title(\"Distribution of Property Areas\")\n",
    "\n",
    "plt.show()"
   ]
  },
  {
   "cell_type": "markdown",
   "id": "06192595",
   "metadata": {},
   "source": [
    "The distribution of property prices is slightly skewed to the right.\n",
    "We observed that properties have an abnormally high frequency of being a particular size, and we want to know the exact size of these properties. "
   ]
  },
  {
   "cell_type": "code",
   "execution_count": 11,
   "id": "ce19529f",
   "metadata": {
    "scrolled": false
   },
   "outputs": [
    {
     "data": {
      "text/plain": [
       "1737.0    12647\n",
       "1200.0      570\n",
       "1500.0      395\n",
       "1400.0      387\n",
       "1100.0      365\n",
       "Name: area, dtype: int64"
      ]
     },
     "execution_count": 11,
     "metadata": {},
     "output_type": "execute_result"
    }
   ],
   "source": [
    "df['area'].value_counts().head()"
   ]
  },
  {
   "cell_type": "code",
   "execution_count": 12,
   "id": "a2165a26",
   "metadata": {},
   "outputs": [
    {
     "data": {
      "text/plain": [
       "beds  baths\n",
       "3     2        8044\n",
       "      0        1573\n",
       "2     1         366\n",
       "4     2         316\n",
       "3     1         261\n",
       "               ... \n",
       "5     1           1\n",
       "7     8           1\n",
       "      7           1\n",
       "6     1           1\n",
       "3     7           1\n",
       "Length: 61, dtype: int64"
      ]
     },
     "execution_count": 12,
     "metadata": {},
     "output_type": "execute_result"
    }
   ],
   "source": [
    "df[df['area'] == 1737][['beds', 'baths']].value_counts()"
   ]
  },
  {
   "cell_type": "code",
   "execution_count": 13,
   "id": "7c30acb0",
   "metadata": {
    "scrolled": false
   },
   "outputs": [
    {
     "data": {
      "text/plain": [
       "0.0          86630\n",
       "10000.0       2037\n",
       "5000.0        1526\n",
       "20000.0        779\n",
       "15000.0        608\n",
       "             ...  \n",
       "290000.0         1\n",
       "11062.0          1\n",
       "24408.0          1\n",
       "9900000.0        1\n",
       "20800.0          1\n",
       "Name: priceReductionStr, Length: 1080, dtype: int64"
      ]
     },
     "execution_count": 13,
     "metadata": {},
     "output_type": "execute_result"
    }
   ],
   "source": [
    "df['priceReductionStr'].value_counts()"
   ]
  },
  {
   "cell_type": "markdown",
   "id": "8a4fe6ae",
   "metadata": {},
   "source": [
    "The majority of properties do not experience a price reduction."
   ]
  },
  {
   "cell_type": "markdown",
   "id": "48f9c6d1",
   "metadata": {},
   "source": [
    "### Analysis of Categorical Variables"
   ]
  },
  {
   "cell_type": "code",
   "execution_count": 14,
   "id": "eb7cbaf0",
   "metadata": {
    "scrolled": true
   },
   "outputs": [
    {
     "data": {
      "text/plain": [
       "['statusText',\n",
       " 'address',\n",
       " 'addressStreet',\n",
       " 'addressCity',\n",
       " 'addressState',\n",
       " 'addressZipcode',\n",
       " 'beds',\n",
       " 'baths',\n",
       " 'sgapt',\n",
       " 'homeType',\n",
       " 'lat',\n",
       " 'long']"
      ]
     },
     "execution_count": 14,
     "metadata": {},
     "output_type": "execute_result"
    }
   ],
   "source": [
    "c_ls"
   ]
  },
  {
   "cell_type": "code",
   "execution_count": 15,
   "id": "93fc0490",
   "metadata": {},
   "outputs": [
    {
     "data": {
      "text/plain": [
       "Houston        4956\n",
       "Chicago        3704\n",
       "Phoenix        3545\n",
       "Dallas         2244\n",
       "Austin         2045\n",
       "Miami          2013\n",
       "San Antonio    1767\n",
       "Louisville     1581\n",
       "Tucson         1538\n",
       "New Orleans    1373\n",
       "Name: addressCity, dtype: int64"
      ]
     },
     "execution_count": 15,
     "metadata": {},
     "output_type": "execute_result"
    }
   ],
   "source": [
    "df['addressCity'].value_counts().head(10)"
   ]
  },
  {
   "cell_type": "code",
   "execution_count": 16,
   "id": "7edd65c9",
   "metadata": {
    "scrolled": true
   },
   "outputs": [
    {
     "data": {
      "text/plain": [
       "TX    19457\n",
       "CA    10245\n",
       "FL     8950\n",
       "AZ     8046\n",
       "IL     4542\n",
       "NY     4184\n",
       "LA     3632\n",
       "GA     2979\n",
       "TN     2643\n",
       "NC     2475\n",
       "Name: addressState, dtype: int64"
      ]
     },
     "execution_count": 16,
     "metadata": {},
     "output_type": "execute_result"
    }
   ],
   "source": [
    "df['addressState'].value_counts().head(10)"
   ]
  },
  {
   "cell_type": "code",
   "execution_count": 17,
   "id": "9ed5dc9d",
   "metadata": {},
   "outputs": [
    {
     "data": {
      "text/plain": [
       "For Sale (Broker)    85759\n",
       "New Construction     13053\n",
       "Coming Soon           1110\n",
       "Foreclosure            700\n",
       "Unknown Listed By       70\n",
       "For Sale By Owner       47\n",
       "RecentChange            27\n",
       "For Sale by Agent        4\n",
       "Name: sgapt, dtype: int64"
      ]
     },
     "execution_count": 17,
     "metadata": {},
     "output_type": "execute_result"
    }
   ],
   "source": [
    "df['sgapt'].value_counts()"
   ]
  },
  {
   "cell_type": "code",
   "execution_count": 18,
   "id": "97b522fc",
   "metadata": {
    "scrolled": false
   },
   "outputs": [
    {
     "data": {
      "text/plain": [
       "SINGLE_FAMILY    62787\n",
       "CONDO            16165\n",
       "LOT               9011\n",
       "TOWNHOUSE         6327\n",
       "MULTI_FAMILY      4602\n",
       "MANUFACTURED      1614\n",
       "APARTMENT          264\n",
       "Name: homeType, dtype: int64"
      ]
     },
     "execution_count": 18,
     "metadata": {},
     "output_type": "execute_result"
    }
   ],
   "source": [
    "# homeType\n",
    "df['homeType'].value_counts()"
   ]
  },
  {
   "cell_type": "code",
   "execution_count": 19,
   "id": "d9cfe7b5",
   "metadata": {},
   "outputs": [
    {
     "data": {
      "text/plain": [
       "array([[1.        , 0.54482496],\n",
       "       [0.54482496, 1.        ]])"
      ]
     },
     "execution_count": 19,
     "metadata": {},
     "output_type": "execute_result"
    }
   ],
   "source": [
    "np.corrcoef(df['beds'].astype(int), df['baths'].astype(int))"
   ]
  },
  {
   "cell_type": "markdown",
   "id": "7fd14818",
   "metadata": {},
   "source": [
    "There is a moderate positive correlation between # of beds and # of baths."
   ]
  },
  {
   "cell_type": "code",
   "execution_count": 20,
   "id": "bd5793cc",
   "metadata": {},
   "outputs": [],
   "source": [
    "df['total_rooms'] = df['beds'].astype(int)+df['baths'].astype(int)"
   ]
  },
  {
   "cell_type": "code",
   "execution_count": 21,
   "id": "7c64f790",
   "metadata": {
    "scrolled": false
   },
   "outputs": [
    {
     "data": {
      "text/plain": [
       "5     31422\n",
       "6     18028\n",
       "4     14902\n",
       "7     13099\n",
       "3      8191\n",
       "8      5737\n",
       "2      4969\n",
       "9      2134\n",
       "10      750\n",
       "1       635\n",
       "0       313\n",
       "11      261\n",
       "12      199\n",
       "13       64\n",
       "14       27\n",
       "15       22\n",
       "16       13\n",
       "18        3\n",
       "17        1\n",
       "Name: total_rooms, dtype: int64"
      ]
     },
     "execution_count": 21,
     "metadata": {},
     "output_type": "execute_result"
    }
   ],
   "source": [
    "df['total_rooms'].value_counts()"
   ]
  },
  {
   "cell_type": "code",
   "execution_count": 22,
   "id": "0d566360",
   "metadata": {},
   "outputs": [],
   "source": [
    "df['price/sqft'] = df['unformattedPrice']/df['area']"
   ]
  },
  {
   "cell_type": "markdown",
   "id": "34c32b13",
   "metadata": {},
   "source": [
    "### Analysis of Boolean Variables"
   ]
  },
  {
   "cell_type": "code",
   "execution_count": 23,
   "id": "2b66f340",
   "metadata": {},
   "outputs": [
    {
     "data": {
      "text/plain": [
       "['isZillowOwned', 'has3DModel', 'hasVideo', 'hasAdditionalAttributions']"
      ]
     },
     "execution_count": 23,
     "metadata": {},
     "output_type": "execute_result"
    }
   ],
   "source": [
    "b_ls"
   ]
  },
  {
   "cell_type": "code",
   "execution_count": 24,
   "id": "4f2f6e64",
   "metadata": {
    "scrolled": false
   },
   "outputs": [],
   "source": [
    "zillow_owned = df['isZillowOwned'].value_counts()"
   ]
  },
  {
   "cell_type": "code",
   "execution_count": 25,
   "id": "c2dc085b",
   "metadata": {
    "scrolled": true
   },
   "outputs": [
    {
     "data": {
      "text/plain": [
       "False    91858\n",
       "True      8912\n",
       "Name: has3DModel, dtype: int64"
      ]
     },
     "execution_count": 25,
     "metadata": {},
     "output_type": "execute_result"
    }
   ],
   "source": [
    "df['has3DModel'].value_counts()"
   ]
  },
  {
   "cell_type": "code",
   "execution_count": 26,
   "id": "225e10f5",
   "metadata": {},
   "outputs": [
    {
     "data": {
      "text/plain": [
       "False    99126\n",
       "True      1644\n",
       "Name: hasVideo, dtype: int64"
      ]
     },
     "execution_count": 26,
     "metadata": {},
     "output_type": "execute_result"
    }
   ],
   "source": [
    "df['hasVideo'].value_counts()"
   ]
  },
  {
   "cell_type": "code",
   "execution_count": 27,
   "id": "88c55d81",
   "metadata": {
    "scrolled": false
   },
   "outputs": [
    {
     "data": {
      "text/plain": [
       "True     83739\n",
       "False    17031\n",
       "Name: hasAdditionalAttributions, dtype: int64"
      ]
     },
     "execution_count": 27,
     "metadata": {},
     "output_type": "execute_result"
    }
   ],
   "source": [
    "df['hasAdditionalAttributions'].value_counts()"
   ]
  },
  {
   "cell_type": "markdown",
   "id": "cc1ca490",
   "metadata": {},
   "source": [
    "### Analysis of unformattedPrice"
   ]
  },
  {
   "cell_type": "code",
   "execution_count": 28,
   "id": "080b63c1",
   "metadata": {},
   "outputs": [
    {
     "data": {
      "text/plain": [
       "<AxesSubplot: title={'center': 'unformattedPrice vs statusText'}, xlabel='unformattedPrice', ylabel='statusText'>"
      ]
     },
     "execution_count": 28,
     "metadata": {},
     "output_type": "execute_result"
    },
    {
     "data": {
      "image/png": "[encoded data removed]",
      "text/plain": [
       "<Figure size 640x480 with 1 Axes>"
      ]
     },
     "metadata": {},
     "output_type": "display_data"
    }
   ],
   "source": [
    "g = sns.pointplot(data=df, y='statusText', x='unformattedPrice')\n",
    "g.set_title('unformattedPrice vs statusText')\n",
    "g"
   ]
  },
  {
   "cell_type": "code",
   "execution_count": 29,
   "id": "32433c9b",
   "metadata": {
    "scrolled": true
   },
   "outputs": [
    {
     "data": {
      "text/plain": [
       "<AxesSubplot: title={'center': 'unformattedPrice vs homeType'}, xlabel='unformattedPrice', ylabel='homeType'>"
      ]
     },
     "execution_count": 29,
     "metadata": {},
     "output_type": "execute_result"
    },
    {
     "data": {
      "image/png": "[encoded data removed]",
      "text/plain": [
       "<Figure size 640x480 with 1 Axes>"
      ]
     },
     "metadata": {},
     "output_type": "display_data"
    }
   ],
   "source": [
    "g = sns.boxplot(data=df, y='homeType', x='unformattedPrice', orient='h')\n",
    "g.set_title('unformattedPrice vs homeType')\n",
    "g"
   ]
  },
  {
   "cell_type": "markdown",
   "id": "0fce8d12",
   "metadata": {},
   "source": [
    "#### Beds vs. Price"
   ]
  },
  {
   "cell_type": "code",
   "execution_count": 30,
   "id": "6c77ac45",
   "metadata": {
    "scrolled": true
   },
   "outputs": [
    {
     "data": {
      "text/plain": [
       "<AxesSubplot: title={'center': 'unformattedPrice vs beds'}, xlabel='unformattedPrice', ylabel='beds'>"
      ]
     },
     "execution_count": 30,
     "metadata": {},
     "output_type": "execute_result"
    },
    {
     "data": {
      "image/png": "[encoded data removed]",
      "text/plain": [
       "<Figure size 640x480 with 1 Axes>"
      ]
     },
     "metadata": {},
     "output_type": "display_data"
    }
   ],
   "source": [
    "g = sns.boxplot(data=df, y='beds', x='unformattedPrice', orient='h')\n",
    "g.set_title('unformattedPrice vs beds')\n",
    "g"
   ]
  },
  {
   "cell_type": "code",
   "execution_count": 31,
   "id": "a7056f4f",
   "metadata": {},
   "outputs": [
    {
     "name": "stderr",
     "output_type": "stream",
     "text": [
      "/var/folders/4s/slgnngk162n5t_ts7hcfx3080000gn/T/ipykernel_48954/2311584912.py:1: FutureWarning: The default value of numeric_only in DataFrameGroupBy.mean is deprecated. In a future version, numeric_only will default to False. Either specify numeric_only or select only columns which should be valid for the function.\n",
      "  df.groupby('beds').mean()[['unformattedPrice', 'area']]\n"
     ]
    },
    {
     "data": {
      "text/html": [
       "<div>\n",
       "<style scoped>\n",
       "    .dataframe tbody tr th:only-of-type {\n",
       "        vertical-align: middle;\n",
       "    }\n",
       "\n",
       "    .dataframe tbody tr th {\n",
       "        vertical-align: top;\n",
       "    }\n",
       "\n",
       "    .dataframe thead th {\n",
       "        text-align: right;\n",
       "    }\n",
       "</style>\n",
       "<table border=\"1\" class=\"dataframe\">\n",
       "  <thead>\n",
       "    <tr style=\"text-align: right;\">\n",
       "      <th></th>\n",
       "      <th>unformattedPrice</th>\n",
       "      <th>area</th>\n",
       "    </tr>\n",
       "    <tr>\n",
       "      <th>beds</th>\n",
       "      <th></th>\n",
       "      <th></th>\n",
       "    </tr>\n",
       "  </thead>\n",
       "  <tbody>\n",
       "    <tr>\n",
       "      <th>0</th>\n",
       "      <td>331303.297915</td>\n",
       "      <td>1011.563059</td>\n",
       "    </tr>\n",
       "    <tr>\n",
       "      <th>1</th>\n",
       "      <td>357451.644444</td>\n",
       "      <td>833.257639</td>\n",
       "    </tr>\n",
       "    <tr>\n",
       "      <th>2</th>\n",
       "      <td>399746.531415</td>\n",
       "      <td>1251.546957</td>\n",
       "    </tr>\n",
       "    <tr>\n",
       "      <th>3</th>\n",
       "      <td>375058.830437</td>\n",
       "      <td>1717.962123</td>\n",
       "    </tr>\n",
       "    <tr>\n",
       "      <th>4</th>\n",
       "      <td>496653.448821</td>\n",
       "      <td>2290.491171</td>\n",
       "    </tr>\n",
       "    <tr>\n",
       "      <th>5</th>\n",
       "      <td>554238.904344</td>\n",
       "      <td>2647.986304</td>\n",
       "    </tr>\n",
       "    <tr>\n",
       "      <th>6</th>\n",
       "      <td>516949.742690</td>\n",
       "      <td>2471.941520</td>\n",
       "    </tr>\n",
       "    <tr>\n",
       "      <th>7</th>\n",
       "      <td>603458.158672</td>\n",
       "      <td>2506.981550</td>\n",
       "    </tr>\n",
       "    <tr>\n",
       "      <th>8</th>\n",
       "      <td>637030.394737</td>\n",
       "      <td>2455.592105</td>\n",
       "    </tr>\n",
       "    <tr>\n",
       "      <th>9</th>\n",
       "      <td>665204.351648</td>\n",
       "      <td>2558.824176</td>\n",
       "    </tr>\n",
       "  </tbody>\n",
       "</table>\n",
       "</div>"
      ],
      "text/plain": [
       "      unformattedPrice         area\n",
       "beds                               \n",
       "0        331303.297915  1011.563059\n",
       "1        357451.644444   833.257639\n",
       "2        399746.531415  1251.546957\n",
       "3        375058.830437  1717.962123\n",
       "4        496653.448821  2290.491171\n",
       "5        554238.904344  2647.986304\n",
       "6        516949.742690  2471.941520\n",
       "7        603458.158672  2506.981550\n",
       "8        637030.394737  2455.592105\n",
       "9        665204.351648  2558.824176"
      ]
     },
     "execution_count": 31,
     "metadata": {},
     "output_type": "execute_result"
    }
   ],
   "source": [
    "df.groupby('beds').mean()[['unformattedPrice', 'area']]"
   ]
  },
  {
   "cell_type": "markdown",
   "id": "9321c45d",
   "metadata": {},
   "source": [
    "#### Baths vs. Price vs. Area "
   ]
  },
  {
   "cell_type": "code",
   "execution_count": 32,
   "id": "7f3aecf9",
   "metadata": {
    "scrolled": true
   },
   "outputs": [
    {
     "data": {
      "text/plain": [
       "<AxesSubplot: title={'center': 'unformattedPrice vs baths'}, xlabel='unformattedPrice', ylabel='baths'>"
      ]
     },
     "execution_count": 32,
     "metadata": {},
     "output_type": "execute_result"
    },
    {
     "data": {
      "image/png": "[encoded data removed]",
      "text/plain": [
       "<Figure size 640x480 with 1 Axes>"
      ]
     },
     "metadata": {},
     "output_type": "display_data"
    }
   ],
   "source": [
    "g = sns.boxplot(data=df, y='baths', x='unformattedPrice', orient='h')\n",
    "g.set_title('unformattedPrice vs baths')\n",
    "g"
   ]
  },
  {
   "cell_type": "code",
   "execution_count": 33,
   "id": "f6d79eaf",
   "metadata": {
    "scrolled": true
   },
   "outputs": [
    {
     "name": "stderr",
     "output_type": "stream",
     "text": [
      "/var/folders/4s/slgnngk162n5t_ts7hcfx3080000gn/T/ipykernel_48954/825825169.py:1: FutureWarning: The default value of numeric_only in DataFrameGroupBy.mean is deprecated. In a future version, numeric_only will default to False. Either specify numeric_only or select only columns which should be valid for the function.\n",
      "  df.groupby('baths').mean()[['unformattedPrice', 'area']]\n"
     ]
    },
    {
     "data": {
      "text/html": [
       "<div>\n",
       "<style scoped>\n",
       "    .dataframe tbody tr th:only-of-type {\n",
       "        vertical-align: middle;\n",
       "    }\n",
       "\n",
       "    .dataframe tbody tr th {\n",
       "        vertical-align: top;\n",
       "    }\n",
       "\n",
       "    .dataframe thead th {\n",
       "        text-align: right;\n",
       "    }\n",
       "</style>\n",
       "<table border=\"1\" class=\"dataframe\">\n",
       "  <thead>\n",
       "    <tr style=\"text-align: right;\">\n",
       "      <th></th>\n",
       "      <th>unformattedPrice</th>\n",
       "      <th>area</th>\n",
       "    </tr>\n",
       "    <tr>\n",
       "      <th>baths</th>\n",
       "      <th></th>\n",
       "      <th></th>\n",
       "    </tr>\n",
       "  </thead>\n",
       "  <tbody>\n",
       "    <tr>\n",
       "      <th>0</th>\n",
       "      <td>304766.434518</td>\n",
       "      <td>1755.977549</td>\n",
       "    </tr>\n",
       "    <tr>\n",
       "      <th>1</th>\n",
       "      <td>282921.514430</td>\n",
       "      <td>1036.549183</td>\n",
       "    </tr>\n",
       "    <tr>\n",
       "      <th>2</th>\n",
       "      <td>367311.227015</td>\n",
       "      <td>1597.572690</td>\n",
       "    </tr>\n",
       "    <tr>\n",
       "      <th>3</th>\n",
       "      <td>526273.468621</td>\n",
       "      <td>2207.202131</td>\n",
       "    </tr>\n",
       "    <tr>\n",
       "      <th>4</th>\n",
       "      <td>654527.031783</td>\n",
       "      <td>2768.147145</td>\n",
       "    </tr>\n",
       "    <tr>\n",
       "      <th>5</th>\n",
       "      <td>764403.607447</td>\n",
       "      <td>3038.680851</td>\n",
       "    </tr>\n",
       "    <tr>\n",
       "      <th>6</th>\n",
       "      <td>725286.890511</td>\n",
       "      <td>2664.693431</td>\n",
       "    </tr>\n",
       "    <tr>\n",
       "      <th>7</th>\n",
       "      <td>719154.666667</td>\n",
       "      <td>2533.200000</td>\n",
       "    </tr>\n",
       "    <tr>\n",
       "      <th>8</th>\n",
       "      <td>494530.769231</td>\n",
       "      <td>1973.692308</td>\n",
       "    </tr>\n",
       "    <tr>\n",
       "      <th>9</th>\n",
       "      <td>752800.000000</td>\n",
       "      <td>2313.600000</td>\n",
       "    </tr>\n",
       "  </tbody>\n",
       "</table>\n",
       "</div>"
      ],
      "text/plain": [
       "       unformattedPrice         area\n",
       "baths                               \n",
       "0         304766.434518  1755.977549\n",
       "1         282921.514430  1036.549183\n",
       "2         367311.227015  1597.572690\n",
       "3         526273.468621  2207.202131\n",
       "4         654527.031783  2768.147145\n",
       "5         764403.607447  3038.680851\n",
       "6         725286.890511  2664.693431\n",
       "7         719154.666667  2533.200000\n",
       "8         494530.769231  1973.692308\n",
       "9         752800.000000  2313.600000"
      ]
     },
     "execution_count": 33,
     "metadata": {},
     "output_type": "execute_result"
    }
   ],
   "source": [
    "df.groupby('baths').mean()[['unformattedPrice', 'area']]"
   ]
  },
  {
   "cell_type": "markdown",
   "id": "3d19cb07",
   "metadata": {},
   "source": [
    "#### Beds + Baths vs. Price vs. Area "
   ]
  },
  {
   "cell_type": "code",
   "execution_count": 34,
   "id": "d8a61bd0",
   "metadata": {
    "scrolled": true
   },
   "outputs": [
    {
     "name": "stderr",
     "output_type": "stream",
     "text": [
      "/var/folders/4s/slgnngk162n5t_ts7hcfx3080000gn/T/ipykernel_48954/4177430450.py:1: FutureWarning: The default value of numeric_only in DataFrameGroupBy.mean is deprecated. In a future version, numeric_only will default to False. Either specify numeric_only or select only columns which should be valid for the function.\n",
      "  df.groupby('total_rooms').mean()[['unformattedPrice', 'area']]\n"
     ]
    },
    {
     "data": {
      "text/html": [
       "<div>\n",
       "<style scoped>\n",
       "    .dataframe tbody tr th:only-of-type {\n",
       "        vertical-align: middle;\n",
       "    }\n",
       "\n",
       "    .dataframe tbody tr th {\n",
       "        vertical-align: top;\n",
       "    }\n",
       "\n",
       "    .dataframe thead th {\n",
       "        text-align: right;\n",
       "    }\n",
       "</style>\n",
       "<table border=\"1\" class=\"dataframe\">\n",
       "  <thead>\n",
       "    <tr style=\"text-align: right;\">\n",
       "      <th></th>\n",
       "      <th>unformattedPrice</th>\n",
       "      <th>area</th>\n",
       "    </tr>\n",
       "    <tr>\n",
       "      <th>total_rooms</th>\n",
       "      <th></th>\n",
       "      <th></th>\n",
       "    </tr>\n",
       "  </thead>\n",
       "  <tbody>\n",
       "    <tr>\n",
       "      <th>0</th>\n",
       "      <td>374121.172524</td>\n",
       "      <td>1644.006390</td>\n",
       "    </tr>\n",
       "    <tr>\n",
       "      <th>1</th>\n",
       "      <td>314979.362205</td>\n",
       "      <td>616.022047</td>\n",
       "    </tr>\n",
       "    <tr>\n",
       "      <th>2</th>\n",
       "      <td>336370.675186</td>\n",
       "      <td>813.112900</td>\n",
       "    </tr>\n",
       "    <tr>\n",
       "      <th>3</th>\n",
       "      <td>303024.364546</td>\n",
       "      <td>1199.890245</td>\n",
       "    </tr>\n",
       "    <tr>\n",
       "      <th>4</th>\n",
       "      <td>367142.489666</td>\n",
       "      <td>1276.861831</td>\n",
       "    </tr>\n",
       "    <tr>\n",
       "      <th>5</th>\n",
       "      <td>349178.740532</td>\n",
       "      <td>1633.426580</td>\n",
       "    </tr>\n",
       "    <tr>\n",
       "      <th>6</th>\n",
       "      <td>463700.699967</td>\n",
       "      <td>1948.144054</td>\n",
       "    </tr>\n",
       "    <tr>\n",
       "      <th>7</th>\n",
       "      <td>530222.889839</td>\n",
       "      <td>2394.113825</td>\n",
       "    </tr>\n",
       "    <tr>\n",
       "      <th>8</th>\n",
       "      <td>604192.053164</td>\n",
       "      <td>2740.264773</td>\n",
       "    </tr>\n",
       "    <tr>\n",
       "      <th>9</th>\n",
       "      <td>646034.165886</td>\n",
       "      <td>2951.390815</td>\n",
       "    </tr>\n",
       "    <tr>\n",
       "      <th>10</th>\n",
       "      <td>655185.398667</td>\n",
       "      <td>2810.106667</td>\n",
       "    </tr>\n",
       "    <tr>\n",
       "      <th>11</th>\n",
       "      <td>725725.337165</td>\n",
       "      <td>2760.088123</td>\n",
       "    </tr>\n",
       "    <tr>\n",
       "      <th>12</th>\n",
       "      <td>666311.643216</td>\n",
       "      <td>2675.030151</td>\n",
       "    </tr>\n",
       "    <tr>\n",
       "      <th>13</th>\n",
       "      <td>702751.531250</td>\n",
       "      <td>2453.593750</td>\n",
       "    </tr>\n",
       "    <tr>\n",
       "      <th>14</th>\n",
       "      <td>675581.370370</td>\n",
       "      <td>2506.259259</td>\n",
       "    </tr>\n",
       "    <tr>\n",
       "      <th>15</th>\n",
       "      <td>705740.909091</td>\n",
       "      <td>2464.818182</td>\n",
       "    </tr>\n",
       "    <tr>\n",
       "      <th>16</th>\n",
       "      <td>685761.538462</td>\n",
       "      <td>1960.923077</td>\n",
       "    </tr>\n",
       "    <tr>\n",
       "      <th>17</th>\n",
       "      <td>365000.000000</td>\n",
       "      <td>2348.000000</td>\n",
       "    </tr>\n",
       "    <tr>\n",
       "      <th>18</th>\n",
       "      <td>733000.000000</td>\n",
       "      <td>2056.666667</td>\n",
       "    </tr>\n",
       "  </tbody>\n",
       "</table>\n",
       "</div>"
      ],
      "text/plain": [
       "             unformattedPrice         area\n",
       "total_rooms                               \n",
       "0               374121.172524  1644.006390\n",
       "1               314979.362205   616.022047\n",
       "2               336370.675186   813.112900\n",
       "3               303024.364546  1199.890245\n",
       "4               367142.489666  1276.861831\n",
       "5               349178.740532  1633.426580\n",
       "6               463700.699967  1948.144054\n",
       "7               530222.889839  2394.113825\n",
       "8               604192.053164  2740.264773\n",
       "9               646034.165886  2951.390815\n",
       "10              655185.398667  2810.106667\n",
       "11              725725.337165  2760.088123\n",
       "12              666311.643216  2675.030151\n",
       "13              702751.531250  2453.593750\n",
       "14              675581.370370  2506.259259\n",
       "15              705740.909091  2464.818182\n",
       "16              685761.538462  1960.923077\n",
       "17              365000.000000  2348.000000\n",
       "18              733000.000000  2056.666667"
      ]
     },
     "execution_count": 34,
     "metadata": {},
     "output_type": "execute_result"
    }
   ],
   "source": [
    "df.groupby('total_rooms').mean()[['unformattedPrice', 'area']]"
   ]
  },
  {
   "cell_type": "markdown",
   "id": "597b268d",
   "metadata": {},
   "source": [
    "#### State vs. Price vs. Area vs. Price/Sqft"
   ]
  },
  {
   "cell_type": "code",
   "execution_count": 35,
   "id": "822ad917",
   "metadata": {
    "scrolled": true
   },
   "outputs": [
    {
     "name": "stderr",
     "output_type": "stream",
     "text": [
      "/var/folders/4s/slgnngk162n5t_ts7hcfx3080000gn/T/ipykernel_48954/1014546935.py:1: FutureWarning: The default value of numeric_only in DataFrameGroupBy.mean is deprecated. In a future version, numeric_only will default to False. Either specify numeric_only or select only columns which should be valid for the function.\n",
      "  df.groupby('addressState').mean()[['unformattedPrice', 'area', 'price/sqft']].sort_values(by = 'unformattedPrice', ascending = False).head(10)\n"
     ]
    },
    {
     "data": {
      "text/html": [
       "<div>\n",
       "<style scoped>\n",
       "    .dataframe tbody tr th:only-of-type {\n",
       "        vertical-align: middle;\n",
       "    }\n",
       "\n",
       "    .dataframe tbody tr th {\n",
       "        vertical-align: top;\n",
       "    }\n",
       "\n",
       "    .dataframe thead th {\n",
       "        text-align: right;\n",
       "    }\n",
       "</style>\n",
       "<table border=\"1\" class=\"dataframe\">\n",
       "  <thead>\n",
       "    <tr style=\"text-align: right;\">\n",
       "      <th></th>\n",
       "      <th>unformattedPrice</th>\n",
       "      <th>area</th>\n",
       "      <th>price/sqft</th>\n",
       "    </tr>\n",
       "    <tr>\n",
       "      <th>addressState</th>\n",
       "      <th></th>\n",
       "      <th></th>\n",
       "      <th></th>\n",
       "    </tr>\n",
       "  </thead>\n",
       "  <tbody>\n",
       "    <tr>\n",
       "      <th>WA</th>\n",
       "      <td>703648.170060</td>\n",
       "      <td>1532.837126</td>\n",
       "      <td>518.555720</td>\n",
       "    </tr>\n",
       "    <tr>\n",
       "      <th>CA</th>\n",
       "      <td>685159.404197</td>\n",
       "      <td>1509.897706</td>\n",
       "      <td>503.859416</td>\n",
       "    </tr>\n",
       "    <tr>\n",
       "      <th>UT</th>\n",
       "      <td>663533.870968</td>\n",
       "      <td>1850.064516</td>\n",
       "      <td>375.392968</td>\n",
       "    </tr>\n",
       "    <tr>\n",
       "      <th>MA</th>\n",
       "      <td>659455.036907</td>\n",
       "      <td>1349.008787</td>\n",
       "      <td>611.729093</td>\n",
       "    </tr>\n",
       "    <tr>\n",
       "      <th>ID</th>\n",
       "      <td>640416.072937</td>\n",
       "      <td>2081.445298</td>\n",
       "      <td>314.918971</td>\n",
       "    </tr>\n",
       "    <tr>\n",
       "      <th>DC</th>\n",
       "      <td>565922.758454</td>\n",
       "      <td>1132.539452</td>\n",
       "      <td>539.161194</td>\n",
       "    </tr>\n",
       "    <tr>\n",
       "      <th>CO</th>\n",
       "      <td>550018.488530</td>\n",
       "      <td>1905.583687</td>\n",
       "      <td>324.267016</td>\n",
       "    </tr>\n",
       "    <tr>\n",
       "      <th>OR</th>\n",
       "      <td>525119.276682</td>\n",
       "      <td>1727.102668</td>\n",
       "      <td>323.682315</td>\n",
       "    </tr>\n",
       "    <tr>\n",
       "      <th>HI</th>\n",
       "      <td>522087.312121</td>\n",
       "      <td>690.136364</td>\n",
       "      <td>841.193519</td>\n",
       "    </tr>\n",
       "    <tr>\n",
       "      <th>NJ</th>\n",
       "      <td>510636.302676</td>\n",
       "      <td>1612.601171</td>\n",
       "      <td>359.311810</td>\n",
       "    </tr>\n",
       "  </tbody>\n",
       "</table>\n",
       "</div>"
      ],
      "text/plain": [
       "              unformattedPrice         area  price/sqft\n",
       "addressState                                           \n",
       "WA               703648.170060  1532.837126  518.555720\n",
       "CA               685159.404197  1509.897706  503.859416\n",
       "UT               663533.870968  1850.064516  375.392968\n",
       "MA               659455.036907  1349.008787  611.729093\n",
       "ID               640416.072937  2081.445298  314.918971\n",
       "DC               565922.758454  1132.539452  539.161194\n",
       "CO               550018.488530  1905.583687  324.267016\n",
       "OR               525119.276682  1727.102668  323.682315\n",
       "HI               522087.312121   690.136364  841.193519\n",
       "NJ               510636.302676  1612.601171  359.311810"
      ]
     },
     "execution_count": 35,
     "metadata": {},
     "output_type": "execute_result"
    }
   ],
   "source": [
    "df.groupby('addressState').mean()[['unformattedPrice', 'area', 'price/sqft']].sort_values(by = 'unformattedPrice', ascending = False).head(10)"
   ]
  },
  {
   "cell_type": "code",
   "execution_count": 36,
   "id": "c35929c3",
   "metadata": {},
   "outputs": [
    {
     "name": "stderr",
     "output_type": "stream",
     "text": [
      "/var/folders/4s/slgnngk162n5t_ts7hcfx3080000gn/T/ipykernel_48954/1194850828.py:1: FutureWarning: The default value of numeric_only in DataFrameGroupBy.mean is deprecated. In a future version, numeric_only will default to False. Either specify numeric_only or select only columns which should be valid for the function.\n",
      "  df.groupby('hasAdditionalAttributions').mean()[['unformattedPrice', 'area', 'price/sqft']].sort_values(by = 'unformattedPrice', ascending = False).head(10)\n"
     ]
    },
    {
     "data": {
      "text/html": [
       "<div>\n",
       "<style scoped>\n",
       "    .dataframe tbody tr th:only-of-type {\n",
       "        vertical-align: middle;\n",
       "    }\n",
       "\n",
       "    .dataframe tbody tr th {\n",
       "        vertical-align: top;\n",
       "    }\n",
       "\n",
       "    .dataframe thead th {\n",
       "        text-align: right;\n",
       "    }\n",
       "</style>\n",
       "<table border=\"1\" class=\"dataframe\">\n",
       "  <thead>\n",
       "    <tr style=\"text-align: right;\">\n",
       "      <th></th>\n",
       "      <th>unformattedPrice</th>\n",
       "      <th>area</th>\n",
       "      <th>price/sqft</th>\n",
       "    </tr>\n",
       "    <tr>\n",
       "      <th>hasAdditionalAttributions</th>\n",
       "      <th></th>\n",
       "      <th></th>\n",
       "      <th></th>\n",
       "    </tr>\n",
       "  </thead>\n",
       "  <tbody>\n",
       "    <tr>\n",
       "      <th>False</th>\n",
       "      <td>428962.285597</td>\n",
       "      <td>1688.916857</td>\n",
       "      <td>280.269079</td>\n",
       "    </tr>\n",
       "    <tr>\n",
       "      <th>True</th>\n",
       "      <td>413923.014402</td>\n",
       "      <td>1773.818925</td>\n",
       "      <td>253.582398</td>\n",
       "    </tr>\n",
       "  </tbody>\n",
       "</table>\n",
       "</div>"
      ],
      "text/plain": [
       "                           unformattedPrice         area  price/sqft\n",
       "hasAdditionalAttributions                                           \n",
       "False                         428962.285597  1688.916857  280.269079\n",
       "True                          413923.014402  1773.818925  253.582398"
      ]
     },
     "execution_count": 36,
     "metadata": {},
     "output_type": "execute_result"
    }
   ],
   "source": [
    "df.groupby('hasAdditionalAttributions').mean()[['unformattedPrice', 'area', 'price/sqft']].sort_values(by = 'unformattedPrice', ascending = False).head(10)"
   ]
  },
  {
   "cell_type": "code",
   "execution_count": 37,
   "id": "a4447cc7",
   "metadata": {},
   "outputs": [
    {
     "data": {
      "text/plain": [
       "<AxesSubplot: title={'center': 'unformattedPrice vs hasAdditionalAttributions'}, xlabel='unformattedPrice', ylabel='hasAdditionalAttributions'>"
      ]
     },
     "execution_count": 37,
     "metadata": {},
     "output_type": "execute_result"
    },
    {
     "data": {
      "image/png": "[encoded data removed]",
      "text/plain": [
       "<Figure size 640x480 with 1 Axes>"
      ]
     },
     "metadata": {},
     "output_type": "display_data"
    }
   ],
   "source": [
    "g = sns.boxplot(data = df, y = 'hasAdditionalAttributions', x = 'unformattedPrice', orient='h')\n",
    "g.set_title('unformattedPrice vs hasAdditionalAttributions')\n",
    "g"
   ]
  },
  {
   "cell_type": "code",
   "execution_count": 38,
   "id": "177182e0",
   "metadata": {},
   "outputs": [
    {
     "name": "stderr",
     "output_type": "stream",
     "text": [
      "/var/folders/4s/slgnngk162n5t_ts7hcfx3080000gn/T/ipykernel_48954/4286666657.py:1: FutureWarning: The default value of numeric_only in DataFrameGroupBy.mean is deprecated. In a future version, numeric_only will default to False. Either specify numeric_only or select only columns which should be valid for the function.\n",
      "  df.groupby('has3DModel').mean()[['unformattedPrice', 'area', 'price/sqft']].sort_values(by = 'unformattedPrice', ascending = False).head(10)\n"
     ]
    },
    {
     "data": {
      "text/html": [
       "<div>\n",
       "<style scoped>\n",
       "    .dataframe tbody tr th:only-of-type {\n",
       "        vertical-align: middle;\n",
       "    }\n",
       "\n",
       "    .dataframe tbody tr th {\n",
       "        vertical-align: top;\n",
       "    }\n",
       "\n",
       "    .dataframe thead th {\n",
       "        text-align: right;\n",
       "    }\n",
       "</style>\n",
       "<table border=\"1\" class=\"dataframe\">\n",
       "  <thead>\n",
       "    <tr style=\"text-align: right;\">\n",
       "      <th></th>\n",
       "      <th>unformattedPrice</th>\n",
       "      <th>area</th>\n",
       "      <th>price/sqft</th>\n",
       "    </tr>\n",
       "    <tr>\n",
       "      <th>has3DModel</th>\n",
       "      <th></th>\n",
       "      <th></th>\n",
       "      <th></th>\n",
       "    </tr>\n",
       "  </thead>\n",
       "  <tbody>\n",
       "    <tr>\n",
       "      <th>True</th>\n",
       "      <td>521809.596948</td>\n",
       "      <td>1964.850875</td>\n",
       "      <td>298.105673</td>\n",
       "    </tr>\n",
       "    <tr>\n",
       "      <th>False</th>\n",
       "      <td>406244.299473</td>\n",
       "      <td>1739.543807</td>\n",
       "      <td>254.210644</td>\n",
       "    </tr>\n",
       "  </tbody>\n",
       "</table>\n",
       "</div>"
      ],
      "text/plain": [
       "            unformattedPrice         area  price/sqft\n",
       "has3DModel                                           \n",
       "True           521809.596948  1964.850875  298.105673\n",
       "False          406244.299473  1739.543807  254.210644"
      ]
     },
     "execution_count": 38,
     "metadata": {},
     "output_type": "execute_result"
    }
   ],
   "source": [
    "df.groupby('has3DModel').mean()[['unformattedPrice', 'area', 'price/sqft']].sort_values(by = 'unformattedPrice', ascending = False).head(10)"
   ]
  },
  {
   "cell_type": "code",
   "execution_count": 39,
   "id": "7160ef39",
   "metadata": {
    "scrolled": true
   },
   "outputs": [
    {
     "data": {
      "text/plain": [
       "<AxesSubplot: title={'center': 'unformattedPrice vs has3DModel'}, xlabel='unformattedPrice', ylabel='has3DModel'>"
      ]
     },
     "execution_count": 39,
     "metadata": {},
     "output_type": "execute_result"
    },
    {
     "data": {
      "image/png": "[encoded data removed]",
      "text/plain": [
       "<Figure size 640x480 with 1 Axes>"
      ]
     },
     "metadata": {},
     "output_type": "display_data"
    }
   ],
   "source": [
    "g = sns.boxplot(data = df, y = 'has3DModel', x = 'unformattedPrice', orient='h')\n",
    "g.set_title('unformattedPrice vs has3DModel')\n",
    "g"
   ]
  },
  {
   "cell_type": "code",
   "execution_count": 40,
   "id": "1ea2cb35",
   "metadata": {},
   "outputs": [
    {
     "name": "stderr",
     "output_type": "stream",
     "text": [
      "/var/folders/4s/slgnngk162n5t_ts7hcfx3080000gn/T/ipykernel_48954/2402022104.py:1: FutureWarning: The default value of numeric_only in DataFrameGroupBy.mean is deprecated. In a future version, numeric_only will default to False. Either specify numeric_only or select only columns which should be valid for the function.\n",
      "  df.groupby('hasVideo').mean()[['unformattedPrice', 'area', 'price/sqft']].sort_values(by = 'unformattedPrice', ascending = False).head(10)\n"
     ]
    },
    {
     "data": {
      "text/html": [
       "<div>\n",
       "<style scoped>\n",
       "    .dataframe tbody tr th:only-of-type {\n",
       "        vertical-align: middle;\n",
       "    }\n",
       "\n",
       "    .dataframe tbody tr th {\n",
       "        vertical-align: top;\n",
       "    }\n",
       "\n",
       "    .dataframe thead th {\n",
       "        text-align: right;\n",
       "    }\n",
       "</style>\n",
       "<table border=\"1\" class=\"dataframe\">\n",
       "  <thead>\n",
       "    <tr style=\"text-align: right;\">\n",
       "      <th></th>\n",
       "      <th>unformattedPrice</th>\n",
       "      <th>area</th>\n",
       "      <th>price/sqft</th>\n",
       "    </tr>\n",
       "    <tr>\n",
       "      <th>hasVideo</th>\n",
       "      <th></th>\n",
       "      <th></th>\n",
       "      <th></th>\n",
       "    </tr>\n",
       "  </thead>\n",
       "  <tbody>\n",
       "    <tr>\n",
       "      <th>True</th>\n",
       "      <td>602364.490268</td>\n",
       "      <td>1849.833333</td>\n",
       "      <td>361.906452</td>\n",
       "    </tr>\n",
       "    <tr>\n",
       "      <th>False</th>\n",
       "      <td>413381.643232</td>\n",
       "      <td>1757.971067</td>\n",
       "      <td>256.370931</td>\n",
       "    </tr>\n",
       "  </tbody>\n",
       "</table>\n",
       "</div>"
      ],
      "text/plain": [
       "          unformattedPrice         area  price/sqft\n",
       "hasVideo                                           \n",
       "True         602364.490268  1849.833333  361.906452\n",
       "False        413381.643232  1757.971067  256.370931"
      ]
     },
     "execution_count": 40,
     "metadata": {},
     "output_type": "execute_result"
    }
   ],
   "source": [
    "df.groupby('hasVideo').mean()[['unformattedPrice', 'area', 'price/sqft']].sort_values(by = 'unformattedPrice', ascending = False).head(10)"
   ]
  },
  {
   "cell_type": "code",
   "execution_count": 41,
   "id": "8299aca3",
   "metadata": {
    "scrolled": true
   },
   "outputs": [
    {
     "data": {
      "text/plain": [
       "<AxesSubplot: title={'center': 'unformattedPrice vs hasVideo'}, xlabel='unformattedPrice', ylabel='hasVideo'>"
      ]
     },
     "execution_count": 41,
     "metadata": {},
     "output_type": "execute_result"
    },
    {
     "data": {
      "image/png": "[encoded data removed]",
      "text/plain": [
       "<Figure size 640x480 with 1 Axes>"
      ]
     },
     "metadata": {},
     "output_type": "display_data"
    }
   ],
   "source": [
    "g = sns.boxplot(data = df, y = 'hasVideo', x = 'unformattedPrice', orient='h')\n",
    "g.set_title('unformattedPrice vs hasVideo')\n",
    "g"
   ]
  },
  {
   "cell_type": "markdown",
   "id": "40760c77",
   "metadata": {},
   "source": [
    "### properties of 1737 sqft"
   ]
  },
  {
   "cell_type": "code",
   "execution_count": 42,
   "id": "ff7d0e82",
   "metadata": {
    "scrolled": true
   },
   "outputs": [
    {
     "data": {
      "text/plain": [
       "<AxesSubplot: >"
      ]
     },
     "execution_count": 42,
     "metadata": {},
     "output_type": "execute_result"
    },
    {
     "data": {
      "image/png": "[encoded data removed]",
      "text/plain": [
       "<Figure size 640x480 with 1 Axes>"
      ]
     },
     "metadata": {},
     "output_type": "display_data"
    }
   ],
   "source": [
    "df['area'].hist(bins=100)"
   ]
  },
  {
   "cell_type": "code",
   "execution_count": 43,
   "id": "9af8238c",
   "metadata": {
    "scrolled": true
   },
   "outputs": [
    {
     "data": {
      "text/plain": [
       "1737.0    12647\n",
       "1200.0      570\n",
       "1500.0      395\n",
       "1400.0      387\n",
       "1100.0      365\n",
       "          ...  \n",
       "3079.0        1\n",
       "3708.0        1\n",
       "483.0         1\n",
       "3619.0        1\n",
       "409.0         1\n",
       "Name: area, Length: 3565, dtype: int64"
      ]
     },
     "execution_count": 43,
     "metadata": {},
     "output_type": "execute_result"
    }
   ],
   "source": [
    "df['area'].value_counts()"
   ]
  },
  {
   "cell_type": "code",
   "execution_count": 44,
   "id": "e1384877",
   "metadata": {
    "scrolled": true
   },
   "outputs": [
    {
     "data": {
      "text/html": [
       "<div>\n",
       "<style scoped>\n",
       "    .dataframe tbody tr th:only-of-type {\n",
       "        vertical-align: middle;\n",
       "    }\n",
       "\n",
       "    .dataframe tbody tr th {\n",
       "        vertical-align: top;\n",
       "    }\n",
       "\n",
       "    .dataframe thead th {\n",
       "        text-align: right;\n",
       "    }\n",
       "</style>\n",
       "<table border=\"1\" class=\"dataframe\">\n",
       "  <thead>\n",
       "    <tr style=\"text-align: right;\">\n",
       "      <th></th>\n",
       "      <th>statusText</th>\n",
       "      <th>unformattedPrice</th>\n",
       "      <th>address</th>\n",
       "      <th>addressStreet</th>\n",
       "      <th>addressCity</th>\n",
       "      <th>addressState</th>\n",
       "      <th>addressZipcode</th>\n",
       "      <th>beds</th>\n",
       "      <th>baths</th>\n",
       "      <th>area</th>\n",
       "      <th>...</th>\n",
       "      <th>hasVideo</th>\n",
       "      <th>hasAdditionalAttributions</th>\n",
       "      <th>homeType</th>\n",
       "      <th>priceReductionStr</th>\n",
       "      <th>lotAreaRaw</th>\n",
       "      <th>priceReductionRatio</th>\n",
       "      <th>lat</th>\n",
       "      <th>long</th>\n",
       "      <th>total_rooms</th>\n",
       "      <th>price/sqft</th>\n",
       "    </tr>\n",
       "  </thead>\n",
       "  <tbody>\n",
       "    <tr>\n",
       "      <th>46</th>\n",
       "      <td>Lot / Land for sale</td>\n",
       "      <td>199000.0</td>\n",
       "      <td>0 Kempster Ave, Fontana, CA 92336</td>\n",
       "      <td>0 Kempster Ave</td>\n",
       "      <td>Fontana</td>\n",
       "      <td>CA</td>\n",
       "      <td>92336</td>\n",
       "      <td>3</td>\n",
       "      <td>2</td>\n",
       "      <td>1737.0</td>\n",
       "      <td>...</td>\n",
       "      <td>False</td>\n",
       "      <td>True</td>\n",
       "      <td>LOT</td>\n",
       "      <td>0.0</td>\n",
       "      <td>13856.0</td>\n",
       "      <td>0.0</td>\n",
       "      <td>3</td>\n",
       "      <td>2</td>\n",
       "      <td>5</td>\n",
       "      <td>114.565343</td>\n",
       "    </tr>\n",
       "    <tr>\n",
       "      <th>50</th>\n",
       "      <td>Lot / Land for sale</td>\n",
       "      <td>119000.0</td>\n",
       "      <td>16139 Athol St, Fontana, CA 92335</td>\n",
       "      <td>16139 Athol St</td>\n",
       "      <td>Fontana</td>\n",
       "      <td>CA</td>\n",
       "      <td>92335</td>\n",
       "      <td>3</td>\n",
       "      <td>2</td>\n",
       "      <td>1737.0</td>\n",
       "      <td>...</td>\n",
       "      <td>False</td>\n",
       "      <td>True</td>\n",
       "      <td>LOT</td>\n",
       "      <td>0.0</td>\n",
       "      <td>12480.0</td>\n",
       "      <td>0.0</td>\n",
       "      <td>3</td>\n",
       "      <td>2</td>\n",
       "      <td>5</td>\n",
       "      <td>68.508923</td>\n",
       "    </tr>\n",
       "    <tr>\n",
       "      <th>61</th>\n",
       "      <td>Lot / Land for sale</td>\n",
       "      <td>140000.0</td>\n",
       "      <td>0 Merrill Ave, Fontana, CA 92335</td>\n",
       "      <td>0 Merrill Ave</td>\n",
       "      <td>Fontana</td>\n",
       "      <td>CA</td>\n",
       "      <td>92335</td>\n",
       "      <td>3</td>\n",
       "      <td>2</td>\n",
       "      <td>1737.0</td>\n",
       "      <td>...</td>\n",
       "      <td>False</td>\n",
       "      <td>True</td>\n",
       "      <td>LOT</td>\n",
       "      <td>0.0</td>\n",
       "      <td>9048.0</td>\n",
       "      <td>0.0</td>\n",
       "      <td>3</td>\n",
       "      <td>2</td>\n",
       "      <td>5</td>\n",
       "      <td>80.598733</td>\n",
       "    </tr>\n",
       "    <tr>\n",
       "      <th>96</th>\n",
       "      <td>Lot / Land for sale</td>\n",
       "      <td>258000.0</td>\n",
       "      <td>7659 Alder Ave, Fontana, CA 92336</td>\n",
       "      <td>7659 Alder Ave</td>\n",
       "      <td>Fontana</td>\n",
       "      <td>CA</td>\n",
       "      <td>92336</td>\n",
       "      <td>3</td>\n",
       "      <td>2</td>\n",
       "      <td>1737.0</td>\n",
       "      <td>...</td>\n",
       "      <td>False</td>\n",
       "      <td>True</td>\n",
       "      <td>LOT</td>\n",
       "      <td>0.0</td>\n",
       "      <td>14080.0</td>\n",
       "      <td>0.0</td>\n",
       "      <td>3</td>\n",
       "      <td>2</td>\n",
       "      <td>5</td>\n",
       "      <td>148.531952</td>\n",
       "    </tr>\n",
       "    <tr>\n",
       "      <th>102</th>\n",
       "      <td>Lot / Land for sale</td>\n",
       "      <td>298888.0</td>\n",
       "      <td>0 Cypress Ave, Fontana, CA 92336</td>\n",
       "      <td>0 Cypress Ave</td>\n",
       "      <td>Fontana</td>\n",
       "      <td>CA</td>\n",
       "      <td>92336</td>\n",
       "      <td>3</td>\n",
       "      <td>2</td>\n",
       "      <td>1737.0</td>\n",
       "      <td>...</td>\n",
       "      <td>False</td>\n",
       "      <td>True</td>\n",
       "      <td>LOT</td>\n",
       "      <td>0.0</td>\n",
       "      <td>8580.0</td>\n",
       "      <td>0.0</td>\n",
       "      <td>3</td>\n",
       "      <td>2</td>\n",
       "      <td>5</td>\n",
       "      <td>172.071387</td>\n",
       "    </tr>\n",
       "  </tbody>\n",
       "</table>\n",
       "<p>5 rows × 23 columns</p>\n",
       "</div>"
      ],
      "text/plain": [
       "              statusText  unformattedPrice                            address  \\\n",
       "46   Lot / Land for sale          199000.0  0 Kempster Ave, Fontana, CA 92336   \n",
       "50   Lot / Land for sale          119000.0  16139 Athol St, Fontana, CA 92335   \n",
       "61   Lot / Land for sale          140000.0   0 Merrill Ave, Fontana, CA 92335   \n",
       "96   Lot / Land for sale          258000.0  7659 Alder Ave, Fontana, CA 92336   \n",
       "102  Lot / Land for sale          298888.0   0 Cypress Ave, Fontana, CA 92336   \n",
       "\n",
       "      addressStreet addressCity addressState addressZipcode beds baths  \\\n",
       "46   0 Kempster Ave     Fontana           CA          92336    3     2   \n",
       "50   16139 Athol St     Fontana           CA          92335    3     2   \n",
       "61    0 Merrill Ave     Fontana           CA          92335    3     2   \n",
       "96   7659 Alder Ave     Fontana           CA          92336    3     2   \n",
       "102   0 Cypress Ave     Fontana           CA          92336    3     2   \n",
       "\n",
       "       area  ...  hasVideo hasAdditionalAttributions  homeType  \\\n",
       "46   1737.0  ...     False                      True       LOT   \n",
       "50   1737.0  ...     False                      True       LOT   \n",
       "61   1737.0  ...     False                      True       LOT   \n",
       "96   1737.0  ...     False                      True       LOT   \n",
       "102  1737.0  ...     False                      True       LOT   \n",
       "\n",
       "     priceReductionStr  lotAreaRaw priceReductionRatio  lat  long  \\\n",
       "46                 0.0     13856.0                 0.0    3     2   \n",
       "50                 0.0     12480.0                 0.0    3     2   \n",
       "61                 0.0      9048.0                 0.0    3     2   \n",
       "96                 0.0     14080.0                 0.0    3     2   \n",
       "102                0.0      8580.0                 0.0    3     2   \n",
       "\n",
       "     total_rooms  price/sqft  \n",
       "46             5  114.565343  \n",
       "50             5   68.508923  \n",
       "61             5   80.598733  \n",
       "96             5  148.531952  \n",
       "102            5  172.071387  \n",
       "\n",
       "[5 rows x 23 columns]"
      ]
     },
     "execution_count": 44,
     "metadata": {},
     "output_type": "execute_result"
    }
   ],
   "source": [
    "df[df['area'] == 1737].head()"
   ]
  },
  {
   "cell_type": "markdown",
   "id": "581ed7bf",
   "metadata": {},
   "source": [
    "All these properties are located in different address and priced differently on Zillow, so we assumed that these properties are accurately measured. "
   ]
  },
  {
   "cell_type": "code",
   "execution_count": 45,
   "id": "9663b0a4",
   "metadata": {},
   "outputs": [],
   "source": [
    "a = df[df['area'] == 1737][['beds', 'baths']].copy()"
   ]
  },
  {
   "cell_type": "code",
   "execution_count": 46,
   "id": "8c598291",
   "metadata": {},
   "outputs": [],
   "source": [
    "a['beds'] = a['beds'].astype(int)\n",
    "a['baths'] = a['baths'].astype(int)"
   ]
  },
  {
   "cell_type": "code",
   "execution_count": 47,
   "id": "fa3c8e6b",
   "metadata": {
    "scrolled": true
   },
   "outputs": [
    {
     "data": {
      "text/plain": [
       "beds     3.051949\n",
       "baths    1.761445\n",
       "dtype: float64"
      ]
     },
     "execution_count": 47,
     "metadata": {},
     "output_type": "execute_result"
    }
   ],
   "source": [
    "a.mean()"
   ]
  },
  {
   "cell_type": "code",
   "execution_count": 48,
   "id": "0d9dab1e",
   "metadata": {
    "scrolled": true
   },
   "outputs": [
    {
     "data": {
      "text/html": [
       "<div>\n",
       "<style scoped>\n",
       "    .dataframe tbody tr th:only-of-type {\n",
       "        vertical-align: middle;\n",
       "    }\n",
       "\n",
       "    .dataframe tbody tr th {\n",
       "        vertical-align: top;\n",
       "    }\n",
       "\n",
       "    .dataframe thead th {\n",
       "        text-align: right;\n",
       "    }\n",
       "</style>\n",
       "<table border=\"1\" class=\"dataframe\">\n",
       "  <thead>\n",
       "    <tr style=\"text-align: right;\">\n",
       "      <th></th>\n",
       "      <th>statusText</th>\n",
       "      <th>unformattedPrice</th>\n",
       "      <th>address</th>\n",
       "      <th>addressStreet</th>\n",
       "      <th>addressCity</th>\n",
       "      <th>addressState</th>\n",
       "      <th>addressZipcode</th>\n",
       "      <th>beds</th>\n",
       "      <th>baths</th>\n",
       "      <th>area</th>\n",
       "      <th>...</th>\n",
       "      <th>has3DModel</th>\n",
       "      <th>hasVideo</th>\n",
       "      <th>hasAdditionalAttributions</th>\n",
       "      <th>priceReductionStr</th>\n",
       "      <th>lotAreaRaw</th>\n",
       "      <th>priceReductionRatio</th>\n",
       "      <th>lat</th>\n",
       "      <th>long</th>\n",
       "      <th>total_rooms</th>\n",
       "      <th>price/sqft</th>\n",
       "    </tr>\n",
       "    <tr>\n",
       "      <th>homeType</th>\n",
       "      <th></th>\n",
       "      <th></th>\n",
       "      <th></th>\n",
       "      <th></th>\n",
       "      <th></th>\n",
       "      <th></th>\n",
       "      <th></th>\n",
       "      <th></th>\n",
       "      <th></th>\n",
       "      <th></th>\n",
       "      <th></th>\n",
       "      <th></th>\n",
       "      <th></th>\n",
       "      <th></th>\n",
       "      <th></th>\n",
       "      <th></th>\n",
       "      <th></th>\n",
       "      <th></th>\n",
       "      <th></th>\n",
       "      <th></th>\n",
       "      <th></th>\n",
       "    </tr>\n",
       "  </thead>\n",
       "  <tbody>\n",
       "    <tr>\n",
       "      <th>APARTMENT</th>\n",
       "      <td>4</td>\n",
       "      <td>4</td>\n",
       "      <td>4</td>\n",
       "      <td>4</td>\n",
       "      <td>4</td>\n",
       "      <td>4</td>\n",
       "      <td>4</td>\n",
       "      <td>4</td>\n",
       "      <td>4</td>\n",
       "      <td>4</td>\n",
       "      <td>...</td>\n",
       "      <td>4</td>\n",
       "      <td>4</td>\n",
       "      <td>4</td>\n",
       "      <td>4</td>\n",
       "      <td>4</td>\n",
       "      <td>4</td>\n",
       "      <td>4</td>\n",
       "      <td>4</td>\n",
       "      <td>4</td>\n",
       "      <td>4</td>\n",
       "    </tr>\n",
       "    <tr>\n",
       "      <th>CONDO</th>\n",
       "      <td>634</td>\n",
       "      <td>634</td>\n",
       "      <td>634</td>\n",
       "      <td>634</td>\n",
       "      <td>634</td>\n",
       "      <td>634</td>\n",
       "      <td>634</td>\n",
       "      <td>634</td>\n",
       "      <td>634</td>\n",
       "      <td>634</td>\n",
       "      <td>...</td>\n",
       "      <td>634</td>\n",
       "      <td>634</td>\n",
       "      <td>634</td>\n",
       "      <td>634</td>\n",
       "      <td>634</td>\n",
       "      <td>634</td>\n",
       "      <td>634</td>\n",
       "      <td>634</td>\n",
       "      <td>634</td>\n",
       "      <td>634</td>\n",
       "    </tr>\n",
       "    <tr>\n",
       "      <th>LOT</th>\n",
       "      <td>8953</td>\n",
       "      <td>8953</td>\n",
       "      <td>8953</td>\n",
       "      <td>8953</td>\n",
       "      <td>8953</td>\n",
       "      <td>8953</td>\n",
       "      <td>8953</td>\n",
       "      <td>8953</td>\n",
       "      <td>8953</td>\n",
       "      <td>8953</td>\n",
       "      <td>...</td>\n",
       "      <td>8953</td>\n",
       "      <td>8953</td>\n",
       "      <td>8953</td>\n",
       "      <td>8953</td>\n",
       "      <td>8953</td>\n",
       "      <td>8953</td>\n",
       "      <td>8953</td>\n",
       "      <td>8953</td>\n",
       "      <td>8953</td>\n",
       "      <td>8953</td>\n",
       "    </tr>\n",
       "    <tr>\n",
       "      <th>MANUFACTURED</th>\n",
       "      <td>132</td>\n",
       "      <td>132</td>\n",
       "      <td>132</td>\n",
       "      <td>132</td>\n",
       "      <td>132</td>\n",
       "      <td>132</td>\n",
       "      <td>132</td>\n",
       "      <td>132</td>\n",
       "      <td>132</td>\n",
       "      <td>132</td>\n",
       "      <td>...</td>\n",
       "      <td>132</td>\n",
       "      <td>132</td>\n",
       "      <td>132</td>\n",
       "      <td>132</td>\n",
       "      <td>132</td>\n",
       "      <td>132</td>\n",
       "      <td>132</td>\n",
       "      <td>132</td>\n",
       "      <td>132</td>\n",
       "      <td>132</td>\n",
       "    </tr>\n",
       "    <tr>\n",
       "      <th>MULTI_FAMILY</th>\n",
       "      <td>1186</td>\n",
       "      <td>1186</td>\n",
       "      <td>1186</td>\n",
       "      <td>1186</td>\n",
       "      <td>1186</td>\n",
       "      <td>1186</td>\n",
       "      <td>1186</td>\n",
       "      <td>1186</td>\n",
       "      <td>1186</td>\n",
       "      <td>1186</td>\n",
       "      <td>...</td>\n",
       "      <td>1186</td>\n",
       "      <td>1186</td>\n",
       "      <td>1186</td>\n",
       "      <td>1186</td>\n",
       "      <td>1186</td>\n",
       "      <td>1186</td>\n",
       "      <td>1186</td>\n",
       "      <td>1186</td>\n",
       "      <td>1186</td>\n",
       "      <td>1186</td>\n",
       "    </tr>\n",
       "    <tr>\n",
       "      <th>SINGLE_FAMILY</th>\n",
       "      <td>1663</td>\n",
       "      <td>1663</td>\n",
       "      <td>1663</td>\n",
       "      <td>1663</td>\n",
       "      <td>1663</td>\n",
       "      <td>1663</td>\n",
       "      <td>1663</td>\n",
       "      <td>1663</td>\n",
       "      <td>1663</td>\n",
       "      <td>1663</td>\n",
       "      <td>...</td>\n",
       "      <td>1663</td>\n",
       "      <td>1663</td>\n",
       "      <td>1663</td>\n",
       "      <td>1663</td>\n",
       "      <td>1663</td>\n",
       "      <td>1663</td>\n",
       "      <td>1663</td>\n",
       "      <td>1663</td>\n",
       "      <td>1663</td>\n",
       "      <td>1663</td>\n",
       "    </tr>\n",
       "    <tr>\n",
       "      <th>TOWNHOUSE</th>\n",
       "      <td>75</td>\n",
       "      <td>75</td>\n",
       "      <td>75</td>\n",
       "      <td>75</td>\n",
       "      <td>75</td>\n",
       "      <td>75</td>\n",
       "      <td>75</td>\n",
       "      <td>75</td>\n",
       "      <td>75</td>\n",
       "      <td>75</td>\n",
       "      <td>...</td>\n",
       "      <td>75</td>\n",
       "      <td>75</td>\n",
       "      <td>75</td>\n",
       "      <td>75</td>\n",
       "      <td>75</td>\n",
       "      <td>75</td>\n",
       "      <td>75</td>\n",
       "      <td>75</td>\n",
       "      <td>75</td>\n",
       "      <td>75</td>\n",
       "    </tr>\n",
       "  </tbody>\n",
       "</table>\n",
       "<p>7 rows × 22 columns</p>\n",
       "</div>"
      ],
      "text/plain": [
       "               statusText  unformattedPrice  address  addressStreet  \\\n",
       "homeType                                                              \n",
       "APARTMENT               4                 4        4              4   \n",
       "CONDO                 634               634      634            634   \n",
       "LOT                  8953              8953     8953           8953   \n",
       "MANUFACTURED          132               132      132            132   \n",
       "MULTI_FAMILY         1186              1186     1186           1186   \n",
       "SINGLE_FAMILY        1663              1663     1663           1663   \n",
       "TOWNHOUSE              75                75       75             75   \n",
       "\n",
       "               addressCity  addressState  addressZipcode  beds  baths  area  \\\n",
       "homeType                                                                      \n",
       "APARTMENT                4             4               4     4      4     4   \n",
       "CONDO                  634           634             634   634    634   634   \n",
       "LOT                   8953          8953            8953  8953   8953  8953   \n",
       "MANUFACTURED           132           132             132   132    132   132   \n",
       "MULTI_FAMILY          1186          1186            1186  1186   1186  1186   \n",
       "SINGLE_FAMILY         1663          1663            1663  1663   1663  1663   \n",
       "TOWNHOUSE               75            75              75    75     75    75   \n",
       "\n",
       "               ...  has3DModel  hasVideo  hasAdditionalAttributions  \\\n",
       "homeType       ...                                                    \n",
       "APARTMENT      ...           4         4                          4   \n",
       "CONDO          ...         634       634                        634   \n",
       "LOT            ...        8953      8953                       8953   \n",
       "MANUFACTURED   ...         132       132                        132   \n",
       "MULTI_FAMILY   ...        1186      1186                       1186   \n",
       "SINGLE_FAMILY  ...        1663      1663                       1663   \n",
       "TOWNHOUSE      ...          75        75                         75   \n",
       "\n",
       "               priceReductionStr  lotAreaRaw  priceReductionRatio   lat  long  \\\n",
       "homeType                                                                        \n",
       "APARTMENT                      4           4                    4     4     4   \n",
       "CONDO                        634         634                  634   634   634   \n",
       "LOT                         8953        8953                 8953  8953  8953   \n",
       "MANUFACTURED                 132         132                  132   132   132   \n",
       "MULTI_FAMILY                1186        1186                 1186  1186  1186   \n",
       "SINGLE_FAMILY               1663        1663                 1663  1663  1663   \n",
       "TOWNHOUSE                     75          75                   75    75    75   \n",
       "\n",
       "               total_rooms  price/sqft  \n",
       "homeType                                \n",
       "APARTMENT                4           4  \n",
       "CONDO                  634         634  \n",
       "LOT                   8953        8953  \n",
       "MANUFACTURED           132         132  \n",
       "MULTI_FAMILY          1186        1186  \n",
       "SINGLE_FAMILY         1663        1663  \n",
       "TOWNHOUSE               75          75  \n",
       "\n",
       "[7 rows x 22 columns]"
      ]
     },
     "execution_count": 48,
     "metadata": {},
     "output_type": "execute_result"
    }
   ],
   "source": [
    "df[df['area'] == 1737].groupby('homeType').count()"
   ]
  },
  {
   "cell_type": "markdown",
   "id": "9ce1e6c8",
   "metadata": {},
   "source": [
    "LOT appears to be the most popular home type for houses that are 1737 sq ft."
   ]
  },
  {
   "cell_type": "code",
   "execution_count": null,
   "id": "9636007e",
   "metadata": {},
   "outputs": [],
   "source": []
  }
 ],
 "metadata": {
  "kernelspec": {
   "display_name": "Python 3 (ipykernel)",
   "language": "python",
   "name": "python3"
  },
  "language_info": {
   "codemirror_mode": {
    "name": "ipython",
    "version": 3
   },
   "file_extension": ".py",
   "mimetype": "text/x-python",
   "name": "python",
   "nbconvert_exporter": "python",
   "pygments_lexer": "ipython3",
   "version": "3.8.16"
  }
 },
 "nbformat": 4,
 "nbformat_minor": 5
}
